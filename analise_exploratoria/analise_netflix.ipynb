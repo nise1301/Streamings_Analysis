{
 "cells": [
  {
   "cell_type": "markdown",
   "id": "fed0568a",
   "metadata": {},
   "source": [
    "### instalação das bibliotecas necessarias"
   ]
  },
  {
   "cell_type": "code",
   "execution_count": null,
   "id": "ea514376",
   "metadata": {},
   "outputs": [],
   "source": [
    "%pip install pandas\n",
    "%pip install numpy "
   ]
  },
  {
   "cell_type": "markdown",
   "id": "7176ffee",
   "metadata": {},
   "source": [
    "### importações das bibliotecas instaladas"
   ]
  },
  {
   "cell_type": "code",
   "execution_count": 2,
   "id": "832a7d57",
   "metadata": {},
   "outputs": [],
   "source": [
    "import pandas as pd\n",
    "import numpy as np\n",
    "import re\n",
    "from collections import Counter"
   ]
  },
  {
   "cell_type": "code",
   "execution_count": 3,
   "id": "bdacffcb",
   "metadata": {},
   "outputs": [],
   "source": [
    "df_netflix = pd.read_csv(\"C:/Users/nise_/OneDrive/Documentos/Digital College/Python/DA_18/streaming/Dados/data_netflix.csv\")"
   ]
  },
  {
   "cell_type": "code",
   "execution_count": 88,
   "id": "19caaa9a",
   "metadata": {},
   "outputs": [
    {
     "data": {
      "text/html": [
       "<div>\n",
       "<style scoped>\n",
       "    .dataframe tbody tr th:only-of-type {\n",
       "        vertical-align: middle;\n",
       "    }\n",
       "\n",
       "    .dataframe tbody tr th {\n",
       "        vertical-align: top;\n",
       "    }\n",
       "\n",
       "    .dataframe thead th {\n",
       "        text-align: right;\n",
       "    }\n",
       "</style>\n",
       "<table border=\"1\" class=\"dataframe\">\n",
       "  <thead>\n",
       "    <tr style=\"text-align: right;\">\n",
       "      <th></th>\n",
       "      <th>title</th>\n",
       "      <th>type</th>\n",
       "      <th>genres</th>\n",
       "      <th>releaseYear</th>\n",
       "      <th>imdbId</th>\n",
       "      <th>imdbAverageRating</th>\n",
       "      <th>imdbNumVotes</th>\n",
       "      <th>availableCountries</th>\n",
       "    </tr>\n",
       "  </thead>\n",
       "  <tbody>\n",
       "    <tr>\n",
       "      <th>0</th>\n",
       "      <td>Ariel</td>\n",
       "      <td>movie</td>\n",
       "      <td>Comedy, Crime, Romance</td>\n",
       "      <td>1988.0</td>\n",
       "      <td>tt0094675</td>\n",
       "      <td>7.4</td>\n",
       "      <td>9188.0</td>\n",
       "      <td>NaN</td>\n",
       "    </tr>\n",
       "    <tr>\n",
       "      <th>1</th>\n",
       "      <td>Shadows in Paradise</td>\n",
       "      <td>movie</td>\n",
       "      <td>Comedy, Drama, Music</td>\n",
       "      <td>1986.0</td>\n",
       "      <td>tt0092149</td>\n",
       "      <td>7.4</td>\n",
       "      <td>8014.0</td>\n",
       "      <td>NaN</td>\n",
       "    </tr>\n",
       "    <tr>\n",
       "      <th>2</th>\n",
       "      <td>Forrest Gump</td>\n",
       "      <td>movie</td>\n",
       "      <td>Drama, Romance</td>\n",
       "      <td>1994.0</td>\n",
       "      <td>tt0109830</td>\n",
       "      <td>8.8</td>\n",
       "      <td>2381047.0</td>\n",
       "      <td>NaN</td>\n",
       "    </tr>\n",
       "    <tr>\n",
       "      <th>3</th>\n",
       "      <td>American Beauty</td>\n",
       "      <td>movie</td>\n",
       "      <td>Drama</td>\n",
       "      <td>1999.0</td>\n",
       "      <td>tt0169547</td>\n",
       "      <td>8.3</td>\n",
       "      <td>1249470.0</td>\n",
       "      <td>NaN</td>\n",
       "    </tr>\n",
       "    <tr>\n",
       "      <th>4</th>\n",
       "      <td>The Fifth Element</td>\n",
       "      <td>movie</td>\n",
       "      <td>Action, Adventure, Sci-Fi</td>\n",
       "      <td>1997.0</td>\n",
       "      <td>tt0119116</td>\n",
       "      <td>7.6</td>\n",
       "      <td>527520.0</td>\n",
       "      <td>NaN</td>\n",
       "    </tr>\n",
       "    <tr>\n",
       "      <th>...</th>\n",
       "      <td>...</td>\n",
       "      <td>...</td>\n",
       "      <td>...</td>\n",
       "      <td>...</td>\n",
       "      <td>...</td>\n",
       "      <td>...</td>\n",
       "      <td>...</td>\n",
       "      <td>...</td>\n",
       "    </tr>\n",
       "    <tr>\n",
       "      <th>21811</th>\n",
       "      <td>NaN</td>\n",
       "      <td>tv</td>\n",
       "      <td>NaN</td>\n",
       "      <td>2009.0</td>\n",
       "      <td>NaN</td>\n",
       "      <td>NaN</td>\n",
       "      <td>NaN</td>\n",
       "      <td>NaN</td>\n",
       "    </tr>\n",
       "    <tr>\n",
       "      <th>21812</th>\n",
       "      <td>Cheat: Unfinished Business</td>\n",
       "      <td>tv</td>\n",
       "      <td>Reality-TV</td>\n",
       "      <td>2025.0</td>\n",
       "      <td>tt32249973</td>\n",
       "      <td>5.0</td>\n",
       "      <td>191.0</td>\n",
       "      <td>NaN</td>\n",
       "    </tr>\n",
       "    <tr>\n",
       "      <th>21813</th>\n",
       "      <td>NaN</td>\n",
       "      <td>tv</td>\n",
       "      <td>Animation, Crime, Mystery</td>\n",
       "      <td>1996.0</td>\n",
       "      <td>NaN</td>\n",
       "      <td>NaN</td>\n",
       "      <td>NaN</td>\n",
       "      <td>NaN</td>\n",
       "    </tr>\n",
       "    <tr>\n",
       "      <th>21814</th>\n",
       "      <td>NaN</td>\n",
       "      <td>tv</td>\n",
       "      <td>NaN</td>\n",
       "      <td>2014.0</td>\n",
       "      <td>NaN</td>\n",
       "      <td>NaN</td>\n",
       "      <td>NaN</td>\n",
       "      <td>NaN</td>\n",
       "    </tr>\n",
       "    <tr>\n",
       "      <th>21815</th>\n",
       "      <td>Entrapped</td>\n",
       "      <td>tv</td>\n",
       "      <td>Crime, Drama, Mystery</td>\n",
       "      <td>2022.0</td>\n",
       "      <td>tt21964626</td>\n",
       "      <td>7.0</td>\n",
       "      <td>4003.0</td>\n",
       "      <td>NaN</td>\n",
       "    </tr>\n",
       "  </tbody>\n",
       "</table>\n",
       "<p>21816 rows × 8 columns</p>\n",
       "</div>"
      ],
      "text/plain": [
       "                            title   type                     genres  \\\n",
       "0                           Ariel  movie     Comedy, Crime, Romance   \n",
       "1             Shadows in Paradise  movie       Comedy, Drama, Music   \n",
       "2                    Forrest Gump  movie             Drama, Romance   \n",
       "3                 American Beauty  movie                      Drama   \n",
       "4               The Fifth Element  movie  Action, Adventure, Sci-Fi   \n",
       "...                           ...    ...                        ...   \n",
       "21811                         NaN     tv                        NaN   \n",
       "21812  Cheat: Unfinished Business     tv                 Reality-TV   \n",
       "21813                         NaN     tv  Animation, Crime, Mystery   \n",
       "21814                         NaN     tv                        NaN   \n",
       "21815                   Entrapped     tv      Crime, Drama, Mystery   \n",
       "\n",
       "       releaseYear      imdbId  imdbAverageRating  imdbNumVotes  \\\n",
       "0           1988.0   tt0094675                7.4        9188.0   \n",
       "1           1986.0   tt0092149                7.4        8014.0   \n",
       "2           1994.0   tt0109830                8.8     2381047.0   \n",
       "3           1999.0   tt0169547                8.3     1249470.0   \n",
       "4           1997.0   tt0119116                7.6      527520.0   \n",
       "...            ...         ...                ...           ...   \n",
       "21811       2009.0         NaN                NaN           NaN   \n",
       "21812       2025.0  tt32249973                5.0         191.0   \n",
       "21813       1996.0         NaN                NaN           NaN   \n",
       "21814       2014.0         NaN                NaN           NaN   \n",
       "21815       2022.0  tt21964626                7.0        4003.0   \n",
       "\n",
       "      availableCountries  \n",
       "0                    NaN  \n",
       "1                    NaN  \n",
       "2                    NaN  \n",
       "3                    NaN  \n",
       "4                    NaN  \n",
       "...                  ...  \n",
       "21811                NaN  \n",
       "21812                NaN  \n",
       "21813                NaN  \n",
       "21814                NaN  \n",
       "21815                NaN  \n",
       "\n",
       "[21816 rows x 8 columns]"
      ]
     },
     "execution_count": 88,
     "metadata": {},
     "output_type": "execute_result"
    }
   ],
   "source": [
    "df_netflix"
   ]
  },
  {
   "cell_type": "code",
   "execution_count": 56,
   "id": "c46e80bc",
   "metadata": {},
   "outputs": [
    {
     "data": {
      "text/html": [
       "<div>\n",
       "<style scoped>\n",
       "    .dataframe tbody tr th:only-of-type {\n",
       "        vertical-align: middle;\n",
       "    }\n",
       "\n",
       "    .dataframe tbody tr th {\n",
       "        vertical-align: top;\n",
       "    }\n",
       "\n",
       "    .dataframe thead th {\n",
       "        text-align: right;\n",
       "    }\n",
       "</style>\n",
       "<table border=\"1\" class=\"dataframe\">\n",
       "  <thead>\n",
       "    <tr style=\"text-align: right;\">\n",
       "      <th></th>\n",
       "      <th>releaseYear</th>\n",
       "      <th>imdbAverageRating</th>\n",
       "      <th>imdbNumVotes</th>\n",
       "    </tr>\n",
       "  </thead>\n",
       "  <tbody>\n",
       "    <tr>\n",
       "      <th>count</th>\n",
       "      <td>21776.000000</td>\n",
       "      <td>19987.000000</td>\n",
       "      <td>1.998700e+04</td>\n",
       "    </tr>\n",
       "    <tr>\n",
       "      <th>mean</th>\n",
       "      <td>2013.358927</td>\n",
       "      <td>6.400070</td>\n",
       "      <td>3.226471e+04</td>\n",
       "    </tr>\n",
       "    <tr>\n",
       "      <th>std</th>\n",
       "      <td>14.310762</td>\n",
       "      <td>1.092932</td>\n",
       "      <td>1.219602e+05</td>\n",
       "    </tr>\n",
       "    <tr>\n",
       "      <th>min</th>\n",
       "      <td>1913.000000</td>\n",
       "      <td>1.000000</td>\n",
       "      <td>5.000000e+00</td>\n",
       "    </tr>\n",
       "    <tr>\n",
       "      <th>25%</th>\n",
       "      <td>2011.000000</td>\n",
       "      <td>5.700000</td>\n",
       "      <td>3.300000e+02</td>\n",
       "    </tr>\n",
       "    <tr>\n",
       "      <th>50%</th>\n",
       "      <td>2018.000000</td>\n",
       "      <td>6.500000</td>\n",
       "      <td>1.616000e+03</td>\n",
       "    </tr>\n",
       "    <tr>\n",
       "      <th>75%</th>\n",
       "      <td>2022.000000</td>\n",
       "      <td>7.200000</td>\n",
       "      <td>1.042050e+04</td>\n",
       "    </tr>\n",
       "    <tr>\n",
       "      <th>max</th>\n",
       "      <td>2025.000000</td>\n",
       "      <td>9.800000</td>\n",
       "      <td>3.046940e+06</td>\n",
       "    </tr>\n",
       "  </tbody>\n",
       "</table>\n",
       "</div>"
      ],
      "text/plain": [
       "        releaseYear  imdbAverageRating  imdbNumVotes\n",
       "count  21776.000000       19987.000000  1.998700e+04\n",
       "mean    2013.358927           6.400070  3.226471e+04\n",
       "std       14.310762           1.092932  1.219602e+05\n",
       "min     1913.000000           1.000000  5.000000e+00\n",
       "25%     2011.000000           5.700000  3.300000e+02\n",
       "50%     2018.000000           6.500000  1.616000e+03\n",
       "75%     2022.000000           7.200000  1.042050e+04\n",
       "max     2025.000000           9.800000  3.046940e+06"
      ]
     },
     "execution_count": 56,
     "metadata": {},
     "output_type": "execute_result"
    }
   ],
   "source": [
    "df_netflix.describe()"
   ]
  },
  {
   "cell_type": "code",
   "execution_count": 57,
   "id": "3f626666",
   "metadata": {},
   "outputs": [
    {
     "name": "stdout",
     "output_type": "stream",
     "text": [
      "<class 'pandas.core.frame.DataFrame'>\n",
      "RangeIndex: 21816 entries, 0 to 21815\n",
      "Data columns (total 8 columns):\n",
      " #   Column              Non-Null Count  Dtype  \n",
      "---  ------              --------------  -----  \n",
      " 0   title               21085 non-null  object \n",
      " 1   type                21816 non-null  object \n",
      " 2   genres              21444 non-null  object \n",
      " 3   releaseYear         21776 non-null  float64\n",
      " 4   imdbId              20170 non-null  object \n",
      " 5   imdbAverageRating   19987 non-null  float64\n",
      " 6   imdbNumVotes        19987 non-null  float64\n",
      " 7   availableCountries  158 non-null    object \n",
      "dtypes: float64(3), object(5)\n",
      "memory usage: 1.3+ MB\n"
     ]
    }
   ],
   "source": [
    "df_netflix.info()"
   ]
  },
  {
   "cell_type": "code",
   "execution_count": 4,
   "id": "5551735d",
   "metadata": {},
   "outputs": [
    {
     "data": {
      "text/plain": [
       "title                   731\n",
       "type                      0\n",
       "genres                  372\n",
       "releaseYear              40\n",
       "imdbId                 1646\n",
       "imdbAverageRating      1829\n",
       "imdbNumVotes           1829\n",
       "availableCountries    21658\n",
       "dtype: int64"
      ]
     },
     "execution_count": 4,
     "metadata": {},
     "output_type": "execute_result"
    }
   ],
   "source": [
    "df_netflix.isnull().sum()"
   ]
  },
  {
   "cell_type": "markdown",
   "id": "68d2c387",
   "metadata": {},
   "source": [
    "#### =======excluindo linhas sem titulo==========="
   ]
  },
  {
   "cell_type": "code",
   "execution_count": 5,
   "id": "bc6ae921",
   "metadata": {},
   "outputs": [],
   "source": [
    "df_netflix.dropna(subset=['title'], inplace=True)"
   ]
  },
  {
   "cell_type": "markdown",
   "id": "065f745c",
   "metadata": {},
   "source": [
    "#### ========tratamento de nulos de genero ============="
   ]
  },
  {
   "cell_type": "code",
   "execution_count": 6,
   "id": "c8be513d",
   "metadata": {},
   "outputs": [],
   "source": [
    "#preencher os NaN de genres com \"Não informado\"\n",
    "df_netflix['genres'] = df_netflix['genres'].fillna('Não informado')"
   ]
  },
  {
   "cell_type": "markdown",
   "id": "cb0de163",
   "metadata": {},
   "source": [
    "### =====tratamento de nulos de imdb ======="
   ]
  },
  {
   "cell_type": "code",
   "execution_count": 7,
   "id": "3cca7643",
   "metadata": {},
   "outputs": [
    {
     "name": "stdout",
     "output_type": "stream",
     "text": [
      "Registros sem imdbId: 915\n",
      "Registros sem rating: 1098\n",
      "Dos que não têm ID, quantos também não têm rating: 915\n"
     ]
    }
   ],
   "source": [
    "# os NaN em imdbId e imdbAverageRating podem ser um problema se for analisar a avaliação dos filmes, então preciso ver se o NaN em um coincide com NaN na outra\n",
    "\n",
    "# Investigar a situação dos NaN\n",
    "print(\"Registros sem imdbId:\", df_netflix['imdbId'].isna().sum())\n",
    "print(\"Registros sem rating:\", df_netflix['imdbAverageRating'].isna().sum())\n",
    "\n",
    "# Ver se NaN em imdbId implica em NaN em rating\n",
    "mask_sem_id = df_netflix['imdbId'].isna()\n",
    "print(\"Dos que não têm ID, quantos também não têm rating:\", \n",
    "      df_netflix[mask_sem_id]['imdbAverageRating'].isna().sum())"
   ]
  },
  {
   "cell_type": "code",
   "execution_count": 8,
   "id": "f21fb1e3",
   "metadata": {},
   "outputs": [
    {
     "name": "stdout",
     "output_type": "stream",
     "text": [
      "Registros com ID mas sem avaliação: 183\n",
      "\n",
      "Exemplos de conteúdo com ID mas sem avaliação:\n",
      "                                         title      imdbId  releaseYear\n",
      "3048                          Queer My Friends  tt28626426       2023.0\n",
      "3135                            Adel Mesh Adel  tt36596034       2024.0\n",
      "3164                                   Katinka  tt14281786       2017.0\n",
      "4711  Ruy, el caballero de la espada de madera  tt27518740       2002.0\n",
      "6258                       De Fil en Aiguilles   tt3613444       2013.0\n"
     ]
    }
   ],
   "source": [
    "# Investigar os casos com ID mas sem avaliação\n",
    "tem_id_sem_rating = df_netflix['imdbId'].notna() & df_netflix['imdbAverageRating'].isna()\n",
    "print(\"Registros com ID mas sem avaliação:\", tem_id_sem_rating.sum())\n",
    "\n",
    "# Ver alguns exemplos desses casos\n",
    "print(\"\\nExemplos de conteúdo com ID mas sem avaliação:\")\n",
    "exemplos = df_netflix[tem_id_sem_rating][['title', 'imdbId', 'releaseYear']].head()\n",
    "print(exemplos)"
   ]
  },
  {
   "cell_type": "code",
   "execution_count": 9,
   "id": "68868ff5",
   "metadata": {},
   "outputs": [],
   "source": [
    "#preencher os NaN de imdbid com \"Não informado\"\n",
    "df_netflix['imdbId'] = df_netflix['imdbId'].fillna('Não informado')"
   ]
  },
  {
   "cell_type": "markdown",
   "id": "845342ce",
   "metadata": {},
   "source": [
    "#### Não faz sentido que um filme que não foi avaliado tenha media de avaliações, então a correlação que sobra é de avaliação com media de avaliação, se tirar os nulos de avaliação, somem os da media de avaliação"
   ]
  },
  {
   "cell_type": "markdown",
   "id": "c56b0215",
   "metadata": {},
   "source": [
    "#### Usando a mediana da avaliação dos filmes de um determinado gênero pra preencher os NaN da avaliação no imdb "
   ]
  },
  {
   "cell_type": "markdown",
   "id": "554836b0",
   "metadata": {},
   "source": [
    "A função impute_ratings_by_genre_decade(df_netflix) serve para preencher (imputar) valores ausentes (NaN) na coluna de avaliações médias do IMDb (imdbAverageRating) do DataFrame da Netflix, usando a mediana das avaliações de filmes do mesmo gênero e da mesma década de lançamento.\n",
    "\n",
    "* Passos principais da função:\n",
    "    * Cópia do DataFrame: Cria uma cópia do DataFrame original para não alterar os dados originais.\n",
    "\n",
    "    * Gênero primário: Extrai o primeiro gênero listado em genres para cada filme       (considerando que um filme pode ter vários gêneros separados por vírgula).\n",
    "\n",
    "    * Década: Calcula a década de lançamento a partir do ano (releaseYear), por exemplo, 1995 vira 1990.\n",
    "\n",
    "    * Flag de rating original: Cria uma coluna indicando se o filme já tinha avaliação (imdbAverageRating) ou não.\n",
    "\n",
    "    * Mediana por gênero e década: Calcula a mediana das avaliações para cada combinação de gênero primário e década, usando apenas os filmes que já têm avaliação.\n",
    "\n",
    "    * Fallbacks: Se não houver mediana para uma combinação específica, usa a mediana do gênero. Se ainda assim não houver, usa a mediana global de todos os filmes avaliados.\n",
    "\n",
    "* Objetivo: Preencher os valores ausentes de avaliação de forma mais contextualizada, levando em conta o gênero e a época do filme, tornando a análise posterior mais robusta e realista."
   ]
  },
  {
   "cell_type": "code",
   "execution_count": null,
   "id": "826ff197",
   "metadata": {},
   "outputs": [],
   "source": [
    "def impute_ratings_by_genre_decade(df):\n",
    "    \"\"\"\n",
    "    Imputa valores NaN de imdbAverageRating usando mediana por gênero primário + década\n",
    "    \n",
    "    Args:\n",
    "        df: DataFrame com colunas 'genres', 'releaseYear', 'imdbAverageRating'\n",
    "    \n",
    "    Returns:\n",
    "        DataFrame com ratings imputados e colunas adicionais para rastreamento\n",
    "    \"\"\"\n",
    "    # Extrair gênero primário (primeiro da lista)\n",
    "    df['primaryGenre'] = df['genres'].fillna('Unknown').str.split(',').str[0].str.strip()\n",
    "\n",
    "    # Extrair década\n",
    "    df['decade'] = (df['releaseYear'] // 10) * 10\n",
    "\n",
    "    # Flag para indicar se tinha rating original\n",
    "    df['hasOriginalRating'] = df['imdbAverageRating'].notna()\n",
    "\n",
    "    # Calcular medianas por gênero + década (apenas filmes COM rating)\n",
    "    films_with_rating = df[df['hasOriginalRating']]\n",
    "    \n",
    "    medians_genre_decade = (films_with_rating.groupby(['primaryGenre', 'decade'])['imdbAverageRating'].agg(['median', 'count']).reset_index())\n",
    "\n",
    "    # Calcular medianas só por gênero (fallback)\n",
    "    medians_genre = (films_with_rating.groupby('primaryGenre')['imdbAverageRating'].median().reset_index())\n",
    "    \n",
    "    # Mediana global (último recurso)\n",
    "    global_median = films_with_rating['imdbAverageRating'].median()\n",
    "\n",
    "    # Função aninhada para imputar um filme específico\n",
    "    def impute_single_film(row):\n",
    "        if row['hasOriginalRating']:\n",
    "            return pd.Series({\n",
    "                'imdbAverageRating': row['imdbAverageRating'],\n",
    "                'ratingImputed': False,\n",
    "                'imputationSource': 'original'\n",
    "            })\n",
    "        \n",
    "        # Tentar gênero + década primeiro\n",
    "        genre_decade_match = medians_genre_decade[\n",
    "            (medians_genre_decade['primaryGenre'] == row['primaryGenre']) & \n",
    "            (medians_genre_decade['decade'] == row['decade'])\n",
    "        ]\n",
    "        \n",
    "        if not genre_decade_match.empty:\n",
    "            median_val = genre_decade_match.iloc[0]['median']\n",
    "            count = genre_decade_match.iloc[0]['count']\n",
    "            return pd.Series({\n",
    "                'imdbAverageRating': median_val,\n",
    "                'ratingImputed': True,\n",
    "                'imputationSource': f\"{row['primaryGenre']} {int(row['decade'])}s ({count} filmes)\"\n",
    "            })\n",
    "        \n",
    "        # Fallback: só gênero\n",
    "        genre_match = medians_genre[medians_genre['primaryGenre'] == row['primaryGenre']]\n",
    "        \n",
    "        if not genre_match.empty:\n",
    "            median_val = genre_match.iloc[0]['imdbAverageRating']\n",
    "            return pd.Series({\n",
    "                'imdbAverageRating': median_val,\n",
    "                'ratingImputed': True,\n",
    "                'imputationSource': f\"{row['primaryGenre']} geral\"\n",
    "            })\n",
    "        \n",
    "        # Último recurso: mediana global\n",
    "        return pd.Series({\n",
    "            'imdbAverageRating': global_median,\n",
    "            'ratingImputed': True,\n",
    "            'imputationSource': \"mediana global\"\n",
    "        })\n",
    "\n",
    "    # Aplicar imputação\n",
    "    imputation_results = df.apply(impute_single_film, axis=1)\n",
    "\n",
    "    # Combinar resultados\n",
    "    df['imdbAverageRating'] = imputation_results['imdbAverageRating']\n",
    "    df['ratingImputed'] = imputation_results['ratingImputed']\n",
    "    df['imputationSource'] = imputation_results['imputationSource']\n",
    "\n",
    "    return df, medians_genre_decade, global_median"
   ]
  },
  {
   "cell_type": "code",
   "execution_count": 11,
   "id": "a773736f",
   "metadata": {},
   "outputs": [],
   "source": [
    "# APLICAR A IMPUTAÇÃO\n",
    "df_imputed, medians_table, global_median = impute_ratings_by_genre_decade(df_netflix)"
   ]
  },
  {
   "cell_type": "code",
   "execution_count": 12,
   "id": "aadbf1da",
   "metadata": {},
   "outputs": [
    {
     "name": "stdout",
     "output_type": "stream",
     "text": [
      "Valores imputados: 1098\n"
     ]
    }
   ],
   "source": [
    "imputed_count = df_imputed['ratingImputed'].sum()\n",
    "print(f\"Valores imputados: {imputed_count}\")"
   ]
  },
  {
   "cell_type": "code",
   "execution_count": 13,
   "id": "d92d63b3",
   "metadata": {},
   "outputs": [
    {
     "name": "stdout",
     "output_type": "stream",
     "text": [
      " 1. \"Ariel\" (1988)\n",
      "    Gênero: Comedy\n",
      "    Avaliação imputada: 7.4\n",
      "    Fonte: original\n",
      "\n",
      " 2. \"Shadows in Paradise\" (1986)\n",
      "    Gênero: Comedy\n",
      "    Avaliação imputada: 7.4\n",
      "    Fonte: original\n",
      "\n",
      " 3. \"Forrest Gump\" (1994)\n",
      "    Gênero: Drama\n",
      "    Avaliação imputada: 8.8\n",
      "    Fonte: original\n",
      "\n",
      " 4. \"American Beauty\" (1999)\n",
      "    Gênero: Drama\n",
      "    Avaliação imputada: 8.3\n",
      "    Fonte: original\n",
      "\n",
      " 5. \"The Fifth Element\" (1997)\n",
      "    Gênero: Action\n",
      "    Avaliação imputada: 7.6\n",
      "    Fonte: original\n",
      "\n",
      " 6. \"Jarhead\" (2005)\n",
      "    Gênero: Biography\n",
      "    Avaliação imputada: 7.0\n",
      "    Fonte: original\n",
      "\n",
      " 7. \"Unforgiven\" (1992)\n",
      "    Gênero: Drama\n",
      "    Avaliação imputada: 8.2\n",
      "    Fonte: original\n",
      "\n",
      " 8. \"Eternal Sunshine of the Spotless Mind\" (2004)\n",
      "    Gênero: Drama\n",
      "    Avaliação imputada: 8.3\n",
      "    Fonte: original\n",
      "\n"
     ]
    }
   ],
   "source": [
    "# Mostrar alguns exemplos organizados\n",
    "for i, (_, filme) in enumerate(df_imputed.head(8).iterrows()):\n",
    "    print(f\"{i+1:2d}. \\\"{filme['title']}\\\" ({int(filme['releaseYear'])})\")\n",
    "    print(f\"    Gênero: {filme['primaryGenre']}\")\n",
    "    print(f\"    Avaliação imputada: {filme['imdbAverageRating']:.1f}\")\n",
    "    print(f\"    Fonte: {filme['imputationSource']}\")\n",
    "    print()"
   ]
  },
  {
   "cell_type": "markdown",
   "id": "a124169f",
   "metadata": {},
   "source": [
    "#### A coluna availableCountries tem NaN na maioria das linhas, significa que a maioria dos titulos não está com seus paises disponiveis descritos, isso pode ser um case especifico mas pra nossa realidade não acredito que seja relevante. "
   ]
  },
  {
   "cell_type": "code",
   "execution_count": 14,
   "id": "9dd721e4",
   "metadata": {},
   "outputs": [],
   "source": [
    "# Axis 1 para colunas, axis 0 para linhas\n",
    "df_netflix = df_netflix.drop(['availableCountries'], axis=1)"
   ]
  },
  {
   "cell_type": "code",
   "execution_count": 102,
   "id": "f4f17d16",
   "metadata": {},
   "outputs": [
    {
     "data": {
      "text/plain": [
       "title                   0\n",
       "type                    0\n",
       "genres                  0\n",
       "releaseYear             3\n",
       "imdbId                  0\n",
       "imdbAverageRating       0\n",
       "imdbNumVotes         1098\n",
       "primaryGenre            0\n",
       "decade                  3\n",
       "hasOriginalRating       0\n",
       "ratingImputed           0\n",
       "imputationSource        0\n",
       "dtype: int64"
      ]
     },
     "execution_count": 102,
     "metadata": {},
     "output_type": "execute_result"
    }
   ],
   "source": [
    "df_netflix.isnull().sum()"
   ]
  },
  {
   "cell_type": "markdown",
   "id": "f8087f29",
   "metadata": {},
   "source": [
    "#### vamos ver quem são esses 3 filmes que ainda sobraram entre os nulls em ano de lançamento"
   ]
  },
  {
   "cell_type": "code",
   "execution_count": 15,
   "id": "f8cc5762",
   "metadata": {},
   "outputs": [
    {
     "name": "stdout",
     "output_type": "stream",
     "text": [
      "                                 title   type             genres  \\\n",
      "12661  Rudra: Secret of the Black Moon  movie      Não informado   \n",
      "16302       aiko Love Like Aloha vol.7  movie      Não informado   \n",
      "20685     3-nen Z-gumi Ginpachi Sensei     tv  Animation, Comedy   \n",
      "\n",
      "              imdbId  imdbAverageRating  \n",
      "12661  Não informado                8.6  \n",
      "16302  Não informado                8.6  \n",
      "20685     tt27182605                7.0  \n"
     ]
    }
   ],
   "source": [
    "# Ver quais são os 3 filmes problemáticos\n",
    "nulls_year = df_netflix[df_netflix['releaseYear'].isna()]\n",
    "print(nulls_year[['title', 'type', 'genres', 'imdbId', 'imdbAverageRating']])"
   ]
  },
  {
   "cell_type": "code",
   "execution_count": 16,
   "id": "9ec8354c",
   "metadata": {},
   "outputs": [],
   "source": [
    "#### não são filmes significativos e tentar tratar vai acbar poluindo a analise\n",
    "df_netflix = df_netflix.dropna(subset=['releaseYear'])"
   ]
  },
  {
   "cell_type": "code",
   "execution_count": 17,
   "id": "f29a6b90",
   "metadata": {},
   "outputs": [],
   "source": [
    "#### só depois de remover todos os NaN é que posso converter o releaseYear para int\n",
    "df_netflix['releaseYear'] = df_netflix['releaseYear'].astype(int)"
   ]
  },
  {
   "cell_type": "markdown",
   "id": "b1af262e",
   "metadata": {},
   "source": [
    "#### me resta o problema do demais imdbNumVotes ainda NaN, além das colunas extras criadas para o tratamento e que agora não tem mais função"
   ]
  },
  {
   "cell_type": "code",
   "execution_count": 19,
   "id": "a77c1616",
   "metadata": {},
   "outputs": [
    {
     "name": "stdout",
     "output_type": "stream",
     "text": [
      "🔧 TRATANDO imdbNumVotes PARA FILMES IMPUTADOS\n",
      "==================================================\n"
     ]
    }
   ],
   "source": [
    "# ==========================================\n",
    "# LIMPEZA FINAL - REMOVER BAGAGEM TÉCNICA\n",
    "# ==========================================\n",
    "\n",
    "# 1. TRATAR imdbNumVotes para filmes imputados\n",
    "print(\"🔧 TRATANDO imdbNumVotes PARA FILMES IMPUTADOS\")\n",
    "print(\"=\" * 50)\n",
    "\n",
    "# Para filmes com rating imputado, vamos usar a mediana de votos do mesmo gênero/década\n",
    "films_with_votes = df_netflix[df_netflix['imdbNumVotes'].notna()]\n",
    "\n",
    "# Calcular mediana de votos por gênero primário\n",
    "median_votes_by_genre = (films_with_votes\n",
    "                        .groupby('primaryGenre')['imdbNumVotes']\n",
    "                        .median()\n",
    "                        .to_dict())\n",
    "\n",
    "# Mediana global como fallback\n",
    "global_median_votes = films_with_votes['imdbNumVotes'].median()\n",
    "\n",
    "# Função para imputar votos\n",
    "def impute_votes(row):\n",
    "    if pd.notna(row['imdbNumVotes']):\n",
    "        return row['imdbNumVotes']\n",
    "    \n",
    "    # Se tem rating imputado, usar mediana do gênero\n",
    "    if row['ratingImputed']:\n",
    "        genre_median = median_votes_by_genre.get(row['primaryGenre'])\n",
    "        if genre_median:\n",
    "            return genre_median\n",
    "        else:\n",
    "            return global_median_votes\n",
    "    \n",
    "    return row['imdbNumVotes']\n",
    "\n"
   ]
  },
  {
   "cell_type": "code",
   "execution_count": 20,
   "id": "66ea9774",
   "metadata": {},
   "outputs": [],
   "source": [
    "# Aplicar imputação de votos\n",
    "df_netflix['imdbNumVotes'] = df_netflix.apply(impute_votes, axis=1)\n"
   ]
  },
  {
   "cell_type": "code",
   "execution_count": 21,
   "id": "2dfea804",
   "metadata": {},
   "outputs": [
    {
     "data": {
      "text/plain": [
       "title                0\n",
       "type                 0\n",
       "genres               0\n",
       "releaseYear          0\n",
       "imdbId               0\n",
       "imdbAverageRating    0\n",
       "imdbNumVotes         0\n",
       "primaryGenre         0\n",
       "decade               0\n",
       "hasOriginalRating    0\n",
       "ratingImputed        0\n",
       "imputationSource     0\n",
       "dtype: int64"
      ]
     },
     "execution_count": 21,
     "metadata": {},
     "output_type": "execute_result"
    }
   ],
   "source": [
    "df_netflix.isnull().sum()"
   ]
  },
  {
   "cell_type": "code",
   "execution_count": 22,
   "id": "e792e15a",
   "metadata": {},
   "outputs": [
    {
     "name": "stdout",
     "output_type": "stream",
     "text": [
      "title                 object\n",
      "type                  object\n",
      "genres                object\n",
      "releaseYear            int64\n",
      "imdbId                object\n",
      "imdbAverageRating    float64\n",
      "imdbNumVotes           int64\n",
      "primaryGenre          object\n",
      "decade               float64\n",
      "hasOriginalRating       bool\n",
      "ratingImputed           bool\n",
      "imputationSource      object\n",
      "dtype: object\n"
     ]
    }
   ],
   "source": [
    "df_netflix['imdbNumVotes'] = df_netflix['imdbNumVotes'].astype(int)\n",
    "# Verificar se a conversão foi bem-sucedida\n",
    "print(df_netflix.dtypes)"
   ]
  },
  {
   "cell_type": "markdown",
   "id": "6e0d4f08",
   "metadata": {},
   "source": [
    "#### =====Ideia de Tratamento pra ML ======="
   ]
  },
  {
   "cell_type": "code",
   "execution_count": 24,
   "id": "e1ec478c",
   "metadata": {},
   "outputs": [],
   "source": [
    "# ==========================================\n",
    "# CRIANDO DATA QUALITY SCORE\n",
    "# ==========================================\n",
    "\n",
    "def calculate_data_quality_score(df):\n",
    "    \"\"\"\n",
    "    Calcula score de qualidade dos dados (0-1) baseado em campos imputados\n",
    "    1.0 = dados 100% originais\n",
    "    0.0 = todos os dados principais foram imputados\n",
    "    \"\"\"\n",
    "    \n",
    "    # Campos principais para avaliar qualidade\n",
    "    main_fields = ['title', 'genres', 'releaseYear', 'imdbId', 'imdbAverageRating', 'imdbNumVotes']\n",
    "    \n",
    "    # Conta quantos campos foram imputados/tratados por linha\n",
    "    df['imputed_fields_count'] = 0\n",
    "    df['total_main_fields'] = len(main_fields)\n",
    "    \n",
    "    # Verifica cada campo tratado\n",
    "    # Title: teve que dropar, não está mais no dataset\n",
    "    \n",
    "    # Genres: se era NaN e virou \"Não informado\"\n",
    "    df.loc[df['genres'] == 'Não informado', 'imputed_fields_count'] += 1\n",
    "    \n",
    "    # ImdbId: se era NaN e virou \"Não informado\"  \n",
    "    df.loc[df['imdbId'] == 'Não informado', 'imputed_fields_count'] += 1\n",
    "    \n",
    "    # Rating: se foi imputado (você já tem essa flag!)\n",
    "    df.loc[df['ratingImputed'] == True, 'imputed_fields_count'] += 1\n",
    "    \n",
    "    # Votes: se o rating foi imputado, os votes também foram\n",
    "    df.loc[df['ratingImputed'] == True, 'imputed_fields_count'] += 1\n",
    "    \n",
    "    # Calcula o score (inverte para que 1.0 = melhor qualidade)\n",
    "    df['data_quality_score'] = 1.0 - (df['imputed_fields_count'] / df['total_main_fields'])\n",
    "    \n",
    "    # Categoriza a qualidade\n",
    "    df['quality_category'] = pd.cut(\n",
    "        df['data_quality_score'], \n",
    "        bins=[0, 0.5, 0.8, 1.0], \n",
    "        labels=['Low', 'Medium', 'High'],\n",
    "        include_lowest=True\n",
    "    )\n",
    "    \n",
    "    return df\n"
   ]
  },
  {
   "cell_type": "code",
   "execution_count": 25,
   "id": "1b8f79ad",
   "metadata": {},
   "outputs": [],
   "source": [
    "\n",
    "# Aplicar a função\n",
    "df_netflix = calculate_data_quality_score(df_netflix)\n"
   ]
  },
  {
   "cell_type": "code",
   "execution_count": 26,
   "id": "5c03e8a3",
   "metadata": {},
   "outputs": [],
   "source": [
    "\n",
    "# ==========================================\n",
    "# ANÁLISE RÁPIDA DA QUALIDADE\n",
    "# ==========================================\n",
    "\n",
    "def analyze_data_quality(df, platform_name):\n",
    "    \"\"\"Mostra estatísticas de qualidade dos dados\"\"\"\n",
    "    print(f\"\\n📊 QUALIDADE DOS DADOS - {platform_name.upper()}\")\n",
    "    print(\"=\" * 50)\n",
    "    \n",
    "    # Distribuição por categoria\n",
    "    quality_dist = df['quality_category'].value_counts()\n",
    "    total = len(df)\n",
    "    \n",
    "    for category, count in quality_dist.items():\n",
    "        percentage = (count / total) * 100\n",
    "        print(f\"{category} Quality: {count:,} filmes ({percentage:.1f}%)\")\n",
    "    \n",
    "    # Estatísticas do score\n",
    "    print(f\"\\nScore médio: {df['data_quality_score'].mean():.3f}\")\n",
    "    print(f\"Score mediano: {df['data_quality_score'].median():.3f}\")\n",
    "    \n",
    "    # Campos mais problemáticos\n",
    "    print(f\"\\nCampos imputados por registro:\")\n",
    "    print(f\"  Média: {df['imputed_fields_count'].mean():.2f}\")\n",
    "    print(f\"  Máximo: {df['imputed_fields_count'].max()}\")\n",
    "    \n",
    "    return df\n",
    "\n"
   ]
  },
  {
   "cell_type": "code",
   "execution_count": 27,
   "id": "ba1f5938",
   "metadata": {},
   "outputs": [
    {
     "name": "stdout",
     "output_type": "stream",
     "text": [
      "\n",
      "📊 QUALIDADE DOS DADOS - NETFLIX\n",
      "==================================================\n",
      "High Quality: 19,987 filmes (94.8%)\n",
      "Low Quality: 914 filmes (4.3%)\n",
      "Medium Quality: 181 filmes (0.9%)\n",
      "\n",
      "Score médio: 0.974\n",
      "Score mediano: 1.000\n",
      "\n",
      "Campos imputados por registro:\n",
      "  Média: 0.16\n",
      "  Máximo: 4\n"
     ]
    },
    {
     "data": {
      "text/html": [
       "<div>\n",
       "<style scoped>\n",
       "    .dataframe tbody tr th:only-of-type {\n",
       "        vertical-align: middle;\n",
       "    }\n",
       "\n",
       "    .dataframe tbody tr th {\n",
       "        vertical-align: top;\n",
       "    }\n",
       "\n",
       "    .dataframe thead th {\n",
       "        text-align: right;\n",
       "    }\n",
       "</style>\n",
       "<table border=\"1\" class=\"dataframe\">\n",
       "  <thead>\n",
       "    <tr style=\"text-align: right;\">\n",
       "      <th></th>\n",
       "      <th>title</th>\n",
       "      <th>type</th>\n",
       "      <th>genres</th>\n",
       "      <th>releaseYear</th>\n",
       "      <th>imdbId</th>\n",
       "      <th>imdbAverageRating</th>\n",
       "      <th>imdbNumVotes</th>\n",
       "      <th>primaryGenre</th>\n",
       "      <th>decade</th>\n",
       "      <th>hasOriginalRating</th>\n",
       "      <th>ratingImputed</th>\n",
       "      <th>imputationSource</th>\n",
       "      <th>imputed_fields_count</th>\n",
       "      <th>total_main_fields</th>\n",
       "      <th>data_quality_score</th>\n",
       "      <th>quality_category</th>\n",
       "    </tr>\n",
       "  </thead>\n",
       "  <tbody>\n",
       "    <tr>\n",
       "      <th>0</th>\n",
       "      <td>Ariel</td>\n",
       "      <td>movie</td>\n",
       "      <td>Comedy, Crime, Romance</td>\n",
       "      <td>1988</td>\n",
       "      <td>tt0094675</td>\n",
       "      <td>7.4</td>\n",
       "      <td>9188</td>\n",
       "      <td>Comedy</td>\n",
       "      <td>1980.0</td>\n",
       "      <td>True</td>\n",
       "      <td>False</td>\n",
       "      <td>original</td>\n",
       "      <td>0</td>\n",
       "      <td>6</td>\n",
       "      <td>1.0</td>\n",
       "      <td>High</td>\n",
       "    </tr>\n",
       "    <tr>\n",
       "      <th>1</th>\n",
       "      <td>Shadows in Paradise</td>\n",
       "      <td>movie</td>\n",
       "      <td>Comedy, Drama, Music</td>\n",
       "      <td>1986</td>\n",
       "      <td>tt0092149</td>\n",
       "      <td>7.4</td>\n",
       "      <td>8014</td>\n",
       "      <td>Comedy</td>\n",
       "      <td>1980.0</td>\n",
       "      <td>True</td>\n",
       "      <td>False</td>\n",
       "      <td>original</td>\n",
       "      <td>0</td>\n",
       "      <td>6</td>\n",
       "      <td>1.0</td>\n",
       "      <td>High</td>\n",
       "    </tr>\n",
       "    <tr>\n",
       "      <th>2</th>\n",
       "      <td>Forrest Gump</td>\n",
       "      <td>movie</td>\n",
       "      <td>Drama, Romance</td>\n",
       "      <td>1994</td>\n",
       "      <td>tt0109830</td>\n",
       "      <td>8.8</td>\n",
       "      <td>2381047</td>\n",
       "      <td>Drama</td>\n",
       "      <td>1990.0</td>\n",
       "      <td>True</td>\n",
       "      <td>False</td>\n",
       "      <td>original</td>\n",
       "      <td>0</td>\n",
       "      <td>6</td>\n",
       "      <td>1.0</td>\n",
       "      <td>High</td>\n",
       "    </tr>\n",
       "    <tr>\n",
       "      <th>3</th>\n",
       "      <td>American Beauty</td>\n",
       "      <td>movie</td>\n",
       "      <td>Drama</td>\n",
       "      <td>1999</td>\n",
       "      <td>tt0169547</td>\n",
       "      <td>8.3</td>\n",
       "      <td>1249470</td>\n",
       "      <td>Drama</td>\n",
       "      <td>1990.0</td>\n",
       "      <td>True</td>\n",
       "      <td>False</td>\n",
       "      <td>original</td>\n",
       "      <td>0</td>\n",
       "      <td>6</td>\n",
       "      <td>1.0</td>\n",
       "      <td>High</td>\n",
       "    </tr>\n",
       "    <tr>\n",
       "      <th>4</th>\n",
       "      <td>The Fifth Element</td>\n",
       "      <td>movie</td>\n",
       "      <td>Action, Adventure, Sci-Fi</td>\n",
       "      <td>1997</td>\n",
       "      <td>tt0119116</td>\n",
       "      <td>7.6</td>\n",
       "      <td>527520</td>\n",
       "      <td>Action</td>\n",
       "      <td>1990.0</td>\n",
       "      <td>True</td>\n",
       "      <td>False</td>\n",
       "      <td>original</td>\n",
       "      <td>0</td>\n",
       "      <td>6</td>\n",
       "      <td>1.0</td>\n",
       "      <td>High</td>\n",
       "    </tr>\n",
       "    <tr>\n",
       "      <th>...</th>\n",
       "      <td>...</td>\n",
       "      <td>...</td>\n",
       "      <td>...</td>\n",
       "      <td>...</td>\n",
       "      <td>...</td>\n",
       "      <td>...</td>\n",
       "      <td>...</td>\n",
       "      <td>...</td>\n",
       "      <td>...</td>\n",
       "      <td>...</td>\n",
       "      <td>...</td>\n",
       "      <td>...</td>\n",
       "      <td>...</td>\n",
       "      <td>...</td>\n",
       "      <td>...</td>\n",
       "      <td>...</td>\n",
       "    </tr>\n",
       "    <tr>\n",
       "      <th>21805</th>\n",
       "      <td>Franklin</td>\n",
       "      <td>tv</td>\n",
       "      <td>Drama</td>\n",
       "      <td>2025</td>\n",
       "      <td>tt36279637</td>\n",
       "      <td>4.9</td>\n",
       "      <td>164</td>\n",
       "      <td>Drama</td>\n",
       "      <td>2020.0</td>\n",
       "      <td>True</td>\n",
       "      <td>False</td>\n",
       "      <td>original</td>\n",
       "      <td>0</td>\n",
       "      <td>6</td>\n",
       "      <td>1.0</td>\n",
       "      <td>High</td>\n",
       "    </tr>\n",
       "    <tr>\n",
       "      <th>21808</th>\n",
       "      <td>Happy Crush</td>\n",
       "      <td>tv</td>\n",
       "      <td>Comedy, Romance</td>\n",
       "      <td>2025</td>\n",
       "      <td>tt36587037</td>\n",
       "      <td>8.8</td>\n",
       "      <td>12</td>\n",
       "      <td>Comedy</td>\n",
       "      <td>2020.0</td>\n",
       "      <td>True</td>\n",
       "      <td>False</td>\n",
       "      <td>original</td>\n",
       "      <td>0</td>\n",
       "      <td>6</td>\n",
       "      <td>1.0</td>\n",
       "      <td>High</td>\n",
       "    </tr>\n",
       "    <tr>\n",
       "      <th>21809</th>\n",
       "      <td>Fred &amp; Rose West: A British Horror Story</td>\n",
       "      <td>tv</td>\n",
       "      <td>Crime, Documentary</td>\n",
       "      <td>2025</td>\n",
       "      <td>tt36590949</td>\n",
       "      <td>6.5</td>\n",
       "      <td>1642</td>\n",
       "      <td>Crime</td>\n",
       "      <td>2020.0</td>\n",
       "      <td>True</td>\n",
       "      <td>False</td>\n",
       "      <td>original</td>\n",
       "      <td>0</td>\n",
       "      <td>6</td>\n",
       "      <td>1.0</td>\n",
       "      <td>High</td>\n",
       "    </tr>\n",
       "    <tr>\n",
       "      <th>21812</th>\n",
       "      <td>Cheat: Unfinished Business</td>\n",
       "      <td>tv</td>\n",
       "      <td>Reality-TV</td>\n",
       "      <td>2025</td>\n",
       "      <td>tt32249973</td>\n",
       "      <td>5.0</td>\n",
       "      <td>191</td>\n",
       "      <td>Reality-TV</td>\n",
       "      <td>2020.0</td>\n",
       "      <td>True</td>\n",
       "      <td>False</td>\n",
       "      <td>original</td>\n",
       "      <td>0</td>\n",
       "      <td>6</td>\n",
       "      <td>1.0</td>\n",
       "      <td>High</td>\n",
       "    </tr>\n",
       "    <tr>\n",
       "      <th>21815</th>\n",
       "      <td>Entrapped</td>\n",
       "      <td>tv</td>\n",
       "      <td>Crime, Drama, Mystery</td>\n",
       "      <td>2022</td>\n",
       "      <td>tt21964626</td>\n",
       "      <td>7.0</td>\n",
       "      <td>4003</td>\n",
       "      <td>Crime</td>\n",
       "      <td>2020.0</td>\n",
       "      <td>True</td>\n",
       "      <td>False</td>\n",
       "      <td>original</td>\n",
       "      <td>0</td>\n",
       "      <td>6</td>\n",
       "      <td>1.0</td>\n",
       "      <td>High</td>\n",
       "    </tr>\n",
       "  </tbody>\n",
       "</table>\n",
       "<p>21082 rows × 16 columns</p>\n",
       "</div>"
      ],
      "text/plain": [
       "                                          title   type  \\\n",
       "0                                         Ariel  movie   \n",
       "1                           Shadows in Paradise  movie   \n",
       "2                                  Forrest Gump  movie   \n",
       "3                               American Beauty  movie   \n",
       "4                             The Fifth Element  movie   \n",
       "...                                         ...    ...   \n",
       "21805                                  Franklin     tv   \n",
       "21808                               Happy Crush     tv   \n",
       "21809  Fred & Rose West: A British Horror Story     tv   \n",
       "21812                Cheat: Unfinished Business     tv   \n",
       "21815                                 Entrapped     tv   \n",
       "\n",
       "                          genres  releaseYear      imdbId  imdbAverageRating  \\\n",
       "0         Comedy, Crime, Romance         1988   tt0094675                7.4   \n",
       "1           Comedy, Drama, Music         1986   tt0092149                7.4   \n",
       "2                 Drama, Romance         1994   tt0109830                8.8   \n",
       "3                          Drama         1999   tt0169547                8.3   \n",
       "4      Action, Adventure, Sci-Fi         1997   tt0119116                7.6   \n",
       "...                          ...          ...         ...                ...   \n",
       "21805                      Drama         2025  tt36279637                4.9   \n",
       "21808            Comedy, Romance         2025  tt36587037                8.8   \n",
       "21809         Crime, Documentary         2025  tt36590949                6.5   \n",
       "21812                 Reality-TV         2025  tt32249973                5.0   \n",
       "21815      Crime, Drama, Mystery         2022  tt21964626                7.0   \n",
       "\n",
       "       imdbNumVotes primaryGenre  decade  hasOriginalRating  ratingImputed  \\\n",
       "0              9188       Comedy  1980.0               True          False   \n",
       "1              8014       Comedy  1980.0               True          False   \n",
       "2           2381047        Drama  1990.0               True          False   \n",
       "3           1249470        Drama  1990.0               True          False   \n",
       "4            527520       Action  1990.0               True          False   \n",
       "...             ...          ...     ...                ...            ...   \n",
       "21805           164        Drama  2020.0               True          False   \n",
       "21808            12       Comedy  2020.0               True          False   \n",
       "21809          1642        Crime  2020.0               True          False   \n",
       "21812           191   Reality-TV  2020.0               True          False   \n",
       "21815          4003        Crime  2020.0               True          False   \n",
       "\n",
       "      imputationSource  imputed_fields_count  total_main_fields  \\\n",
       "0             original                     0                  6   \n",
       "1             original                     0                  6   \n",
       "2             original                     0                  6   \n",
       "3             original                     0                  6   \n",
       "4             original                     0                  6   \n",
       "...                ...                   ...                ...   \n",
       "21805         original                     0                  6   \n",
       "21808         original                     0                  6   \n",
       "21809         original                     0                  6   \n",
       "21812         original                     0                  6   \n",
       "21815         original                     0                  6   \n",
       "\n",
       "       data_quality_score quality_category  \n",
       "0                     1.0             High  \n",
       "1                     1.0             High  \n",
       "2                     1.0             High  \n",
       "3                     1.0             High  \n",
       "4                     1.0             High  \n",
       "...                   ...              ...  \n",
       "21805                 1.0             High  \n",
       "21808                 1.0             High  \n",
       "21809                 1.0             High  \n",
       "21812                 1.0             High  \n",
       "21815                 1.0             High  \n",
       "\n",
       "[21082 rows x 16 columns]"
      ]
     },
     "execution_count": 27,
     "metadata": {},
     "output_type": "execute_result"
    }
   ],
   "source": [
    "# Analisar Netflix\n",
    "analyze_data_quality(df_netflix, \"Netflix\")"
   ]
  },
  {
   "cell_type": "code",
   "execution_count": 28,
   "id": "5f412349",
   "metadata": {},
   "outputs": [
    {
     "name": "stdout",
     "output_type": "stream",
     "text": [
      "\n",
      "📂 CRIANDO DATASET LIMPO\n",
      "==============================\n",
      "Forma final do dataset: (21082, 7)\n",
      "Colunas finais: ['title', 'type', 'genres', 'releaseYear', 'imdbId', 'imdbAverageRating', 'imdbNumVotes']\n"
     ]
    }
   ],
   "source": [
    "# CRIAR DATASET LIMPO (apenas colunas essenciais) e removendo as colunas criadas para o tratamento\n",
    "print(f\"\\n📂 CRIANDO DATASET LIMPO\")\n",
    "print(\"=\" * 30)\n",
    "\n",
    "colunas_essenciais = [\n",
    "    'title', \n",
    "    'type', \n",
    "    'genres', \n",
    "    'releaseYear', \n",
    "    'imdbId', \n",
    "    'imdbAverageRating', \n",
    "    'imdbNumVotes'\n",
    "]\n",
    "\n",
    "df_netflix_clean = df_netflix[colunas_essenciais].copy()\n",
    "\n",
    "print(f\"Forma final do dataset: {df_netflix_clean.shape}\")\n",
    "print(f\"Colunas finais: {list(df_netflix_clean.columns)}\")"
   ]
  },
  {
   "cell_type": "code",
   "execution_count": null,
   "id": "4a9bac1e",
   "metadata": {},
   "outputs": [
    {
     "name": "stdout",
     "output_type": "stream",
     "text": [
      "\n",
      "✅ Dataset NetflixML: (21082, 9)\n",
      "Colunas finais: ['title', 'type', 'genres', 'releaseYear', 'imdbId', 'imdbAverageRating', 'imdbNumVotes', 'data_quality_score', 'quality_category']\n"
     ]
    }
   ],
   "source": [
    "# ==========================================\n",
    "# ATUALIZAR DATASET LIMPO\n",
    "# ==========================================\n",
    "\n",
    "# Adicionar as colunas de qualidade ao dataset final\n",
    "colunas_essenciaisML = [\n",
    "    'title', \n",
    "    'type', \n",
    "    'genres', \n",
    "    'releaseYear', \n",
    "    'imdbId', \n",
    "    'imdbAverageRating', \n",
    "    'imdbNumVotes',\n",
    "    'data_quality_score',\n",
    "    'quality_category'\n",
    "]\n",
    "\n",
    "# Exemplo para Netflix (repita para outros)\n",
    "df_netflix_cleanML = df_netflix[colunas_essenciaisML].copy()\n",
    "print(f\"\\n✅ Dataset NetflixML: {df_netflix_cleanML.shape}\")\n",
    "print(f\"Colunas finais: {list(df_netflix_cleanML.columns)}\")\n",
    "\n",
    "# Salvar versão atualizada\n",
    "df_netflix_cleanML.to_csv(\"data_netflix_cleanML.csv\", index=False)"
   ]
  },
  {
   "cell_type": "code",
   "execution_count": 116,
   "id": "c8518caa",
   "metadata": {},
   "outputs": [
    {
     "name": "stdout",
     "output_type": "stream",
     "text": [
      "\n",
      "✅ VERIFICAÇÃO FINAL\n",
      "===================================\n",
      "Valores nulos por coluna:\n",
      "title                0\n",
      "type                 0\n",
      "genres               0\n",
      "releaseYear          0\n",
      "imdbId               0\n",
      "imdbAverageRating    0\n",
      "imdbNumVotes         0\n",
      "dtype: int64\n",
      "\n",
      "Tipos de dados:\n",
      "title                 object\n",
      "type                  object\n",
      "genres                object\n",
      "releaseYear            int64\n",
      "imdbId                object\n",
      "imdbAverageRating    float64\n",
      "imdbNumVotes           int64\n",
      "dtype: object\n"
     ]
    }
   ],
   "source": [
    "# VERIFICAÇÃO FINAL\n",
    "print(f\"\\n✅ VERIFICAÇÃO FINAL\")\n",
    "print(\"=\" * 35)\n",
    "\n",
    "print(\"Valores nulos por coluna:\")\n",
    "print(df_netflix_clean.isnull().sum())\n",
    "\n",
    "print(f\"\\nTipos de dados:\")\n",
    "print(df_netflix_clean.dtypes)"
   ]
  },
  {
   "cell_type": "markdown",
   "id": "4dd8a211",
   "metadata": {},
   "source": [
    "### ========== Exploração tipo e genero ================"
   ]
  },
  {
   "cell_type": "code",
   "execution_count": 129,
   "id": "b7f81e7d",
   "metadata": {},
   "outputs": [
    {
     "name": "stdout",
     "output_type": "stream",
     "text": [
      "Tipos únicos na coluna 'type': ['movie' 'tv']\n"
     ]
    }
   ],
   "source": [
    "tipos_unicos = df_netflix_clean['type'].unique()\n",
    "print(\"Tipos únicos na coluna 'type':\", tipos_unicos)"
   ]
  },
  {
   "cell_type": "code",
   "execution_count": null,
   "id": "736ef2fe",
   "metadata": {},
   "outputs": [
    {
     "name": "stdout",
     "output_type": "stream",
     "text": [
      "\n",
      "Distribuição por tipo:\n",
      "movie: 16473 produções (78.1%)\n",
      "tv: 4609 produções (21.9%)\n"
     ]
    }
   ],
   "source": [
    "# Contando quantas produções existem de cada tipo\n",
    "contagem_tipos = df_netflix_clean['type'].value_counts()\n",
    "print(f\"\\nDistribuição por tipo:\")\n",
    "for tipo, quantidade in contagem_tipos.items():\n",
    "    percentual = (quantidade / len(df_netflix_clean)) * 100\n",
    "    print(f\"{tipo}: {quantidade} produções ({percentual:.1f}%)\")"
   ]
  },
  {
   "cell_type": "code",
   "execution_count": null,
   "id": "b26cf0e8",
   "metadata": {},
   "outputs": [
    {
     "name": "stdout",
     "output_type": "stream",
     "text": [
      "\n",
      "PADRÕES E ESTRUTURA DOS GENRES\n",
      "Exemplos de como os genres aparecem:\n",
      " 1. Documentary\n",
      " 2. Action, Comedy, Thriller\n",
      " 3. Horror, Short\n",
      " 4. Comedy, Musical, Romance\n",
      " 5. Action\n",
      " 6. Action, Sci-Fi, Thriller\n",
      " 7. Action, Thriller\n",
      " 8. Action, Adventure, Drama\n",
      " 9. Animation, Comedy, Fantasy\n",
      "10. Drama, History, War\n"
     ]
    }
   ],
   "source": [
    "# EXPLORANDO OS PADRÕES DOS GENRES\n",
    "print(\"\\nPADRÕES E ESTRUTURA DOS GENRES\")\n",
    "# Amostras aleatórias para entender o formato\n",
    "print(\"Exemplos de como os genres aparecem:\")\n",
    "sample_genres = df_netflix_clean['genres'].dropna().sample(10).values\n",
    "for i, genre in enumerate(sample_genres, 1):\n",
    "    print(f\"{i:2d}. {genre}\")"
   ]
  },
  {
   "cell_type": "code",
   "execution_count": null,
   "id": "1769789f",
   "metadata": {},
   "outputs": [],
   "source": [
    "# Função para extrair genres individuais\n",
    "def extract_individual_genres(df_netflix_clean):\n",
    "    \"\"\"Extrai todos os genres individuais de uma coluna que pode conter múltiplos genres\"\"\"\n",
    "    all_genres = []\n",
    "    \n",
    "    for genres_str in df_netflix_clean['genres'].dropna():\n",
    "        # Remove espaços e divide por vírgulas (assumindo que é o separador mais comum)\n",
    "        if pd.notna(genres_str):\n",
    "            # Tratamento flexível para diferentes separadores\n",
    "            genres_list = re.split(r'[,;|]', str(genres_str))\n",
    "            # Limpa e adiciona à lista\n",
    "            clean_genres = [genre.strip() for genre in genres_list if genre.strip()]\n",
    "            all_genres.extend(clean_genres)\n",
    "    \n",
    "    return all_genres"
   ]
  },
  {
   "cell_type": "markdown",
   "id": "a3e2d033",
   "metadata": {},
   "source": [
    "#### a biblioteca re permite realizar operações com operações regulares, evitabndo todo o trabalho de digitar algo como normalized = str(genres_str).replace(';', ',').replace('|', ',')\n",
    "#### genres_list = normalized.split(',') toda vez que precisarmos separar strings"
   ]
  },
  {
   "cell_type": "code",
   "execution_count": null,
   "id": "87b3ceb5",
   "metadata": {},
   "outputs": [],
   "source": [
    "# Extraindo todos os genres individuais\n",
    "individual_genres = extract_individual_genres(df_netflix_clean)"
   ]
  },
  {
   "cell_type": "markdown",
   "id": "32d26c87",
   "metadata": {},
   "source": [
    "# Com Counter é a mesma coisa, ele evita usar laços longos como genre_counts = {}\n",
    "for genre in individual_genres:\n",
    "    if genre in genre_counts:\n",
    "        genre_counts[genre] += 1\n",
    "    else:\n",
    "        genre_counts[genre] = 1\n",
    "\n",
    "de forma que só é preciso importar a biblioteca e chama-la para percorre toda a lista de gêneros e ele mantém um registro automático de quantas vezes cada gênero único aparece"
   ]
  },
  {
   "cell_type": "code",
   "execution_count": 122,
   "id": "a78d6ba0",
   "metadata": {},
   "outputs": [
    {
     "name": "stdout",
     "output_type": "stream",
     "text": [
      "Total de genres únicos encontrados: 33\n",
      "Total de ocorrências de genres: 45922\n"
     ]
    }
   ],
   "source": [
    "# Contando frequencias\n",
    "genre_counts = Counter(individual_genres)\n",
    "print(f\"Total de genres únicos encontrados: {len(genre_counts)}\")\n",
    "print(f\"Total de ocorrências de genres: {sum(genre_counts.values())}\")"
   ]
  },
  {
   "cell_type": "code",
   "execution_count": 123,
   "id": "cb9a07e9",
   "metadata": {},
   "outputs": [
    {
     "name": "stdout",
     "output_type": "stream",
     "text": [
      "\n",
      " TOP 20 GENRES MAIS POPULARES\n",
      " 1. Drama                     |   9879 ocorrências (21.51%)\n",
      " 2. Comedy                    |   7528 ocorrências (16.39%)\n",
      " 3. Action                    |   3519 ocorrências ( 7.66%)\n",
      " 4. Crime                     |   3088 ocorrências ( 6.72%)\n",
      " 5. Romance                   |   3083 ocorrências ( 6.71%)\n",
      " 6. Adventure                 |   2514 ocorrências ( 5.47%)\n",
      " 7. Documentary               |   2251 ocorrências ( 4.90%)\n",
      " 8. Thriller                  |   2128 ocorrências ( 4.63%)\n",
      " 9. Animation                 |   2104 ocorrências ( 4.58%)\n",
      "10. Mystery                   |   1453 ocorrências ( 3.16%)\n",
      "11. Horror                    |   1300 ocorrências ( 2.83%)\n",
      "12. Family                    |   1136 ocorrências ( 2.47%)\n",
      "13. Fantasy                   |   1038 ocorrências ( 2.26%)\n",
      "14. Biography                 |    983 ocorrências ( 2.14%)\n",
      "15. History                   |    758 ocorrências ( 1.65%)\n",
      "16. Music                     |    627 ocorrências ( 1.37%)\n",
      "17. Sci-Fi                    |    512 ocorrências ( 1.11%)\n",
      "18. Sport                     |    455 ocorrências ( 0.99%)\n",
      "19. Reality-TV                |    361 ocorrências ( 0.79%)\n",
      "20. War                       |    284 ocorrências ( 0.62%)\n"
     ]
    }
   ],
   "source": [
    "# TOP GENRES MAIS POPULARES\n",
    "print(\"\\n TOP 20 GENRES MAIS POPULARES\")\n",
    "top_genres = genre_counts.most_common(20)\n",
    "for i, (genre, count) in enumerate(top_genres, 1):\n",
    "    percentage = (count / sum(genre_counts.values())) * 100\n",
    "    print(f\"{i:2d}. {genre:<25} | {count:>6} ocorrências ({percentage:>5.2f}%)\")\n"
   ]
  },
  {
   "cell_type": "code",
   "execution_count": 124,
   "id": "a5ee86d4",
   "metadata": {},
   "outputs": [],
   "source": [
    "# Salva o DataFrame limpo\n",
    "df_netflix_clean.to_csv(\"data_netflix_clean.csv\", index=False)"
   ]
  }
 ],
 "metadata": {
  "kernelspec": {
   "display_name": ".venv",
   "language": "python",
   "name": "python3"
  },
  "language_info": {
   "codemirror_mode": {
    "name": "ipython",
    "version": 3
   },
   "file_extension": ".py",
   "mimetype": "text/x-python",
   "name": "python",
   "nbconvert_exporter": "python",
   "pygments_lexer": "ipython3",
   "version": "3.11.9"
  }
 },
 "nbformat": 4,
 "nbformat_minor": 5
}
