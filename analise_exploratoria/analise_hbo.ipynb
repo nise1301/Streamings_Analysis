{
 "cells": [
  {
   "cell_type": "code",
   "execution_count": null,
   "id": "026fe99f",
   "metadata": {},
   "outputs": [],
   "source": [
    "%pip install pandas\n",
    "%pip install numpy "
   ]
  },
  {
   "cell_type": "code",
   "execution_count": 1,
   "id": "543be471",
   "metadata": {},
   "outputs": [],
   "source": [
    "import pandas as pd\n",
    "import numpy as np\n",
    "import re\n",
    "from collections import Counter"
   ]
  },
  {
   "cell_type": "code",
   "execution_count": 2,
   "id": "ef04cc2d",
   "metadata": {},
   "outputs": [],
   "source": [
    "df_hbo = pd.read_csv(\"C:/Users/nise_/OneDrive/Documentos/Digital College/Python/DA_18/streaming/Dados/data_hbo_max.csv\")"
   ]
  },
  {
   "cell_type": "code",
   "execution_count": 5,
   "id": "4a1304c6",
   "metadata": {},
   "outputs": [
    {
     "data": {
      "text/html": [
       "<div>\n",
       "<style scoped>\n",
       "    .dataframe tbody tr th:only-of-type {\n",
       "        vertical-align: middle;\n",
       "    }\n",
       "\n",
       "    .dataframe tbody tr th {\n",
       "        vertical-align: top;\n",
       "    }\n",
       "\n",
       "    .dataframe thead th {\n",
       "        text-align: right;\n",
       "    }\n",
       "</style>\n",
       "<table border=\"1\" class=\"dataframe\">\n",
       "  <thead>\n",
       "    <tr style=\"text-align: right;\">\n",
       "      <th></th>\n",
       "      <th>title</th>\n",
       "      <th>type</th>\n",
       "      <th>genres</th>\n",
       "      <th>releaseYear</th>\n",
       "      <th>imdbId</th>\n",
       "      <th>imdbAverageRating</th>\n",
       "      <th>imdbNumVotes</th>\n",
       "      <th>availableCountries</th>\n",
       "    </tr>\n",
       "  </thead>\n",
       "  <tbody>\n",
       "    <tr>\n",
       "      <th>0</th>\n",
       "      <td>Kill Bill: Vol. 1</td>\n",
       "      <td>movie</td>\n",
       "      <td>Action, Crime, Thriller</td>\n",
       "      <td>2003.0</td>\n",
       "      <td>tt0266697</td>\n",
       "      <td>8.2</td>\n",
       "      <td>1251651.0</td>\n",
       "      <td>NaN</td>\n",
       "    </tr>\n",
       "    <tr>\n",
       "      <th>1</th>\n",
       "      <td>Jarhead</td>\n",
       "      <td>movie</td>\n",
       "      <td>Biography, Drama, War</td>\n",
       "      <td>2005.0</td>\n",
       "      <td>tt0418763</td>\n",
       "      <td>7.0</td>\n",
       "      <td>215816.0</td>\n",
       "      <td>NaN</td>\n",
       "    </tr>\n",
       "    <tr>\n",
       "      <th>2</th>\n",
       "      <td>Unforgiven</td>\n",
       "      <td>movie</td>\n",
       "      <td>Drama, Western</td>\n",
       "      <td>1992.0</td>\n",
       "      <td>tt0105695</td>\n",
       "      <td>8.2</td>\n",
       "      <td>454694.0</td>\n",
       "      <td>NaN</td>\n",
       "    </tr>\n",
       "    <tr>\n",
       "      <th>3</th>\n",
       "      <td>Eternal Sunshine of the Spotless Mind</td>\n",
       "      <td>movie</td>\n",
       "      <td>Drama, Romance, Sci-Fi</td>\n",
       "      <td>2004.0</td>\n",
       "      <td>tt0338013</td>\n",
       "      <td>8.3</td>\n",
       "      <td>1137227.0</td>\n",
       "      <td>NaN</td>\n",
       "    </tr>\n",
       "    <tr>\n",
       "      <th>4</th>\n",
       "      <td>2001: A Space Odyssey</td>\n",
       "      <td>movie</td>\n",
       "      <td>Adventure, Sci-Fi</td>\n",
       "      <td>1968.0</td>\n",
       "      <td>tt0062622</td>\n",
       "      <td>8.3</td>\n",
       "      <td>754036.0</td>\n",
       "      <td>NaN</td>\n",
       "    </tr>\n",
       "    <tr>\n",
       "      <th>...</th>\n",
       "      <td>...</td>\n",
       "      <td>...</td>\n",
       "      <td>...</td>\n",
       "      <td>...</td>\n",
       "      <td>...</td>\n",
       "      <td>...</td>\n",
       "      <td>...</td>\n",
       "      <td>...</td>\n",
       "    </tr>\n",
       "    <tr>\n",
       "      <th>10221</th>\n",
       "      <td>The House That Dragons Built</td>\n",
       "      <td>tv</td>\n",
       "      <td>Documentary</td>\n",
       "      <td>2022.0</td>\n",
       "      <td>tt26761151</td>\n",
       "      <td>8.1</td>\n",
       "      <td>235.0</td>\n",
       "      <td>NaN</td>\n",
       "    </tr>\n",
       "    <tr>\n",
       "      <th>10222</th>\n",
       "      <td>NaN</td>\n",
       "      <td>tv</td>\n",
       "      <td>Reality</td>\n",
       "      <td>2025.0</td>\n",
       "      <td>NaN</td>\n",
       "      <td>NaN</td>\n",
       "      <td>NaN</td>\n",
       "      <td>NaN</td>\n",
       "    </tr>\n",
       "    <tr>\n",
       "      <th>10223</th>\n",
       "      <td>Toxic</td>\n",
       "      <td>tv</td>\n",
       "      <td>Documentary</td>\n",
       "      <td>2025.0</td>\n",
       "      <td>tt36495586</td>\n",
       "      <td>6.2</td>\n",
       "      <td>79.0</td>\n",
       "      <td>NaN</td>\n",
       "    </tr>\n",
       "    <tr>\n",
       "      <th>10224</th>\n",
       "      <td>The Bakersfield 3: A Tale of Murder and Mother...</td>\n",
       "      <td>tv</td>\n",
       "      <td>Documentary</td>\n",
       "      <td>2025.0</td>\n",
       "      <td>tt36926665</td>\n",
       "      <td>6.3</td>\n",
       "      <td>112.0</td>\n",
       "      <td>NaN</td>\n",
       "    </tr>\n",
       "    <tr>\n",
       "      <th>10225</th>\n",
       "      <td>NaN</td>\n",
       "      <td>tv</td>\n",
       "      <td>Documentary, Crime, Mystery</td>\n",
       "      <td>2025.0</td>\n",
       "      <td>NaN</td>\n",
       "      <td>NaN</td>\n",
       "      <td>NaN</td>\n",
       "      <td>NaN</td>\n",
       "    </tr>\n",
       "  </tbody>\n",
       "</table>\n",
       "<p>10226 rows × 8 columns</p>\n",
       "</div>"
      ],
      "text/plain": [
       "                                                   title   type  \\\n",
       "0                                      Kill Bill: Vol. 1  movie   \n",
       "1                                                Jarhead  movie   \n",
       "2                                             Unforgiven  movie   \n",
       "3                  Eternal Sunshine of the Spotless Mind  movie   \n",
       "4                                  2001: A Space Odyssey  movie   \n",
       "...                                                  ...    ...   \n",
       "10221                       The House That Dragons Built     tv   \n",
       "10222                                                NaN     tv   \n",
       "10223                                              Toxic     tv   \n",
       "10224  The Bakersfield 3: A Tale of Murder and Mother...     tv   \n",
       "10225                                                NaN     tv   \n",
       "\n",
       "                            genres  releaseYear      imdbId  \\\n",
       "0          Action, Crime, Thriller       2003.0   tt0266697   \n",
       "1            Biography, Drama, War       2005.0   tt0418763   \n",
       "2                   Drama, Western       1992.0   tt0105695   \n",
       "3           Drama, Romance, Sci-Fi       2004.0   tt0338013   \n",
       "4                Adventure, Sci-Fi       1968.0   tt0062622   \n",
       "...                            ...          ...         ...   \n",
       "10221                  Documentary       2022.0  tt26761151   \n",
       "10222                      Reality       2025.0         NaN   \n",
       "10223                  Documentary       2025.0  tt36495586   \n",
       "10224                  Documentary       2025.0  tt36926665   \n",
       "10225  Documentary, Crime, Mystery       2025.0         NaN   \n",
       "\n",
       "       imdbAverageRating  imdbNumVotes availableCountries  \n",
       "0                    8.2     1251651.0                NaN  \n",
       "1                    7.0      215816.0                NaN  \n",
       "2                    8.2      454694.0                NaN  \n",
       "3                    8.3     1137227.0                NaN  \n",
       "4                    8.3      754036.0                NaN  \n",
       "...                  ...           ...                ...  \n",
       "10221                8.1         235.0                NaN  \n",
       "10222                NaN           NaN                NaN  \n",
       "10223                6.2          79.0                NaN  \n",
       "10224                6.3         112.0                NaN  \n",
       "10225                NaN           NaN                NaN  \n",
       "\n",
       "[10226 rows x 8 columns]"
      ]
     },
     "execution_count": 5,
     "metadata": {},
     "output_type": "execute_result"
    }
   ],
   "source": [
    "df_hbo"
   ]
  },
  {
   "cell_type": "code",
   "execution_count": 7,
   "id": "db3ff46c",
   "metadata": {},
   "outputs": [
    {
     "data": {
      "text/html": [
       "<div>\n",
       "<style scoped>\n",
       "    .dataframe tbody tr th:only-of-type {\n",
       "        vertical-align: middle;\n",
       "    }\n",
       "\n",
       "    .dataframe tbody tr th {\n",
       "        vertical-align: top;\n",
       "    }\n",
       "\n",
       "    .dataframe thead th {\n",
       "        text-align: right;\n",
       "    }\n",
       "</style>\n",
       "<table border=\"1\" class=\"dataframe\">\n",
       "  <thead>\n",
       "    <tr style=\"text-align: right;\">\n",
       "      <th></th>\n",
       "      <th>releaseYear</th>\n",
       "      <th>imdbAverageRating</th>\n",
       "      <th>imdbNumVotes</th>\n",
       "    </tr>\n",
       "  </thead>\n",
       "  <tbody>\n",
       "    <tr>\n",
       "      <th>count</th>\n",
       "      <td>10198.000000</td>\n",
       "      <td>9089.000000</td>\n",
       "      <td>9.089000e+03</td>\n",
       "    </tr>\n",
       "    <tr>\n",
       "      <th>mean</th>\n",
       "      <td>2012.058051</td>\n",
       "      <td>6.693157</td>\n",
       "      <td>5.284668e+04</td>\n",
       "    </tr>\n",
       "    <tr>\n",
       "      <th>std</th>\n",
       "      <td>17.017881</td>\n",
       "      <td>1.041654</td>\n",
       "      <td>1.653684e+05</td>\n",
       "    </tr>\n",
       "    <tr>\n",
       "      <th>min</th>\n",
       "      <td>1898.000000</td>\n",
       "      <td>1.200000</td>\n",
       "      <td>5.000000e+00</td>\n",
       "    </tr>\n",
       "    <tr>\n",
       "      <th>25%</th>\n",
       "      <td>2010.000000</td>\n",
       "      <td>6.100000</td>\n",
       "      <td>1.960000e+02</td>\n",
       "    </tr>\n",
       "    <tr>\n",
       "      <th>50%</th>\n",
       "      <td>2018.000000</td>\n",
       "      <td>6.700000</td>\n",
       "      <td>1.354000e+03</td>\n",
       "    </tr>\n",
       "    <tr>\n",
       "      <th>75%</th>\n",
       "      <td>2022.000000</td>\n",
       "      <td>7.400000</td>\n",
       "      <td>2.058300e+04</td>\n",
       "    </tr>\n",
       "    <tr>\n",
       "      <th>max</th>\n",
       "      <td>2027.000000</td>\n",
       "      <td>9.800000</td>\n",
       "      <td>3.046940e+06</td>\n",
       "    </tr>\n",
       "  </tbody>\n",
       "</table>\n",
       "</div>"
      ],
      "text/plain": [
       "        releaseYear  imdbAverageRating  imdbNumVotes\n",
       "count  10198.000000        9089.000000  9.089000e+03\n",
       "mean    2012.058051           6.693157  5.284668e+04\n",
       "std       17.017881           1.041654  1.653684e+05\n",
       "min     1898.000000           1.200000  5.000000e+00\n",
       "25%     2010.000000           6.100000  1.960000e+02\n",
       "50%     2018.000000           6.700000  1.354000e+03\n",
       "75%     2022.000000           7.400000  2.058300e+04\n",
       "max     2027.000000           9.800000  3.046940e+06"
      ]
     },
     "execution_count": 7,
     "metadata": {},
     "output_type": "execute_result"
    }
   ],
   "source": [
    "df_hbo.describe()"
   ]
  },
  {
   "cell_type": "code",
   "execution_count": 8,
   "id": "5fa808d0",
   "metadata": {},
   "outputs": [
    {
     "name": "stdout",
     "output_type": "stream",
     "text": [
      "<class 'pandas.core.frame.DataFrame'>\n",
      "RangeIndex: 10226 entries, 0 to 10225\n",
      "Data columns (total 8 columns):\n",
      " #   Column              Non-Null Count  Dtype  \n",
      "---  ------              --------------  -----  \n",
      " 0   title               9576 non-null   object \n",
      " 1   type                10226 non-null  object \n",
      " 2   genres              9904 non-null   object \n",
      " 3   releaseYear         10198 non-null  float64\n",
      " 4   imdbId              9217 non-null   object \n",
      " 5   imdbAverageRating   9089 non-null   float64\n",
      " 6   imdbNumVotes        9089 non-null   float64\n",
      " 7   availableCountries  68 non-null     object \n",
      "dtypes: float64(3), object(5)\n",
      "memory usage: 639.3+ KB\n"
     ]
    }
   ],
   "source": [
    "df_hbo.info()"
   ]
  },
  {
   "cell_type": "code",
   "execution_count": 9,
   "id": "8528af08",
   "metadata": {},
   "outputs": [
    {
     "data": {
      "text/plain": [
       "title                   650\n",
       "type                      0\n",
       "genres                  322\n",
       "releaseYear              28\n",
       "imdbId                 1009\n",
       "imdbAverageRating      1137\n",
       "imdbNumVotes           1137\n",
       "availableCountries    10158\n",
       "dtype: int64"
      ]
     },
     "execution_count": 9,
     "metadata": {},
     "output_type": "execute_result"
    }
   ],
   "source": [
    "df_hbo.isnull().sum()"
   ]
  },
  {
   "cell_type": "code",
   "execution_count": 11,
   "id": "0e873fba",
   "metadata": {},
   "outputs": [],
   "source": [
    "df_hbo.dropna(subset=['title'], inplace=True)"
   ]
  },
  {
   "cell_type": "code",
   "execution_count": 12,
   "id": "d986509a",
   "metadata": {},
   "outputs": [],
   "source": [
    "#preencher os NaN de genres com \"Não informado\"\n",
    "df_hbo['genres'] = df_hbo['genres'].fillna('Não informado')"
   ]
  },
  {
   "cell_type": "code",
   "execution_count": 13,
   "id": "e338e895",
   "metadata": {},
   "outputs": [
    {
     "name": "stdout",
     "output_type": "stream",
     "text": [
      "Registros sem imdbId: 359\n",
      "Registros sem rating: 487\n",
      "Dos que não têm ID, quantos também não têm rating: 359\n"
     ]
    }
   ],
   "source": [
    "# os NaN em imdbId e imdbAverageRating podem ser um problema se for analisar a avaliação dos filmes, então preciso ver se o NaN em um coincide com NaN na outra\n",
    "\n",
    "# Investigar a situação dos NaN\n",
    "print(\"Registros sem imdbId:\", df_hbo['imdbId'].isna().sum())\n",
    "print(\"Registros sem rating:\", df_hbo['imdbAverageRating'].isna().sum())\n",
    "\n",
    "# Ver se NaN em imdbId implica em NaN em rating\n",
    "mask_sem_id = df_hbo['imdbId'].isna()\n",
    "print(\"Dos que não têm ID, quantos também não têm rating:\", \n",
    "      df_hbo[mask_sem_id]['imdbAverageRating'].isna().sum())"
   ]
  },
  {
   "cell_type": "code",
   "execution_count": 14,
   "id": "3ec3b2fa",
   "metadata": {},
   "outputs": [
    {
     "name": "stdout",
     "output_type": "stream",
     "text": [
      "Registros com ID mas sem avaliação: 128\n",
      "\n",
      "Exemplos de conteúdo com ID mas sem avaliação:\n",
      "                                      title      imdbId  releaseYear\n",
      "2831                             Imparables   tt2456834       2014.0\n",
      "2984                         American Biker   tt4849302       2015.0\n",
      "3663                              Impromptu  tt27626121       2018.0\n",
      "3806     Rosa & Dara a jejich dobrodruzství   tt6419668       2015.0\n",
      "4020  Mimi & Líza: Christmas Lights Mystery  tt10499512       2018.0\n"
     ]
    }
   ],
   "source": [
    "# Investigar os casos com ID mas sem avaliação\n",
    "tem_id_sem_rating = df_hbo['imdbId'].notna() & df_hbo['imdbAverageRating'].isna()\n",
    "print(\"Registros com ID mas sem avaliação:\", tem_id_sem_rating.sum())\n",
    "\n",
    "# Ver alguns exemplos desses casos\n",
    "print(\"\\nExemplos de conteúdo com ID mas sem avaliação:\")\n",
    "exemplos = df_hbo[tem_id_sem_rating][['title', 'imdbId', 'releaseYear']].head()\n",
    "print(exemplos)"
   ]
  },
  {
   "cell_type": "code",
   "execution_count": 15,
   "id": "f5299e3c",
   "metadata": {},
   "outputs": [],
   "source": [
    "#preencher os NaN de imdbid com \"Não informado\"\n",
    "df_hbo['imdbId'] = df_hbo['imdbId'].fillna('Não informado')"
   ]
  },
  {
   "cell_type": "code",
   "execution_count": 16,
   "id": "99f89e77",
   "metadata": {},
   "outputs": [],
   "source": [
    "def impute_ratings_by_genre_decade(df_hbo):\n",
    "    \"\"\"\n",
    "    Imputa valores NaN de imdbAverageRating usando mediana por gênero primário + década\n",
    "    \n",
    "    Args:\n",
    "        df: DataFrame com colunas 'genres', 'releaseYear', 'imdbAverageRating'\n",
    "    \n",
    "    Returns:\n",
    "        DataFrame com ratings imputados e colunas adicionais para rastreamento\n",
    "    \"\"\"\n",
    "    # Extrair gênero primário (primeiro da lista)\n",
    "    df_hbo['primaryGenre'] = df_hbo['genres'].fillna('Unknown').str.split(',').str[0].str.strip()\n",
    "\n",
    "    # Extrair década\n",
    "    df_hbo['decade'] = (df_hbo['releaseYear'] // 10) * 10\n",
    "\n",
    "    # Flag para indicar se tinha rating original\n",
    "    df_hbo['hasOriginalRating'] = df_hbo['imdbAverageRating'].notna()\n",
    "\n",
    "    # Calcular medianas por gênero + década (apenas filmes COM rating)\n",
    "    films_with_rating = df_hbo[df_hbo['hasOriginalRating']]\n",
    "    \n",
    "    medians_genre_decade = (films_with_rating.groupby(['primaryGenre', 'decade'])['imdbAverageRating'].agg(['median', 'count']).reset_index())\n",
    "\n",
    "    # Calcular medianas só por gênero (fallback)\n",
    "    medians_genre = (films_with_rating.groupby('primaryGenre')['imdbAverageRating'].median().reset_index())\n",
    "    \n",
    "    # Mediana global (último recurso)\n",
    "    global_median = films_with_rating['imdbAverageRating'].median()\n",
    "\n",
    "    # Função aninhada para imputar um filme específico\n",
    "    def impute_single_film(row):\n",
    "        if row['hasOriginalRating']:\n",
    "            return pd.Series({\n",
    "                'imdbAverageRating': row['imdbAverageRating'],\n",
    "                'ratingImputed': False,\n",
    "                'imputationSource': 'original'\n",
    "            })\n",
    "        \n",
    "        # Tentar gênero + década primeiro\n",
    "        genre_decade_match = medians_genre_decade[\n",
    "            (medians_genre_decade['primaryGenre'] == row['primaryGenre']) & \n",
    "            (medians_genre_decade['decade'] == row['decade'])\n",
    "        ]\n",
    "        \n",
    "        if not genre_decade_match.empty:\n",
    "            median_val = genre_decade_match.iloc[0]['median']\n",
    "            count = genre_decade_match.iloc[0]['count']\n",
    "            return pd.Series({\n",
    "                'imdbAverageRating': median_val,\n",
    "                'ratingImputed': True,\n",
    "                'imputationSource': f\"{row['primaryGenre']} {int(row['decade'])}s ({count} filmes)\"\n",
    "            })\n",
    "        \n",
    "        # Fallback: só gênero\n",
    "        genre_match = medians_genre[medians_genre['primaryGenre'] == row['primaryGenre']]\n",
    "        \n",
    "        if not genre_match.empty:\n",
    "            median_val = genre_match.iloc[0]['imdbAverageRating']\n",
    "            return pd.Series({\n",
    "                'imdbAverageRating': median_val,\n",
    "                'ratingImputed': True,\n",
    "                'imputationSource': f\"{row['primaryGenre']} geral\"\n",
    "            })\n",
    "        \n",
    "        # Último recurso: mediana global\n",
    "        return pd.Series({\n",
    "            'imdbAverageRating': global_median,\n",
    "            'ratingImputed': True,\n",
    "            'imputationSource': \"mediana global\"\n",
    "        })\n",
    "\n",
    "    # Aplicar imputação\n",
    "    imputation_results = df_hbo.apply(impute_single_film, axis=1)\n",
    "\n",
    "    # Combinar resultados\n",
    "    df_hbo['imdbAverageRating'] = imputation_results['imdbAverageRating']\n",
    "    df_hbo['ratingImputed'] = imputation_results['ratingImputed']\n",
    "    df_hbo['imputationSource'] = imputation_results['imputationSource']\n",
    "\n",
    "    return df_hbo, medians_genre_decade, global_median"
   ]
  },
  {
   "cell_type": "code",
   "execution_count": 17,
   "id": "582a77f8",
   "metadata": {},
   "outputs": [],
   "source": [
    "# APLICAR A IMPUTAÇÃO\n",
    "df_imputed, medians_table, global_median = impute_ratings_by_genre_decade(df_hbo)"
   ]
  },
  {
   "cell_type": "code",
   "execution_count": 45,
   "id": "2c5357d8",
   "metadata": {},
   "outputs": [
    {
     "name": "stdout",
     "output_type": "stream",
     "text": [
      "Valores imputados: 487\n"
     ]
    }
   ],
   "source": [
    "imputed_count = df_imputed['ratingImputed'].sum()\n",
    "print(f\"Valores imputados: {imputed_count}\")"
   ]
  },
  {
   "cell_type": "code",
   "execution_count": 20,
   "id": "86ad5344",
   "metadata": {},
   "outputs": [
    {
     "name": "stdout",
     "output_type": "stream",
     "text": [
      " 1. \"Kill Bill: Vol. 1\" (2003)\n",
      "    Gênero: Action\n",
      "    Avaliação imputada: 8.2\n",
      "    Fonte: original\n",
      "\n",
      " 2. \"Jarhead\" (2005)\n",
      "    Gênero: Biography\n",
      "    Avaliação imputada: 7.0\n",
      "    Fonte: original\n",
      "\n",
      " 3. \"Unforgiven\" (1992)\n",
      "    Gênero: Drama\n",
      "    Avaliação imputada: 8.2\n",
      "    Fonte: original\n",
      "\n",
      " 4. \"Eternal Sunshine of the Spotless Mind\" (2004)\n",
      "    Gênero: Drama\n",
      "    Avaliação imputada: 8.3\n",
      "    Fonte: original\n",
      "\n",
      " 5. \"2001: A Space Odyssey\" (1968)\n",
      "    Gênero: Adventure\n",
      "    Avaliação imputada: 8.3\n",
      "    Fonte: original\n",
      "\n",
      " 6. \"Absolute Power\" (1997)\n",
      "    Gênero: Action\n",
      "    Avaliação imputada: 6.7\n",
      "    Fonte: original\n",
      "\n",
      " 7. \"Billy Elliot\" (2000)\n",
      "    Gênero: Drama\n",
      "    Avaliação imputada: 7.7\n",
      "    Fonte: original\n",
      "\n",
      " 8. \"American History X\" (1998)\n",
      "    Gênero: Crime\n",
      "    Avaliação imputada: 8.5\n",
      "    Fonte: original\n",
      "\n"
     ]
    }
   ],
   "source": [
    "# Mostrar alguns exemplos organizados\n",
    "for i, (_, filme) in enumerate(df_imputed.head(8).iterrows()):\n",
    "    print(f\"{i+1:2d}. \\\"{filme['title']}\\\" ({int(filme['releaseYear'])})\")\n",
    "    print(f\"    Gênero: {filme['primaryGenre']}\")\n",
    "    print(f\"    Avaliação imputada: {filme['imdbAverageRating']:.1f}\")\n",
    "    print(f\"    Fonte: {filme['imputationSource']}\")\n",
    "    print()"
   ]
  },
  {
   "cell_type": "code",
   "execution_count": 21,
   "id": "17057759",
   "metadata": {},
   "outputs": [],
   "source": [
    "# Axis 1 para colunas, axis 0 para linhas\n",
    "df_hbo = df_hbo.drop(['availableCountries'], axis=1)"
   ]
  },
  {
   "cell_type": "code",
   "execution_count": 22,
   "id": "1bb8cf99",
   "metadata": {},
   "outputs": [
    {
     "data": {
      "text/plain": [
       "title                  0\n",
       "type                   0\n",
       "genres                 0\n",
       "releaseYear            1\n",
       "imdbId                 0\n",
       "imdbAverageRating      0\n",
       "imdbNumVotes         487\n",
       "primaryGenre           0\n",
       "decade                 1\n",
       "hasOriginalRating      0\n",
       "ratingImputed          0\n",
       "imputationSource       0\n",
       "dtype: int64"
      ]
     },
     "execution_count": 22,
     "metadata": {},
     "output_type": "execute_result"
    }
   ],
   "source": [
    "df_hbo.isnull().sum()"
   ]
  },
  {
   "cell_type": "code",
   "execution_count": 24,
   "id": "8d47690b",
   "metadata": {},
   "outputs": [
    {
     "name": "stdout",
     "output_type": "stream",
     "text": [
      "                               title type genres      imdbId  \\\n",
      "10062  Untitled One Tree Hill Sequel   tv  Drama  tt33306368   \n",
      "\n",
      "       imdbAverageRating  \n",
      "10062               6.75  \n"
     ]
    }
   ],
   "source": [
    "# Ver qual é o filme problemático\n",
    "nulls_year = df_hbo[df_hbo['releaseYear'].isna()]\n",
    "print(nulls_year[['title', 'type', 'genres', 'imdbId', 'imdbAverageRating']])"
   ]
  },
  {
   "cell_type": "code",
   "execution_count": 25,
   "id": "d0a8f0e3",
   "metadata": {},
   "outputs": [],
   "source": [
    "# Nem lançado foi ainda...vai de drop\n",
    "df_hbo = df_hbo.dropna(subset=['releaseYear'])"
   ]
  },
  {
   "cell_type": "code",
   "execution_count": 26,
   "id": "539d30a7",
   "metadata": {},
   "outputs": [
    {
     "data": {
      "text/plain": [
       "title                  0\n",
       "type                   0\n",
       "genres                 0\n",
       "releaseYear            0\n",
       "imdbId                 0\n",
       "imdbAverageRating      0\n",
       "imdbNumVotes         486\n",
       "primaryGenre           0\n",
       "decade                 0\n",
       "hasOriginalRating      0\n",
       "ratingImputed          0\n",
       "imputationSource       0\n",
       "dtype: int64"
      ]
     },
     "execution_count": 26,
     "metadata": {},
     "output_type": "execute_result"
    }
   ],
   "source": [
    "df_hbo.isnull().sum()"
   ]
  },
  {
   "cell_type": "code",
   "execution_count": 27,
   "id": "d52ca699",
   "metadata": {},
   "outputs": [],
   "source": [
    "#### só depois de remover todos os NaN é que posso converter o releaseYear para int\n",
    "df_hbo['releaseYear'] = df_hbo['releaseYear'].astype(int)"
   ]
  },
  {
   "cell_type": "code",
   "execution_count": 28,
   "id": "be2cec6b",
   "metadata": {},
   "outputs": [
    {
     "name": "stdout",
     "output_type": "stream",
     "text": [
      "🔧 TRATANDO imdbNumVotes PARA FILMES IMPUTADOS\n",
      "==================================================\n"
     ]
    }
   ],
   "source": [
    "# ==========================================\n",
    "# LIMPEZA FINAL - REMOVER BAGAGEM TÉCNICA\n",
    "# ==========================================\n",
    "\n",
    "# 1. TRATAR imdbNumVotes para filmes imputados\n",
    "print(\"🔧 TRATANDO imdbNumVotes PARA FILMES IMPUTADOS\")\n",
    "print(\"=\" * 50)\n",
    "\n",
    "# Para filmes com rating imputado, vamos usar a mediana de votos do mesmo gênero/década\n",
    "films_with_votes = df_hbo[df_hbo['imdbNumVotes'].notna()]\n",
    "\n",
    "# Calcular mediana de votos por gênero primário\n",
    "median_votes_by_genre = (films_with_votes\n",
    "                        .groupby('primaryGenre')['imdbNumVotes']\n",
    "                        .median()\n",
    "                        .to_dict())\n",
    "\n",
    "# Mediana global como fallback\n",
    "global_median_votes = films_with_votes['imdbNumVotes'].median()\n",
    "\n",
    "# Função para imputar votos\n",
    "def impute_votes(row):\n",
    "    if pd.notna(row['imdbNumVotes']):\n",
    "        return row['imdbNumVotes']\n",
    "    \n",
    "    # Se tem rating imputado, usar mediana do gênero\n",
    "    if row['ratingImputed']:\n",
    "        genre_median = median_votes_by_genre.get(row['primaryGenre'])\n",
    "        if genre_median:\n",
    "            return genre_median\n",
    "        else:\n",
    "            return global_median_votes\n",
    "    \n",
    "    return row['imdbNumVotes']\n",
    "\n"
   ]
  },
  {
   "cell_type": "code",
   "execution_count": 29,
   "id": "1c4acbdf",
   "metadata": {},
   "outputs": [],
   "source": [
    "# Aplicar imputação de votos\n",
    "df_hbo['imdbNumVotes'] = df_hbo.apply(impute_votes, axis=1)\n"
   ]
  },
  {
   "cell_type": "code",
   "execution_count": 30,
   "id": "b94098e3",
   "metadata": {},
   "outputs": [
    {
     "data": {
      "text/plain": [
       "title                0\n",
       "type                 0\n",
       "genres               0\n",
       "releaseYear          0\n",
       "imdbId               0\n",
       "imdbAverageRating    0\n",
       "imdbNumVotes         0\n",
       "primaryGenre         0\n",
       "decade               0\n",
       "hasOriginalRating    0\n",
       "ratingImputed        0\n",
       "imputationSource     0\n",
       "dtype: int64"
      ]
     },
     "execution_count": 30,
     "metadata": {},
     "output_type": "execute_result"
    }
   ],
   "source": [
    "df_hbo.isnull().sum()"
   ]
  },
  {
   "cell_type": "code",
   "execution_count": 33,
   "id": "43fefb31",
   "metadata": {},
   "outputs": [
    {
     "name": "stdout",
     "output_type": "stream",
     "text": [
      "title                 object\n",
      "type                  object\n",
      "genres                object\n",
      "releaseYear            int64\n",
      "imdbId                object\n",
      "imdbAverageRating    float64\n",
      "imdbNumVotes           int64\n",
      "primaryGenre          object\n",
      "decade               float64\n",
      "hasOriginalRating       bool\n",
      "ratingImputed           bool\n",
      "imputationSource      object\n",
      "dtype: object\n"
     ]
    }
   ],
   "source": [
    "df_hbo['imdbNumVotes'] = df_hbo['imdbNumVotes'].astype(int)\n",
    "# Verificar se a conversão foi bem-sucedida\n",
    "print(df_hbo.dtypes)"
   ]
  },
  {
   "cell_type": "code",
   "execution_count": 34,
   "id": "4b416566",
   "metadata": {},
   "outputs": [
    {
     "name": "stdout",
     "output_type": "stream",
     "text": [
      "\n",
      "📂 CRIANDO DATASET LIMPO\n",
      "==============================\n",
      "Forma final do dataset: (9575, 7)\n",
      "Colunas finais: ['title', 'type', 'genres', 'releaseYear', 'imdbId', 'imdbAverageRating', 'imdbNumVotes']\n"
     ]
    }
   ],
   "source": [
    "# CRIAR DATASET LIMPO (apenas colunas essenciais) e removendo as colunas criadas para o tratamento\n",
    "print(f\"\\n📂 CRIANDO DATASET LIMPO\")\n",
    "print(\"=\" * 30)\n",
    "\n",
    "colunas_essenciais = [\n",
    "    'title', \n",
    "    'type', \n",
    "    'genres', \n",
    "    'releaseYear', \n",
    "    'imdbId', \n",
    "    'imdbAverageRating', \n",
    "    'imdbNumVotes'\n",
    "]\n",
    "\n",
    "df_hbo_clean = df_hbo[colunas_essenciais].copy()\n",
    "\n",
    "print(f\"Forma final do dataset: {df_hbo_clean.shape}\")\n",
    "print(f\"Colunas finais: {list(df_hbo_clean.columns)}\")\n",
    "\n"
   ]
  },
  {
   "cell_type": "code",
   "execution_count": 35,
   "id": "1c00e920",
   "metadata": {},
   "outputs": [
    {
     "name": "stdout",
     "output_type": "stream",
     "text": [
      "\n",
      "✅ VERIFICAÇÃO FINAL\n",
      "===================================\n",
      "Valores nulos por coluna:\n",
      "title                0\n",
      "type                 0\n",
      "genres               0\n",
      "releaseYear          0\n",
      "imdbId               0\n",
      "imdbAverageRating    0\n",
      "imdbNumVotes         0\n",
      "dtype: int64\n",
      "\n",
      "Tipos de dados:\n",
      "title                 object\n",
      "type                  object\n",
      "genres                object\n",
      "releaseYear            int64\n",
      "imdbId                object\n",
      "imdbAverageRating    float64\n",
      "imdbNumVotes           int64\n",
      "dtype: object\n"
     ]
    }
   ],
   "source": [
    "# VERIFICAÇÃO FINAL\n",
    "print(f\"\\n✅ VERIFICAÇÃO FINAL\")\n",
    "print(\"=\" * 35)\n",
    "\n",
    "print(\"Valores nulos por coluna:\")\n",
    "print(df_hbo_clean.isnull().sum())\n",
    "\n",
    "print(f\"\\nTipos de dados:\")\n",
    "print(df_hbo_clean.dtypes)"
   ]
  },
  {
   "cell_type": "markdown",
   "id": "5ef3efd4",
   "metadata": {},
   "source": [
    "# ======= Exploração Tipo e Gênero========="
   ]
  },
  {
   "cell_type": "code",
   "execution_count": 46,
   "id": "173dbce7",
   "metadata": {},
   "outputs": [
    {
     "name": "stdout",
     "output_type": "stream",
     "text": [
      "Tipos únicos na coluna 'type': ['movie' 'tv']\n"
     ]
    }
   ],
   "source": [
    "tipos_unicos = df_hbo_clean['type'].unique()\n",
    "print(\"Tipos únicos na coluna 'type':\", tipos_unicos)"
   ]
  },
  {
   "cell_type": "code",
   "execution_count": 47,
   "id": "550e8bcc",
   "metadata": {},
   "outputs": [
    {
     "name": "stdout",
     "output_type": "stream",
     "text": [
      "\n",
      "Distribuição por tipo:\n",
      "movie: 6488 produções (67.8%)\n",
      "tv: 3087 produções (32.2%)\n"
     ]
    }
   ],
   "source": [
    "# Contando quantas produções existem de cada tipo\n",
    "contagem_tipos = df_hbo_clean['type'].value_counts()\n",
    "print(f\"\\nDistribuição por tipo:\")\n",
    "for tipo, quantidade in contagem_tipos.items():\n",
    "    percentual = (quantidade / len(df_hbo_clean)) * 100\n",
    "    print(f\"{tipo}: {quantidade} produções ({percentual:.1f}%)\")"
   ]
  },
  {
   "cell_type": "code",
   "execution_count": 48,
   "id": "b8590666",
   "metadata": {},
   "outputs": [
    {
     "name": "stdout",
     "output_type": "stream",
     "text": [
      "\n",
      "PADRÕES E ESTRUTURA DOS GENRES\n",
      "Exemplos de como os genres aparecem:\n",
      " 1. Crime, Documentary\n",
      " 2. Biography, Documentary, Sport\n",
      " 3. Reality-TV\n",
      " 4. Documentary\n",
      " 5. Horror, Mystery, Thriller\n",
      " 6. Documentary\n",
      " 7. Action, Drama, History\n",
      " 8. Drama, Sci-Fi, Thriller\n",
      " 9. Comedy\n",
      "10. Action, Adventure, Sci-Fi\n"
     ]
    }
   ],
   "source": [
    "# EXPLORANDO OS PADRÕES DOS GENRES\n",
    "print(\"\\nPADRÕES E ESTRUTURA DOS GENRES\")\n",
    "# Amostras aleatórias para entender o formato\n",
    "print(\"Exemplos de como os genres aparecem:\")\n",
    "sample_genres = df_hbo_clean['genres'].dropna().sample(10).values\n",
    "for i, genre in enumerate(sample_genres, 1):\n",
    "    print(f\"{i:2d}. {genre}\")"
   ]
  },
  {
   "cell_type": "code",
   "execution_count": 49,
   "id": "812f8ab4",
   "metadata": {},
   "outputs": [],
   "source": [
    "# Função para extrair genres individuais\n",
    "def extract_individual_genres(df_hbo_clean):\n",
    "    \"\"\"Extrai todos os genres individuais de uma coluna que pode conter múltiplos genres\"\"\"\n",
    "    all_genres = []\n",
    "    \n",
    "    for genres_str in df_hbo_clean['genres'].dropna():\n",
    "        # Remove espaços e divide por vírgulas (assumindo que é o separador mais comum)\n",
    "        if pd.notna(genres_str):\n",
    "            # Tratamento flexível para diferentes separadores\n",
    "            genres_list = re.split(r'[,;|]', str(genres_str))\n",
    "            # Limpa e adiciona à lista\n",
    "            clean_genres = [genre.strip() for genre in genres_list if genre.strip()]\n",
    "            all_genres.extend(clean_genres)\n",
    "    \n",
    "    return all_genres"
   ]
  },
  {
   "cell_type": "code",
   "execution_count": 50,
   "id": "e7ae179f",
   "metadata": {},
   "outputs": [],
   "source": [
    "# Extraindo todos os genres individuais\n",
    "individual_genres = extract_individual_genres(df_hbo_clean)"
   ]
  },
  {
   "cell_type": "code",
   "execution_count": 51,
   "id": "cf4eba38",
   "metadata": {},
   "outputs": [
    {
     "name": "stdout",
     "output_type": "stream",
     "text": [
      "Total de genres únicos encontrados: 33\n",
      "Total de ocorrências de genres: 19368\n"
     ]
    }
   ],
   "source": [
    "# Contando frequencias\n",
    "genre_counts = Counter(individual_genres)\n",
    "print(f\"Total de genres únicos encontrados: {len(genre_counts)}\")\n",
    "print(f\"Total de ocorrências de genres: {sum(genre_counts.values())}\")"
   ]
  },
  {
   "cell_type": "code",
   "execution_count": 52,
   "id": "829bcd98",
   "metadata": {},
   "outputs": [
    {
     "name": "stdout",
     "output_type": "stream",
     "text": [
      "\n",
      " TOP 20 GENRES MAIS POPULARES\n",
      " 1. Drama                     |   3502 ocorrências (18.08%)\n",
      " 2. Comedy                    |   2479 ocorrências (12.80%)\n",
      " 3. Documentary               |   1937 ocorrências (10.00%)\n",
      " 4. Crime                     |   1268 ocorrências ( 6.55%)\n",
      " 5. Adventure                 |   1166 ocorrências ( 6.02%)\n",
      " 6. Action                    |   1135 ocorrências ( 5.86%)\n",
      " 7. Animation                 |    918 ocorrências ( 4.74%)\n",
      " 8. Romance                   |    895 ocorrências ( 4.62%)\n",
      " 9. Reality-TV                |    889 ocorrências ( 4.59%)\n",
      "10. Thriller                  |    770 ocorrências ( 3.98%)\n",
      "11. Mystery                   |    561 ocorrências ( 2.90%)\n",
      "12. Biography                 |    533 ocorrências ( 2.75%)\n",
      "13. Family                    |    495 ocorrências ( 2.56%)\n",
      "14. Horror                    |    460 ocorrências ( 2.38%)\n",
      "15. Fantasy                   |    403 ocorrências ( 2.08%)\n",
      "16. History                   |    363 ocorrências ( 1.87%)\n",
      "17. Sci-Fi                    |    294 ocorrências ( 1.52%)\n",
      "18. Short                     |    225 ocorrências ( 1.16%)\n",
      "19. Music                     |    219 ocorrências ( 1.13%)\n",
      "20. Sport                     |    198 ocorrências ( 1.02%)\n"
     ]
    }
   ],
   "source": [
    "# TOP GENRES MAIS POPULARES\n",
    "print(\"\\n TOP 20 GENRES MAIS POPULARES\")\n",
    "top_genres = genre_counts.most_common(20)\n",
    "for i, (genre, count) in enumerate(top_genres, 1):\n",
    "    percentage = (count / sum(genre_counts.values())) * 100\n",
    "    print(f\"{i:2d}. {genre:<25} | {count:>6} ocorrências ({percentage:>5.2f}%)\")\n"
   ]
  },
  {
   "cell_type": "code",
   "execution_count": 44,
   "id": "676fcf1d",
   "metadata": {},
   "outputs": [],
   "source": [
    "# Salva o DataFrame limpo\n",
    "df_hbo_clean.to_csv(\"data_hbo_clean.csv\", index=False)"
   ]
  }
 ],
 "metadata": {
  "kernelspec": {
   "display_name": ".venv",
   "language": "python",
   "name": "python3"
  },
  "language_info": {
   "codemirror_mode": {
    "name": "ipython",
    "version": 3
   },
   "file_extension": ".py",
   "mimetype": "text/x-python",
   "name": "python",
   "nbconvert_exporter": "python",
   "pygments_lexer": "ipython3",
   "version": "3.11.9"
  }
 },
 "nbformat": 4,
 "nbformat_minor": 5
}
