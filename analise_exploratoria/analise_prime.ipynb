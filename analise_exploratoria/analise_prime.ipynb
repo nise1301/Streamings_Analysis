{
 "cells": [
  {
   "cell_type": "code",
   "execution_count": 1,
   "id": "889fcbd7",
   "metadata": {},
   "outputs": [
    {
     "name": "stdout",
     "output_type": "stream",
     "text": [
      "Requirement already satisfied: pandas in c:\\users\\nise_\\onedrive\\documentos\\digital college\\python\\da_18\\streaming\\.venv\\lib\\site-packages (2.2.3)\n",
      "Requirement already satisfied: numpy>=1.23.2 in c:\\users\\nise_\\onedrive\\documentos\\digital college\\python\\da_18\\streaming\\.venv\\lib\\site-packages (from pandas) (2.2.6)\n",
      "Requirement already satisfied: python-dateutil>=2.8.2 in c:\\users\\nise_\\onedrive\\documentos\\digital college\\python\\da_18\\streaming\\.venv\\lib\\site-packages (from pandas) (2.9.0.post0)\n",
      "Requirement already satisfied: pytz>=2020.1 in c:\\users\\nise_\\onedrive\\documentos\\digital college\\python\\da_18\\streaming\\.venv\\lib\\site-packages (from pandas) (2025.2)\n",
      "Requirement already satisfied: tzdata>=2022.7 in c:\\users\\nise_\\onedrive\\documentos\\digital college\\python\\da_18\\streaming\\.venv\\lib\\site-packages (from pandas) (2025.2)\n",
      "Requirement already satisfied: six>=1.5 in c:\\users\\nise_\\onedrive\\documentos\\digital college\\python\\da_18\\streaming\\.venv\\lib\\site-packages (from python-dateutil>=2.8.2->pandas) (1.17.0)\n",
      "Note: you may need to restart the kernel to use updated packages.\n",
      "Requirement already satisfied: numpy in c:\\users\\nise_\\onedrive\\documentos\\digital college\\python\\da_18\\streaming\\.venv\\lib\\site-packages (2.2.6)\n",
      "Note: you may need to restart the kernel to use updated packages.\n"
     ]
    }
   ],
   "source": [
    "%pip install pandas\n",
    "%pip install numpy "
   ]
  },
  {
   "cell_type": "code",
   "execution_count": 2,
   "id": "6ab84dd1",
   "metadata": {},
   "outputs": [],
   "source": [
    "import pandas as pd\n",
    "import numpy as np\n",
    "import re\n",
    "from collections import Counter"
   ]
  },
  {
   "cell_type": "code",
   "execution_count": 3,
   "id": "10c1f5ee",
   "metadata": {},
   "outputs": [],
   "source": [
    "df_prime = pd.read_csv(\"C:/Users/nise_/OneDrive/Documentos/Digital College/Python/DA_18/streaming/Dados/data_prime_video.csv\")"
   ]
  },
  {
   "cell_type": "code",
   "execution_count": 4,
   "id": "229371f0",
   "metadata": {},
   "outputs": [
    {
     "data": {
      "text/html": [
       "<div>\n",
       "<style scoped>\n",
       "    .dataframe tbody tr th:only-of-type {\n",
       "        vertical-align: middle;\n",
       "    }\n",
       "\n",
       "    .dataframe tbody tr th {\n",
       "        vertical-align: top;\n",
       "    }\n",
       "\n",
       "    .dataframe thead th {\n",
       "        text-align: right;\n",
       "    }\n",
       "</style>\n",
       "<table border=\"1\" class=\"dataframe\">\n",
       "  <thead>\n",
       "    <tr style=\"text-align: right;\">\n",
       "      <th></th>\n",
       "      <th>title</th>\n",
       "      <th>type</th>\n",
       "      <th>genres</th>\n",
       "      <th>releaseYear</th>\n",
       "      <th>imdbId</th>\n",
       "      <th>imdbAverageRating</th>\n",
       "      <th>imdbNumVotes</th>\n",
       "      <th>availableCountries</th>\n",
       "    </tr>\n",
       "  </thead>\n",
       "  <tbody>\n",
       "    <tr>\n",
       "      <th>0</th>\n",
       "      <td>Judgment Night</td>\n",
       "      <td>movie</td>\n",
       "      <td>Action, Crime, Drama</td>\n",
       "      <td>1993.0</td>\n",
       "      <td>tt0107286</td>\n",
       "      <td>6.6</td>\n",
       "      <td>19960.0</td>\n",
       "      <td>NaN</td>\n",
       "    </tr>\n",
       "    <tr>\n",
       "      <th>1</th>\n",
       "      <td>Forrest Gump</td>\n",
       "      <td>movie</td>\n",
       "      <td>Drama, Romance</td>\n",
       "      <td>1994.0</td>\n",
       "      <td>tt0109830</td>\n",
       "      <td>8.8</td>\n",
       "      <td>2381047.0</td>\n",
       "      <td>NaN</td>\n",
       "    </tr>\n",
       "    <tr>\n",
       "      <th>2</th>\n",
       "      <td>Citizen Kane</td>\n",
       "      <td>movie</td>\n",
       "      <td>Drama, Mystery</td>\n",
       "      <td>1941.0</td>\n",
       "      <td>tt0033467</td>\n",
       "      <td>8.3</td>\n",
       "      <td>481447.0</td>\n",
       "      <td>NaN</td>\n",
       "    </tr>\n",
       "    <tr>\n",
       "      <th>3</th>\n",
       "      <td>Dancer in the Dark</td>\n",
       "      <td>movie</td>\n",
       "      <td>Crime, Drama, Musical</td>\n",
       "      <td>2000.0</td>\n",
       "      <td>tt0168629</td>\n",
       "      <td>7.9</td>\n",
       "      <td>120724.0</td>\n",
       "      <td>NaN</td>\n",
       "    </tr>\n",
       "    <tr>\n",
       "      <th>4</th>\n",
       "      <td>The Dark</td>\n",
       "      <td>movie</td>\n",
       "      <td>Drama, Fantasy, Horror</td>\n",
       "      <td>2005.0</td>\n",
       "      <td>tt0411267</td>\n",
       "      <td>5.3</td>\n",
       "      <td>11685.0</td>\n",
       "      <td>NaN</td>\n",
       "    </tr>\n",
       "    <tr>\n",
       "      <th>...</th>\n",
       "      <td>...</td>\n",
       "      <td>...</td>\n",
       "      <td>...</td>\n",
       "      <td>...</td>\n",
       "      <td>...</td>\n",
       "      <td>...</td>\n",
       "      <td>...</td>\n",
       "      <td>...</td>\n",
       "    </tr>\n",
       "    <tr>\n",
       "      <th>73146</th>\n",
       "      <td>NaN</td>\n",
       "      <td>tv</td>\n",
       "      <td>NaN</td>\n",
       "      <td>2023.0</td>\n",
       "      <td>NaN</td>\n",
       "      <td>NaN</td>\n",
       "      <td>NaN</td>\n",
       "      <td>NaN</td>\n",
       "    </tr>\n",
       "    <tr>\n",
       "      <th>73147</th>\n",
       "      <td>Tranquilo Papá</td>\n",
       "      <td>tv</td>\n",
       "      <td>Comedy</td>\n",
       "      <td>2017.0</td>\n",
       "      <td>tt7122438</td>\n",
       "      <td>5.6</td>\n",
       "      <td>21.0</td>\n",
       "      <td>NaN</td>\n",
       "    </tr>\n",
       "    <tr>\n",
       "      <th>73148</th>\n",
       "      <td>NaN</td>\n",
       "      <td>tv</td>\n",
       "      <td>NaN</td>\n",
       "      <td>2021.0</td>\n",
       "      <td>NaN</td>\n",
       "      <td>NaN</td>\n",
       "      <td>NaN</td>\n",
       "      <td>NaN</td>\n",
       "    </tr>\n",
       "    <tr>\n",
       "      <th>73149</th>\n",
       "      <td>Murder Drones</td>\n",
       "      <td>tv</td>\n",
       "      <td>Action, Adventure, Animation</td>\n",
       "      <td>2021.0</td>\n",
       "      <td>tt15599734</td>\n",
       "      <td>7.8</td>\n",
       "      <td>3994.0</td>\n",
       "      <td>NaN</td>\n",
       "    </tr>\n",
       "    <tr>\n",
       "      <th>73150</th>\n",
       "      <td>NaN</td>\n",
       "      <td>tv</td>\n",
       "      <td>NaN</td>\n",
       "      <td>2015.0</td>\n",
       "      <td>NaN</td>\n",
       "      <td>NaN</td>\n",
       "      <td>NaN</td>\n",
       "      <td>NaN</td>\n",
       "    </tr>\n",
       "  </tbody>\n",
       "</table>\n",
       "<p>73151 rows × 8 columns</p>\n",
       "</div>"
      ],
      "text/plain": [
       "                    title   type                        genres  releaseYear  \\\n",
       "0          Judgment Night  movie          Action, Crime, Drama       1993.0   \n",
       "1            Forrest Gump  movie                Drama, Romance       1994.0   \n",
       "2            Citizen Kane  movie                Drama, Mystery       1941.0   \n",
       "3      Dancer in the Dark  movie         Crime, Drama, Musical       2000.0   \n",
       "4                The Dark  movie        Drama, Fantasy, Horror       2005.0   \n",
       "...                   ...    ...                           ...          ...   \n",
       "73146                 NaN     tv                           NaN       2023.0   \n",
       "73147      Tranquilo Papá     tv                        Comedy       2017.0   \n",
       "73148                 NaN     tv                           NaN       2021.0   \n",
       "73149       Murder Drones     tv  Action, Adventure, Animation       2021.0   \n",
       "73150                 NaN     tv                           NaN       2015.0   \n",
       "\n",
       "           imdbId  imdbAverageRating  imdbNumVotes availableCountries  \n",
       "0       tt0107286                6.6       19960.0                NaN  \n",
       "1       tt0109830                8.8     2381047.0                NaN  \n",
       "2       tt0033467                8.3      481447.0                NaN  \n",
       "3       tt0168629                7.9      120724.0                NaN  \n",
       "4       tt0411267                5.3       11685.0                NaN  \n",
       "...           ...                ...           ...                ...  \n",
       "73146         NaN                NaN           NaN                NaN  \n",
       "73147   tt7122438                5.6          21.0                NaN  \n",
       "73148         NaN                NaN           NaN                NaN  \n",
       "73149  tt15599734                7.8        3994.0                NaN  \n",
       "73150         NaN                NaN           NaN                NaN  \n",
       "\n",
       "[73151 rows x 8 columns]"
      ]
     },
     "execution_count": 4,
     "metadata": {},
     "output_type": "execute_result"
    }
   ],
   "source": [
    "df_prime"
   ]
  },
  {
   "cell_type": "code",
   "execution_count": 5,
   "id": "2c59b33e",
   "metadata": {},
   "outputs": [
    {
     "data": {
      "text/html": [
       "<div>\n",
       "<style scoped>\n",
       "    .dataframe tbody tr th:only-of-type {\n",
       "        vertical-align: middle;\n",
       "    }\n",
       "\n",
       "    .dataframe tbody tr th {\n",
       "        vertical-align: top;\n",
       "    }\n",
       "\n",
       "    .dataframe thead th {\n",
       "        text-align: right;\n",
       "    }\n",
       "</style>\n",
       "<table border=\"1\" class=\"dataframe\">\n",
       "  <thead>\n",
       "    <tr style=\"text-align: right;\">\n",
       "      <th></th>\n",
       "      <th>releaseYear</th>\n",
       "      <th>imdbAverageRating</th>\n",
       "      <th>imdbNumVotes</th>\n",
       "    </tr>\n",
       "  </thead>\n",
       "  <tbody>\n",
       "    <tr>\n",
       "      <th>count</th>\n",
       "      <td>72943.000000</td>\n",
       "      <td>63949.000000</td>\n",
       "      <td>6.394900e+04</td>\n",
       "    </tr>\n",
       "    <tr>\n",
       "      <th>mean</th>\n",
       "      <td>2007.721111</td>\n",
       "      <td>5.952558</td>\n",
       "      <td>1.292447e+04</td>\n",
       "    </tr>\n",
       "    <tr>\n",
       "      <th>std</th>\n",
       "      <td>18.989614</td>\n",
       "      <td>1.372682</td>\n",
       "      <td>7.423526e+04</td>\n",
       "    </tr>\n",
       "    <tr>\n",
       "      <th>min</th>\n",
       "      <td>1902.000000</td>\n",
       "      <td>1.000000</td>\n",
       "      <td>5.000000e+00</td>\n",
       "    </tr>\n",
       "    <tr>\n",
       "      <th>25%</th>\n",
       "      <td>2004.000000</td>\n",
       "      <td>5.100000</td>\n",
       "      <td>9.800000e+01</td>\n",
       "    </tr>\n",
       "    <tr>\n",
       "      <th>50%</th>\n",
       "      <td>2015.000000</td>\n",
       "      <td>6.100000</td>\n",
       "      <td>4.350000e+02</td>\n",
       "    </tr>\n",
       "    <tr>\n",
       "      <th>75%</th>\n",
       "      <td>2020.000000</td>\n",
       "      <td>7.000000</td>\n",
       "      <td>2.286000e+03</td>\n",
       "    </tr>\n",
       "    <tr>\n",
       "      <th>max</th>\n",
       "      <td>2027.000000</td>\n",
       "      <td>10.000000</td>\n",
       "      <td>3.046940e+06</td>\n",
       "    </tr>\n",
       "  </tbody>\n",
       "</table>\n",
       "</div>"
      ],
      "text/plain": [
       "        releaseYear  imdbAverageRating  imdbNumVotes\n",
       "count  72943.000000       63949.000000  6.394900e+04\n",
       "mean    2007.721111           5.952558  1.292447e+04\n",
       "std       18.989614           1.372682  7.423526e+04\n",
       "min     1902.000000           1.000000  5.000000e+00\n",
       "25%     2004.000000           5.100000  9.800000e+01\n",
       "50%     2015.000000           6.100000  4.350000e+02\n",
       "75%     2020.000000           7.000000  2.286000e+03\n",
       "max     2027.000000          10.000000  3.046940e+06"
      ]
     },
     "execution_count": 5,
     "metadata": {},
     "output_type": "execute_result"
    }
   ],
   "source": [
    "df_prime.describe()"
   ]
  },
  {
   "cell_type": "code",
   "execution_count": 6,
   "id": "81c1b20e",
   "metadata": {},
   "outputs": [
    {
     "name": "stdout",
     "output_type": "stream",
     "text": [
      "<class 'pandas.core.frame.DataFrame'>\n",
      "RangeIndex: 73151 entries, 0 to 73150\n",
      "Data columns (total 8 columns):\n",
      " #   Column              Non-Null Count  Dtype  \n",
      "---  ------              --------------  -----  \n",
      " 0   title               71372 non-null  object \n",
      " 1   type                73151 non-null  object \n",
      " 2   genres              70910 non-null  object \n",
      " 3   releaseYear         72943 non-null  float64\n",
      " 4   imdbId              66262 non-null  object \n",
      " 5   imdbAverageRating   63949 non-null  float64\n",
      " 6   imdbNumVotes        63949 non-null  float64\n",
      " 7   availableCountries  282 non-null    object \n",
      "dtypes: float64(3), object(5)\n",
      "memory usage: 4.5+ MB\n"
     ]
    }
   ],
   "source": [
    "df_prime.info()"
   ]
  },
  {
   "cell_type": "code",
   "execution_count": 7,
   "id": "82238d4d",
   "metadata": {},
   "outputs": [
    {
     "data": {
      "text/plain": [
       "np.int64(1221)"
      ]
     },
     "execution_count": 7,
     "metadata": {},
     "output_type": "execute_result"
    }
   ],
   "source": [
    "df_prime.duplicated().sum()"
   ]
  },
  {
   "cell_type": "code",
   "execution_count": 8,
   "id": "2e87ea16",
   "metadata": {},
   "outputs": [
    {
     "name": "stdout",
     "output_type": "stream",
     "text": [
      "Coluna 'title' possui 7161 valores duplicados.\n",
      "Coluna 'type' possui 73149 valores duplicados.\n",
      "Coluna 'genres' possui 71641 valores duplicados.\n",
      "Coluna 'releaseYear' possui 73031 valores duplicados.\n",
      "Coluna 'imdbId' possui 6917 valores duplicados.\n",
      "Coluna 'imdbAverageRating' possui 73059 valores duplicados.\n",
      "Coluna 'imdbNumVotes' possui 59290 valores duplicados.\n",
      "Coluna 'availableCountries' possui 73063 valores duplicados.\n"
     ]
    }
   ],
   "source": [
    "# Verificar colunas com valores duplicados\n",
    "for col in df_prime.columns:\n",
    "    num_dups = df_prime.duplicated(subset=[col]).sum()\n",
    "    if num_dups > 0:\n",
    "        print(f\"Coluna '{col}' possui {num_dups} valores duplicados.\")"
   ]
  },
  {
   "cell_type": "code",
   "execution_count": 9,
   "id": "0587c17c",
   "metadata": {},
   "outputs": [
    {
     "data": {
      "text/html": [
       "<div>\n",
       "<style scoped>\n",
       "    .dataframe tbody tr th:only-of-type {\n",
       "        vertical-align: middle;\n",
       "    }\n",
       "\n",
       "    .dataframe tbody tr th {\n",
       "        vertical-align: top;\n",
       "    }\n",
       "\n",
       "    .dataframe thead th {\n",
       "        text-align: right;\n",
       "    }\n",
       "</style>\n",
       "<table border=\"1\" class=\"dataframe\">\n",
       "  <thead>\n",
       "    <tr style=\"text-align: right;\">\n",
       "      <th></th>\n",
       "      <th>title</th>\n",
       "      <th>type</th>\n",
       "      <th>genres</th>\n",
       "      <th>releaseYear</th>\n",
       "      <th>imdbId</th>\n",
       "      <th>imdbAverageRating</th>\n",
       "      <th>imdbNumVotes</th>\n",
       "      <th>availableCountries</th>\n",
       "    </tr>\n",
       "  </thead>\n",
       "  <tbody>\n",
       "    <tr>\n",
       "      <th>0</th>\n",
       "      <td>Judgment Night</td>\n",
       "      <td>movie</td>\n",
       "      <td>Action, Crime, Drama</td>\n",
       "      <td>1993.0</td>\n",
       "      <td>tt0107286</td>\n",
       "      <td>6.6</td>\n",
       "      <td>19960.0</td>\n",
       "      <td>NaN</td>\n",
       "    </tr>\n",
       "    <tr>\n",
       "      <th>1</th>\n",
       "      <td>Forrest Gump</td>\n",
       "      <td>movie</td>\n",
       "      <td>Drama, Romance</td>\n",
       "      <td>1994.0</td>\n",
       "      <td>tt0109830</td>\n",
       "      <td>8.8</td>\n",
       "      <td>2381047.0</td>\n",
       "      <td>NaN</td>\n",
       "    </tr>\n",
       "    <tr>\n",
       "      <th>2</th>\n",
       "      <td>Citizen Kane</td>\n",
       "      <td>movie</td>\n",
       "      <td>Drama, Mystery</td>\n",
       "      <td>1941.0</td>\n",
       "      <td>tt0033467</td>\n",
       "      <td>8.3</td>\n",
       "      <td>481447.0</td>\n",
       "      <td>NaN</td>\n",
       "    </tr>\n",
       "    <tr>\n",
       "      <th>3</th>\n",
       "      <td>Dancer in the Dark</td>\n",
       "      <td>movie</td>\n",
       "      <td>Crime, Drama, Musical</td>\n",
       "      <td>2000.0</td>\n",
       "      <td>tt0168629</td>\n",
       "      <td>7.9</td>\n",
       "      <td>120724.0</td>\n",
       "      <td>NaN</td>\n",
       "    </tr>\n",
       "    <tr>\n",
       "      <th>4</th>\n",
       "      <td>The Dark</td>\n",
       "      <td>movie</td>\n",
       "      <td>Drama, Fantasy, Horror</td>\n",
       "      <td>2005.0</td>\n",
       "      <td>tt0411267</td>\n",
       "      <td>5.3</td>\n",
       "      <td>11685.0</td>\n",
       "      <td>NaN</td>\n",
       "    </tr>\n",
       "    <tr>\n",
       "      <th>...</th>\n",
       "      <td>...</td>\n",
       "      <td>...</td>\n",
       "      <td>...</td>\n",
       "      <td>...</td>\n",
       "      <td>...</td>\n",
       "      <td>...</td>\n",
       "      <td>...</td>\n",
       "      <td>...</td>\n",
       "    </tr>\n",
       "    <tr>\n",
       "      <th>73142</th>\n",
       "      <td>The Way Out Germany</td>\n",
       "      <td>tv</td>\n",
       "      <td>Action, Comedy, Game-Show</td>\n",
       "      <td>2025.0</td>\n",
       "      <td>tt34280771</td>\n",
       "      <td>7.3</td>\n",
       "      <td>66.0</td>\n",
       "      <td>NaN</td>\n",
       "    </tr>\n",
       "    <tr>\n",
       "      <th>73143</th>\n",
       "      <td>NaN</td>\n",
       "      <td>tv</td>\n",
       "      <td>Animation, Crime, Mystery</td>\n",
       "      <td>1996.0</td>\n",
       "      <td>NaN</td>\n",
       "      <td>NaN</td>\n",
       "      <td>NaN</td>\n",
       "      <td>NaN</td>\n",
       "    </tr>\n",
       "    <tr>\n",
       "      <th>73144</th>\n",
       "      <td>Formula E: Driver</td>\n",
       "      <td>tv</td>\n",
       "      <td>Documentary, Sport</td>\n",
       "      <td>2025.0</td>\n",
       "      <td>tt36674331</td>\n",
       "      <td>6.9</td>\n",
       "      <td>31.0</td>\n",
       "      <td>NaN</td>\n",
       "    </tr>\n",
       "    <tr>\n",
       "      <th>73147</th>\n",
       "      <td>Tranquilo Papá</td>\n",
       "      <td>tv</td>\n",
       "      <td>Comedy</td>\n",
       "      <td>2017.0</td>\n",
       "      <td>tt7122438</td>\n",
       "      <td>5.6</td>\n",
       "      <td>21.0</td>\n",
       "      <td>NaN</td>\n",
       "    </tr>\n",
       "    <tr>\n",
       "      <th>73149</th>\n",
       "      <td>Murder Drones</td>\n",
       "      <td>tv</td>\n",
       "      <td>Action, Adventure, Animation</td>\n",
       "      <td>2021.0</td>\n",
       "      <td>tt15599734</td>\n",
       "      <td>7.8</td>\n",
       "      <td>3994.0</td>\n",
       "      <td>NaN</td>\n",
       "    </tr>\n",
       "  </tbody>\n",
       "</table>\n",
       "<p>71930 rows × 8 columns</p>\n",
       "</div>"
      ],
      "text/plain": [
       "                     title   type                        genres  releaseYear  \\\n",
       "0           Judgment Night  movie          Action, Crime, Drama       1993.0   \n",
       "1             Forrest Gump  movie                Drama, Romance       1994.0   \n",
       "2             Citizen Kane  movie                Drama, Mystery       1941.0   \n",
       "3       Dancer in the Dark  movie         Crime, Drama, Musical       2000.0   \n",
       "4                 The Dark  movie        Drama, Fantasy, Horror       2005.0   \n",
       "...                    ...    ...                           ...          ...   \n",
       "73142  The Way Out Germany     tv     Action, Comedy, Game-Show       2025.0   \n",
       "73143                  NaN     tv     Animation, Crime, Mystery       1996.0   \n",
       "73144    Formula E: Driver     tv            Documentary, Sport       2025.0   \n",
       "73147       Tranquilo Papá     tv                        Comedy       2017.0   \n",
       "73149        Murder Drones     tv  Action, Adventure, Animation       2021.0   \n",
       "\n",
       "           imdbId  imdbAverageRating  imdbNumVotes availableCountries  \n",
       "0       tt0107286                6.6       19960.0                NaN  \n",
       "1       tt0109830                8.8     2381047.0                NaN  \n",
       "2       tt0033467                8.3      481447.0                NaN  \n",
       "3       tt0168629                7.9      120724.0                NaN  \n",
       "4       tt0411267                5.3       11685.0                NaN  \n",
       "...           ...                ...           ...                ...  \n",
       "73142  tt34280771                7.3          66.0                NaN  \n",
       "73143         NaN                NaN           NaN                NaN  \n",
       "73144  tt36674331                6.9          31.0                NaN  \n",
       "73147   tt7122438                5.6          21.0                NaN  \n",
       "73149  tt15599734                7.8        3994.0                NaN  \n",
       "\n",
       "[71930 rows x 8 columns]"
      ]
     },
     "execution_count": 9,
     "metadata": {},
     "output_type": "execute_result"
    }
   ],
   "source": [
    "df_prime.drop_duplicates()"
   ]
  },
  {
   "cell_type": "code",
   "execution_count": 10,
   "id": "71d1dfe4",
   "metadata": {},
   "outputs": [
    {
     "data": {
      "text/plain": [
       "title                  1779\n",
       "type                      0\n",
       "genres                 2241\n",
       "releaseYear             208\n",
       "imdbId                 6889\n",
       "imdbAverageRating      9202\n",
       "imdbNumVotes           9202\n",
       "availableCountries    72869\n",
       "dtype: int64"
      ]
     },
     "execution_count": 10,
     "metadata": {},
     "output_type": "execute_result"
    }
   ],
   "source": [
    "df_prime.isnull().sum()"
   ]
  },
  {
   "cell_type": "code",
   "execution_count": 11,
   "id": "3855cfc3",
   "metadata": {},
   "outputs": [
    {
     "data": {
      "text/html": [
       "<div>\n",
       "<style scoped>\n",
       "    .dataframe tbody tr th:only-of-type {\n",
       "        vertical-align: middle;\n",
       "    }\n",
       "\n",
       "    .dataframe tbody tr th {\n",
       "        vertical-align: top;\n",
       "    }\n",
       "\n",
       "    .dataframe thead th {\n",
       "        text-align: right;\n",
       "    }\n",
       "</style>\n",
       "<table border=\"1\" class=\"dataframe\">\n",
       "  <thead>\n",
       "    <tr style=\"text-align: right;\">\n",
       "      <th></th>\n",
       "      <th>title</th>\n",
       "      <th>type</th>\n",
       "      <th>genres</th>\n",
       "      <th>releaseYear</th>\n",
       "      <th>imdbId</th>\n",
       "      <th>imdbAverageRating</th>\n",
       "      <th>imdbNumVotes</th>\n",
       "      <th>availableCountries</th>\n",
       "    </tr>\n",
       "  </thead>\n",
       "  <tbody>\n",
       "    <tr>\n",
       "      <th>0</th>\n",
       "      <td>Judgment Night</td>\n",
       "      <td>movie</td>\n",
       "      <td>Action, Crime, Drama</td>\n",
       "      <td>1993.0</td>\n",
       "      <td>tt0107286</td>\n",
       "      <td>6.6</td>\n",
       "      <td>19960.0</td>\n",
       "      <td>NaN</td>\n",
       "    </tr>\n",
       "    <tr>\n",
       "      <th>1</th>\n",
       "      <td>Forrest Gump</td>\n",
       "      <td>movie</td>\n",
       "      <td>Drama, Romance</td>\n",
       "      <td>1994.0</td>\n",
       "      <td>tt0109830</td>\n",
       "      <td>8.8</td>\n",
       "      <td>2381047.0</td>\n",
       "      <td>NaN</td>\n",
       "    </tr>\n",
       "    <tr>\n",
       "      <th>2</th>\n",
       "      <td>Citizen Kane</td>\n",
       "      <td>movie</td>\n",
       "      <td>Drama, Mystery</td>\n",
       "      <td>1941.0</td>\n",
       "      <td>tt0033467</td>\n",
       "      <td>8.3</td>\n",
       "      <td>481447.0</td>\n",
       "      <td>NaN</td>\n",
       "    </tr>\n",
       "    <tr>\n",
       "      <th>3</th>\n",
       "      <td>Dancer in the Dark</td>\n",
       "      <td>movie</td>\n",
       "      <td>Crime, Drama, Musical</td>\n",
       "      <td>2000.0</td>\n",
       "      <td>tt0168629</td>\n",
       "      <td>7.9</td>\n",
       "      <td>120724.0</td>\n",
       "      <td>NaN</td>\n",
       "    </tr>\n",
       "    <tr>\n",
       "      <th>4</th>\n",
       "      <td>The Dark</td>\n",
       "      <td>movie</td>\n",
       "      <td>Drama, Fantasy, Horror</td>\n",
       "      <td>2005.0</td>\n",
       "      <td>tt0411267</td>\n",
       "      <td>5.3</td>\n",
       "      <td>11685.0</td>\n",
       "      <td>NaN</td>\n",
       "    </tr>\n",
       "    <tr>\n",
       "      <th>...</th>\n",
       "      <td>...</td>\n",
       "      <td>...</td>\n",
       "      <td>...</td>\n",
       "      <td>...</td>\n",
       "      <td>...</td>\n",
       "      <td>...</td>\n",
       "      <td>...</td>\n",
       "      <td>...</td>\n",
       "    </tr>\n",
       "    <tr>\n",
       "      <th>73141</th>\n",
       "      <td>Barbie Dream Besties</td>\n",
       "      <td>tv</td>\n",
       "      <td>Fantasy</td>\n",
       "      <td>2024.0</td>\n",
       "      <td>tt33456563</td>\n",
       "      <td>6.8</td>\n",
       "      <td>18.0</td>\n",
       "      <td>NaN</td>\n",
       "    </tr>\n",
       "    <tr>\n",
       "      <th>73142</th>\n",
       "      <td>The Way Out Germany</td>\n",
       "      <td>tv</td>\n",
       "      <td>Action, Comedy, Game-Show</td>\n",
       "      <td>2025.0</td>\n",
       "      <td>tt34280771</td>\n",
       "      <td>7.3</td>\n",
       "      <td>66.0</td>\n",
       "      <td>NaN</td>\n",
       "    </tr>\n",
       "    <tr>\n",
       "      <th>73144</th>\n",
       "      <td>Formula E: Driver</td>\n",
       "      <td>tv</td>\n",
       "      <td>Documentary, Sport</td>\n",
       "      <td>2025.0</td>\n",
       "      <td>tt36674331</td>\n",
       "      <td>6.9</td>\n",
       "      <td>31.0</td>\n",
       "      <td>NaN</td>\n",
       "    </tr>\n",
       "    <tr>\n",
       "      <th>73147</th>\n",
       "      <td>Tranquilo Papá</td>\n",
       "      <td>tv</td>\n",
       "      <td>Comedy</td>\n",
       "      <td>2017.0</td>\n",
       "      <td>tt7122438</td>\n",
       "      <td>5.6</td>\n",
       "      <td>21.0</td>\n",
       "      <td>NaN</td>\n",
       "    </tr>\n",
       "    <tr>\n",
       "      <th>73149</th>\n",
       "      <td>Murder Drones</td>\n",
       "      <td>tv</td>\n",
       "      <td>Action, Adventure, Animation</td>\n",
       "      <td>2021.0</td>\n",
       "      <td>tt15599734</td>\n",
       "      <td>7.8</td>\n",
       "      <td>3994.0</td>\n",
       "      <td>NaN</td>\n",
       "    </tr>\n",
       "  </tbody>\n",
       "</table>\n",
       "<p>71372 rows × 8 columns</p>\n",
       "</div>"
      ],
      "text/plain": [
       "                      title   type                        genres  releaseYear  \\\n",
       "0            Judgment Night  movie          Action, Crime, Drama       1993.0   \n",
       "1              Forrest Gump  movie                Drama, Romance       1994.0   \n",
       "2              Citizen Kane  movie                Drama, Mystery       1941.0   \n",
       "3        Dancer in the Dark  movie         Crime, Drama, Musical       2000.0   \n",
       "4                  The Dark  movie        Drama, Fantasy, Horror       2005.0   \n",
       "...                     ...    ...                           ...          ...   \n",
       "73141  Barbie Dream Besties     tv                       Fantasy       2024.0   \n",
       "73142   The Way Out Germany     tv     Action, Comedy, Game-Show       2025.0   \n",
       "73144     Formula E: Driver     tv            Documentary, Sport       2025.0   \n",
       "73147        Tranquilo Papá     tv                        Comedy       2017.0   \n",
       "73149         Murder Drones     tv  Action, Adventure, Animation       2021.0   \n",
       "\n",
       "           imdbId  imdbAverageRating  imdbNumVotes availableCountries  \n",
       "0       tt0107286                6.6       19960.0                NaN  \n",
       "1       tt0109830                8.8     2381047.0                NaN  \n",
       "2       tt0033467                8.3      481447.0                NaN  \n",
       "3       tt0168629                7.9      120724.0                NaN  \n",
       "4       tt0411267                5.3       11685.0                NaN  \n",
       "...           ...                ...           ...                ...  \n",
       "73141  tt33456563                6.8          18.0                NaN  \n",
       "73142  tt34280771                7.3          66.0                NaN  \n",
       "73144  tt36674331                6.9          31.0                NaN  \n",
       "73147   tt7122438                5.6          21.0                NaN  \n",
       "73149  tt15599734                7.8        3994.0                NaN  \n",
       "\n",
       "[71372 rows x 8 columns]"
      ]
     },
     "execution_count": 11,
     "metadata": {},
     "output_type": "execute_result"
    }
   ],
   "source": [
    "df_prime.dropna(subset=['title'])"
   ]
  },
  {
   "cell_type": "code",
   "execution_count": 12,
   "id": "2c5cbf97",
   "metadata": {},
   "outputs": [],
   "source": [
    "#preencher os NaN de genres com \"Não informado\"\n",
    "df_prime['genres'] = df_prime['genres'].fillna('Não informado')"
   ]
  },
  {
   "cell_type": "code",
   "execution_count": 13,
   "id": "95177487",
   "metadata": {},
   "outputs": [
    {
     "name": "stdout",
     "output_type": "stream",
     "text": [
      "Registros sem imdbId: 6889\n",
      "Registros sem rating: 9202\n",
      "Dos que não têm ID, quantos também não têm rating: 6889\n"
     ]
    }
   ],
   "source": [
    "# os NaN em imdbId e imdbAverageRating podem ser um problema se for analisar a avaliação dos filmes, então preciso ver se o NaN em um coincide com NaN na outra\n",
    "\n",
    "# Investigar a situação dos NaN\n",
    "print(\"Registros sem imdbId:\", df_prime['imdbId'].isna().sum())\n",
    "print(\"Registros sem rating:\", df_prime['imdbAverageRating'].isna().sum())\n",
    "\n",
    "# Ver se NaN em imdbId implica em NaN em rating\n",
    "mask_sem_id = df_prime['imdbId'].isna()\n",
    "print(\"Dos que não têm ID, quantos também não têm rating:\", \n",
    "      df_prime[mask_sem_id]['imdbAverageRating'].isna().sum())"
   ]
  },
  {
   "cell_type": "code",
   "execution_count": 14,
   "id": "6043c099",
   "metadata": {},
   "outputs": [
    {
     "name": "stdout",
     "output_type": "stream",
     "text": [
      "Registros com ID mas sem avaliação: 2313\n",
      "\n",
      "Exemplos de conteúdo com ID mas sem avaliação:\n",
      "             title      imdbId  releaseYear\n",
      "1316        Rounds   tt8504330       2007.0\n",
      "3278      Realtime   tt2333982       2007.0\n",
      "9047   Becoming 13  tt10418724       2006.0\n",
      "9067  Kokumon Gate  tt13174762       2019.0\n",
      "9175      Goldfish  tt27432183       2023.0\n"
     ]
    }
   ],
   "source": [
    "# Investigar os casos com ID mas sem avaliação\n",
    "tem_id_sem_rating = df_prime['imdbId'].notna() & df_prime['imdbAverageRating'].isna()\n",
    "print(\"Registros com ID mas sem avaliação:\", tem_id_sem_rating.sum())\n",
    "\n",
    "# Ver alguns exemplos desses casos\n",
    "print(\"\\nExemplos de conteúdo com ID mas sem avaliação:\")\n",
    "exemplos = df_prime[tem_id_sem_rating][['title', 'imdbId', 'releaseYear']].head()\n",
    "print(exemplos)"
   ]
  },
  {
   "cell_type": "code",
   "execution_count": 15,
   "id": "ae9d221d",
   "metadata": {},
   "outputs": [],
   "source": [
    "#preencher os NaN de imdbid com \"Não informado\"\n",
    "df_prime['imdbId'] = df_prime['imdbId'].fillna('Não informado')"
   ]
  },
  {
   "cell_type": "code",
   "execution_count": 16,
   "id": "3dde25d8",
   "metadata": {},
   "outputs": [],
   "source": [
    "def impute_ratings_by_genre_decade(df_prime):\n",
    "    \"\"\"\n",
    "    Imputa valores NaN de imdbAverageRating usando mediana por gênero primário + década\n",
    "    \n",
    "    Args:\n",
    "        df: DataFrame com colunas 'genres', 'releaseYear', 'imdbAverageRating'\n",
    "    \n",
    "    Returns:\n",
    "        DataFrame com ratings imputados e colunas adicionais para rastreamento\n",
    "    \"\"\"\n",
    "    # Extrair gênero primário (primeiro da lista)\n",
    "    df_prime['primaryGenre'] = df_prime['genres'].fillna('Unknown').str.split(',').str[0].str.strip()\n",
    "\n",
    "    # Extrair década\n",
    "    df_prime['decade'] = (df_prime['releaseYear'] // 10) * 10\n",
    "\n",
    "    # Flag para indicar se tinha rating original\n",
    "    df_prime['hasOriginalRating'] = df_prime['imdbAverageRating'].notna()\n",
    "\n",
    "    # Calcular medianas por gênero + década (apenas filmes COM rating)\n",
    "    films_with_rating = df_prime[df_prime['hasOriginalRating']]\n",
    "    \n",
    "    medians_genre_decade = (films_with_rating.groupby(['primaryGenre', 'decade'])['imdbAverageRating'].agg(['median', 'count']).reset_index())\n",
    "\n",
    "    # Calcular medianas só por gênero (fallback)\n",
    "    medians_genre = (films_with_rating.groupby('primaryGenre')['imdbAverageRating'].median().reset_index())\n",
    "    \n",
    "    # Mediana global (último recurso)\n",
    "    global_median = films_with_rating['imdbAverageRating'].median()\n",
    "\n",
    "    # Função aninhada para imputar um filme específico\n",
    "    def impute_single_film(row):\n",
    "        if row['hasOriginalRating']:\n",
    "            return pd.Series({\n",
    "                'imdbAverageRating': row['imdbAverageRating'],\n",
    "                'ratingImputed': False,\n",
    "                'imputationSource': 'original'\n",
    "            })\n",
    "        \n",
    "        # Tentar gênero + década primeiro\n",
    "        genre_decade_match = medians_genre_decade[\n",
    "            (medians_genre_decade['primaryGenre'] == row['primaryGenre']) & \n",
    "            (medians_genre_decade['decade'] == row['decade'])\n",
    "        ]\n",
    "        \n",
    "        if not genre_decade_match.empty:\n",
    "            median_val = genre_decade_match.iloc[0]['median']\n",
    "            count = genre_decade_match.iloc[0]['count']\n",
    "            return pd.Series({\n",
    "                'imdbAverageRating': median_val,\n",
    "                'ratingImputed': True,\n",
    "                'imputationSource': f\"{row['primaryGenre']} {int(row['decade'])}s ({count} filmes)\"\n",
    "            })\n",
    "        \n",
    "        # Fallback: só gênero\n",
    "        genre_match = medians_genre[medians_genre['primaryGenre'] == row['primaryGenre']]\n",
    "        \n",
    "        if not genre_match.empty:\n",
    "            median_val = genre_match.iloc[0]['imdbAverageRating']\n",
    "            return pd.Series({\n",
    "                'imdbAverageRating': median_val,\n",
    "                'ratingImputed': True,\n",
    "                'imputationSource': f\"{row['primaryGenre']} geral\"\n",
    "            })\n",
    "        \n",
    "        # Último recurso: mediana global\n",
    "        return pd.Series({\n",
    "            'imdbAverageRating': global_median,\n",
    "            'ratingImputed': True,\n",
    "            'imputationSource': \"mediana global\"\n",
    "        })\n",
    "\n",
    "    # Aplicar imputação\n",
    "    imputation_results = df_prime.apply(impute_single_film, axis=1)\n",
    "\n",
    "    # Combinar resultados\n",
    "    df_prime['imdbAverageRating'] = imputation_results['imdbAverageRating']\n",
    "    df_prime['ratingImputed'] = imputation_results['ratingImputed']\n",
    "    df_prime['imputationSource'] = imputation_results['imputationSource']\n",
    "\n",
    "    return df_prime, medians_genre_decade, global_median"
   ]
  },
  {
   "cell_type": "code",
   "execution_count": 17,
   "id": "522a499a",
   "metadata": {},
   "outputs": [],
   "source": [
    "# APLICAR A IMPUTAÇÃO\n",
    "df_imputed, medians_table, global_median = impute_ratings_by_genre_decade(df_prime)"
   ]
  },
  {
   "cell_type": "code",
   "execution_count": 18,
   "id": "5c607266",
   "metadata": {},
   "outputs": [
    {
     "name": "stdout",
     "output_type": "stream",
     "text": [
      "Valores imputados: 9202\n"
     ]
    }
   ],
   "source": [
    "imputed_count = df_imputed['ratingImputed'].sum()\n",
    "print(f\"Valores imputados: {imputed_count}\")"
   ]
  },
  {
   "cell_type": "code",
   "execution_count": 19,
   "id": "48c84feb",
   "metadata": {},
   "outputs": [
    {
     "name": "stdout",
     "output_type": "stream",
     "text": [
      " 1. \"Judgment Night\" (1993)\n",
      "    Gênero: Action\n",
      "    Avaliação imputada: 6.6\n",
      "    Fonte: original\n",
      "\n",
      " 2. \"Forrest Gump\" (1994)\n",
      "    Gênero: Drama\n",
      "    Avaliação imputada: 8.8\n",
      "    Fonte: original\n",
      "\n",
      " 3. \"Citizen Kane\" (1941)\n",
      "    Gênero: Drama\n",
      "    Avaliação imputada: 8.3\n",
      "    Fonte: original\n",
      "\n",
      " 4. \"Dancer in the Dark\" (2000)\n",
      "    Gênero: Crime\n",
      "    Avaliação imputada: 7.9\n",
      "    Fonte: original\n",
      "\n",
      " 5. \"The Dark\" (2005)\n",
      "    Gênero: Drama\n",
      "    Avaliação imputada: 5.3\n",
      "    Fonte: original\n",
      "\n",
      " 6. \"Metropolis\" (1927)\n",
      "    Gênero: Drama\n",
      "    Avaliação imputada: 8.3\n",
      "    Fonte: original\n",
      "\n",
      " 7. \"My Life Without Me\" (2003)\n",
      "    Gênero: Drama\n",
      "    Avaliação imputada: 7.4\n",
      "    Fonte: original\n",
      "\n",
      " 8. \"The Endless Summer\" (1966)\n",
      "    Gênero: Documentary\n",
      "    Avaliação imputada: 7.6\n",
      "    Fonte: original\n",
      "\n"
     ]
    }
   ],
   "source": [
    "# Mostrar alguns exemplos organizados\n",
    "for i, (_, filme) in enumerate(df_imputed.head(8).iterrows()):\n",
    "    print(f\"{i+1:2d}. \\\"{filme['title']}\\\" ({int(filme['releaseYear'])})\")\n",
    "    print(f\"    Gênero: {filme['primaryGenre']}\")\n",
    "    print(f\"    Avaliação imputada: {filme['imdbAverageRating']:.1f}\")\n",
    "    print(f\"    Fonte: {filme['imputationSource']}\")\n",
    "    print()"
   ]
  },
  {
   "cell_type": "code",
   "execution_count": 20,
   "id": "65f118f4",
   "metadata": {},
   "outputs": [],
   "source": [
    "# Axis 1 para colunas, axis 0 para linhas\n",
    "df_prime = df_prime.drop(['availableCountries'], axis=1)"
   ]
  },
  {
   "cell_type": "code",
   "execution_count": 21,
   "id": "9fac97c4",
   "metadata": {},
   "outputs": [
    {
     "data": {
      "text/plain": [
       "title                1779\n",
       "type                    0\n",
       "genres                  0\n",
       "releaseYear           208\n",
       "imdbId                  0\n",
       "imdbAverageRating       0\n",
       "imdbNumVotes         9202\n",
       "primaryGenre            0\n",
       "decade                208\n",
       "hasOriginalRating       0\n",
       "ratingImputed           0\n",
       "imputationSource        0\n",
       "dtype: int64"
      ]
     },
     "execution_count": 21,
     "metadata": {},
     "output_type": "execute_result"
    }
   ],
   "source": [
    "df_prime.isnull().sum()"
   ]
  },
  {
   "cell_type": "code",
   "execution_count": 22,
   "id": "8d096744",
   "metadata": {},
   "outputs": [
    {
     "name": "stdout",
     "output_type": "stream",
     "text": [
      "                                  title   type         genres         imdbId  \\\n",
      "28421                          Stranded  movie  Não informado  Não informado   \n",
      "35285  Paul Morrissey: A Real Humdinger  movie  Não informado  Não informado   \n",
      "35543      Moody McCarthy: The Good Jew  movie  Não informado  Não informado   \n",
      "35820  Keith Barany: Dude... Seriously?  movie  Não informado  Não informado   \n",
      "36107                 Scott Losse: Okay  movie  Não informado  Não informado   \n",
      "...                                 ...    ...            ...            ...   \n",
      "73026                               NaN     tv          Crime  Não informado   \n",
      "73083                               NaN     tv  Não informado  Não informado   \n",
      "73108                               NaN     tv  Não informado  Não informado   \n",
      "73110                               NaN     tv  Não informado  Não informado   \n",
      "73138                               NaN     tv  Não informado  Não informado   \n",
      "\n",
      "       imdbAverageRating  \n",
      "28421               6.35  \n",
      "35285               6.35  \n",
      "35543               6.35  \n",
      "35820               6.35  \n",
      "36107               6.35  \n",
      "...                  ...  \n",
      "73026               6.20  \n",
      "73083               6.35  \n",
      "73108               6.35  \n",
      "73110               6.35  \n",
      "73138               6.35  \n",
      "\n",
      "[208 rows x 5 columns]\n"
     ]
    }
   ],
   "source": [
    "# Ver quais são os filmes problemáticos\n",
    "nulls_year = df_prime[df_prime['releaseYear'].isna()]\n",
    "print(nulls_year[['title', 'type', 'genres', 'imdbId', 'imdbAverageRating']])"
   ]
  },
  {
   "cell_type": "code",
   "execution_count": 23,
   "id": "6e1f20d1",
   "metadata": {},
   "outputs": [],
   "source": [
    "df_prime = df_prime.dropna(subset=['releaseYear'])"
   ]
  },
  {
   "cell_type": "code",
   "execution_count": 24,
   "id": "e9e7a3bf",
   "metadata": {},
   "outputs": [],
   "source": [
    "df_prime['releaseYear'] = df_prime['releaseYear'].astype(int)"
   ]
  },
  {
   "cell_type": "code",
   "execution_count": 25,
   "id": "30b7cdc0",
   "metadata": {},
   "outputs": [
    {
     "name": "stdout",
     "output_type": "stream",
     "text": [
      "🔧 TRATANDO imdbNumVotes PARA FILMES IMPUTADOS\n",
      "==================================================\n"
     ]
    }
   ],
   "source": [
    "# TRATAR imdbNumVotes para filmes imputados\n",
    "print(\"🔧 TRATANDO imdbNumVotes PARA FILMES IMPUTADOS\")\n",
    "print(\"=\" * 50)\n",
    "\n",
    "# Para filmes com rating imputado, vamos usar a mediana de votos do mesmo gênero/década\n",
    "films_with_votes = df_prime[df_prime['imdbNumVotes'].notna()]\n",
    "\n",
    "# Calcular mediana de votos por gênero primário\n",
    "median_votes_by_genre = (films_with_votes\n",
    "                        .groupby('primaryGenre')['imdbNumVotes']\n",
    "                        .median()\n",
    "                        .to_dict())\n",
    "\n",
    "# Mediana global como fallback\n",
    "global_median_votes = films_with_votes['imdbNumVotes'].median()\n",
    "\n",
    "# Função para imputar votos\n",
    "def impute_votes(row):\n",
    "    if pd.notna(row['imdbNumVotes']):\n",
    "        return row['imdbNumVotes']\n",
    "    \n",
    "    # Se tem rating imputado, usar mediana do gênero\n",
    "    if row['ratingImputed']:\n",
    "        genre_median = median_votes_by_genre.get(row['primaryGenre'])\n",
    "        if genre_median:\n",
    "            return genre_median\n",
    "        else:\n",
    "            return global_median_votes\n",
    "    \n",
    "    return row['imdbNumVotes']\n",
    "\n"
   ]
  },
  {
   "cell_type": "code",
   "execution_count": 26,
   "id": "d917e3c4",
   "metadata": {},
   "outputs": [],
   "source": [
    "# Aplicar imputação de votos\n",
    "df_prime['imdbNumVotes'] = df_prime.apply(impute_votes, axis=1)\n"
   ]
  },
  {
   "cell_type": "code",
   "execution_count": 27,
   "id": "650d00b6",
   "metadata": {},
   "outputs": [
    {
     "data": {
      "text/plain": [
       "title                1663\n",
       "type                    0\n",
       "genres                  0\n",
       "releaseYear             0\n",
       "imdbId                  0\n",
       "imdbAverageRating       0\n",
       "imdbNumVotes            0\n",
       "primaryGenre            0\n",
       "decade                  0\n",
       "hasOriginalRating       0\n",
       "ratingImputed           0\n",
       "imputationSource        0\n",
       "dtype: int64"
      ]
     },
     "execution_count": 27,
     "metadata": {},
     "output_type": "execute_result"
    }
   ],
   "source": [
    "df_prime.isnull().sum()\n"
   ]
  },
  {
   "cell_type": "code",
   "execution_count": 28,
   "id": "277786c0",
   "metadata": {},
   "outputs": [
    {
     "name": "stdout",
     "output_type": "stream",
     "text": [
      "title                 object\n",
      "type                  object\n",
      "genres                object\n",
      "releaseYear            int64\n",
      "imdbId                object\n",
      "imdbAverageRating    float64\n",
      "imdbNumVotes           int64\n",
      "primaryGenre          object\n",
      "decade               float64\n",
      "hasOriginalRating       bool\n",
      "ratingImputed           bool\n",
      "imputationSource      object\n",
      "dtype: object\n"
     ]
    }
   ],
   "source": [
    "df_prime['imdbNumVotes'] = df_prime['imdbNumVotes'].astype(int)\n",
    "# Verificar se a conversão foi bem-sucedida\n",
    "print(df_prime.dtypes)"
   ]
  },
  {
   "cell_type": "code",
   "execution_count": 29,
   "id": "ccb71dfd",
   "metadata": {},
   "outputs": [
    {
     "name": "stdout",
     "output_type": "stream",
     "text": [
      "\n",
      "📂 CRIANDO DATASET LIMPO\n",
      "==============================\n",
      "Forma final do dataset: (72943, 7)\n",
      "Colunas finais: ['title', 'type', 'genres', 'releaseYear', 'imdbId', 'imdbAverageRating', 'imdbNumVotes']\n"
     ]
    }
   ],
   "source": [
    "# CRIAR DATASET LIMPO (apenas colunas essenciais) e removendo as colunas criadas para o tratamento\n",
    "print(f\"\\n📂 CRIANDO DATASET LIMPO\")\n",
    "print(\"=\" * 30)\n",
    "\n",
    "colunas_essenciais = [\n",
    "    'title', \n",
    "    'type', \n",
    "    'genres', \n",
    "    'releaseYear', \n",
    "    'imdbId', \n",
    "    'imdbAverageRating', \n",
    "    'imdbNumVotes'\n",
    "]\n",
    "\n",
    "df_prime_clean = df_prime[colunas_essenciais].copy()\n",
    "\n",
    "print(f\"Forma final do dataset: {df_prime_clean.shape}\")\n",
    "print(f\"Colunas finais: {list(df_prime_clean.columns)}\")\n",
    "\n"
   ]
  },
  {
   "cell_type": "code",
   "execution_count": 30,
   "id": "f598c52a",
   "metadata": {},
   "outputs": [
    {
     "name": "stdout",
     "output_type": "stream",
     "text": [
      "\n",
      "✅ VERIFICAÇÃO FINAL\n",
      "===================================\n",
      "Valores nulos por coluna:\n",
      "title                1663\n",
      "type                    0\n",
      "genres                  0\n",
      "releaseYear             0\n",
      "imdbId                  0\n",
      "imdbAverageRating       0\n",
      "imdbNumVotes            0\n",
      "dtype: int64\n",
      "\n",
      "Tipos de dados:\n",
      "title                 object\n",
      "type                  object\n",
      "genres                object\n",
      "releaseYear            int64\n",
      "imdbId                object\n",
      "imdbAverageRating    float64\n",
      "imdbNumVotes           int64\n",
      "dtype: object\n"
     ]
    }
   ],
   "source": [
    "# VERIFICAÇÃO FINAL\n",
    "print(f\"\\n✅ VERIFICAÇÃO FINAL\")\n",
    "print(\"=\" * 35)\n",
    "\n",
    "print(\"Valores nulos por coluna:\")\n",
    "print(df_prime_clean.isnull().sum())\n",
    "\n",
    "print(f\"\\nTipos de dados:\")\n",
    "print(df_prime_clean.dtypes)"
   ]
  },
  {
   "cell_type": "markdown",
   "id": "b41bae0a",
   "metadata": {},
   "source": [
    "# ========Exploração Tipo e Gênero ==========="
   ]
  },
  {
   "cell_type": "code",
   "execution_count": 31,
   "id": "1bde8fe2",
   "metadata": {},
   "outputs": [
    {
     "name": "stdout",
     "output_type": "stream",
     "text": [
      "Tipos únicos na coluna 'type': ['movie' 'tv']\n"
     ]
    }
   ],
   "source": [
    "tipos_unicos = df_prime_clean['type'].unique()\n",
    "print(\"Tipos únicos na coluna 'type':\", tipos_unicos)"
   ]
  },
  {
   "cell_type": "code",
   "execution_count": 32,
   "id": "d11774ec",
   "metadata": {},
   "outputs": [
    {
     "name": "stdout",
     "output_type": "stream",
     "text": [
      "\n",
      "Distribuição por tipo:\n",
      "movie: 63416 produções (86.9%)\n",
      "tv: 9527 produções (13.1%)\n"
     ]
    }
   ],
   "source": [
    "# Contando quantas produções existem de cada tipo\n",
    "contagem_tipos = df_prime_clean['type'].value_counts()\n",
    "print(f\"\\nDistribuição por tipo:\")\n",
    "for tipo, quantidade in contagem_tipos.items():\n",
    "    percentual = (quantidade / len(df_prime_clean)) * 100\n",
    "    print(f\"{tipo}: {quantidade} produções ({percentual:.1f}%)\")"
   ]
  },
  {
   "cell_type": "code",
   "execution_count": 33,
   "id": "5c6b8cda",
   "metadata": {},
   "outputs": [
    {
     "name": "stdout",
     "output_type": "stream",
     "text": [
      "\n",
      "PADRÕES E ESTRUTURA DOS GENRES\n",
      "Exemplos de como os genres aparecem:\n",
      " 1. Adventure, Animation, Family\n",
      " 2. Adventure, Comedy, Horror\n",
      " 3. Comedy\n",
      " 4. Crime\n",
      " 5. Drama, Horror\n",
      " 6. Action, Adventure, Comedy\n",
      " 7. Adventure\n",
      " 8. Drama\n",
      " 9. Action, Thriller, War\n",
      "10. Drama, Family\n"
     ]
    }
   ],
   "source": [
    "# EXPLORANDO OS PADRÕES DOS GENRES\n",
    "print(\"\\nPADRÕES E ESTRUTURA DOS GENRES\")\n",
    "# Amostras aleatórias para entender o formato\n",
    "print(\"Exemplos de como os genres aparecem:\")\n",
    "sample_genres = df_prime_clean['genres'].dropna().sample(10).values\n",
    "for i, genre in enumerate(sample_genres, 1):\n",
    "    print(f\"{i:2d}. {genre}\")"
   ]
  },
  {
   "cell_type": "code",
   "execution_count": 34,
   "id": "e1697c5d",
   "metadata": {},
   "outputs": [],
   "source": [
    "# Função para extrair genres individuais\n",
    "def extract_individual_genres(df_prime_clean):\n",
    "    \"\"\"Extrai todos os genres individuais de uma coluna que pode conter múltiplos genres\"\"\"\n",
    "    all_genres = []\n",
    "    \n",
    "    for genres_str in df_prime_clean['genres'].dropna():\n",
    "        # Remove espaços e divide por vírgulas (assumindo que é o separador mais comum)\n",
    "        if pd.notna(genres_str):\n",
    "            # Tratamento flexível para diferentes separadores\n",
    "            genres_list = re.split(r'[,;|]', str(genres_str))\n",
    "            # Limpa e adiciona à lista\n",
    "            clean_genres = [genre.strip() for genre in genres_list if genre.strip()]\n",
    "            all_genres.extend(clean_genres)\n",
    "    \n",
    "    return all_genres"
   ]
  },
  {
   "cell_type": "code",
   "execution_count": 35,
   "id": "275bdb53",
   "metadata": {},
   "outputs": [],
   "source": [
    "# Extraindo todos os genres individuais\n",
    "individual_genres = extract_individual_genres(df_prime_clean)"
   ]
  },
  {
   "cell_type": "code",
   "execution_count": 36,
   "id": "cda35889",
   "metadata": {},
   "outputs": [
    {
     "name": "stdout",
     "output_type": "stream",
     "text": [
      "Total de genres únicos encontrados: 38\n",
      "Total de ocorrências de genres: 142834\n"
     ]
    }
   ],
   "source": [
    "# Contando frequencias\n",
    "genre_counts = Counter(individual_genres)\n",
    "print(f\"Total de genres únicos encontrados: {len(genre_counts)}\")\n",
    "print(f\"Total de ocorrências de genres: {sum(genre_counts.values())}\")"
   ]
  },
  {
   "cell_type": "code",
   "execution_count": 37,
   "id": "c919314a",
   "metadata": {},
   "outputs": [
    {
     "name": "stdout",
     "output_type": "stream",
     "text": [
      "\n",
      " TOP 20 GENRES MAIS POPULARES\n",
      " 1. Drama                     |  30582 ocorrências (21.41%)\n",
      " 2. Comedy                    |  17523 ocorrências (12.27%)\n",
      " 3. Action                    |  10609 ocorrências ( 7.43%)\n",
      " 4. Documentary               |   9719 ocorrências ( 6.80%)\n",
      " 5. Thriller                  |   9183 ocorrências ( 6.43%)\n",
      " 6. Horror                    |   8254 ocorrências ( 5.78%)\n",
      " 7. Crime                     |   8063 ocorrências ( 5.65%)\n",
      " 8. Romance                   |   7841 ocorrências ( 5.49%)\n",
      " 9. Adventure                 |   6346 ocorrências ( 4.44%)\n",
      "10. Mystery                   |   4629 ocorrências ( 3.24%)\n",
      "11. Family                    |   4086 ocorrências ( 2.86%)\n",
      "12. Animation                 |   4081 ocorrências ( 2.86%)\n",
      "13. Fantasy                   |   3042 ocorrências ( 2.13%)\n",
      "14. Sci-Fi                    |   2758 ocorrências ( 1.93%)\n",
      "15. Biography                 |   2485 ocorrências ( 1.74%)\n",
      "16. History                   |   2332 ocorrências ( 1.63%)\n",
      "17. Não informado             |   2100 ocorrências ( 1.47%)\n",
      "18. Music                     |   1884 ocorrências ( 1.32%)\n",
      "19. Western                   |   1360 ocorrências ( 0.95%)\n",
      "20. War                       |   1257 ocorrências ( 0.88%)\n"
     ]
    }
   ],
   "source": [
    "# TOP GENRES MAIS POPULARES\n",
    "print(\"\\n TOP 20 GENRES MAIS POPULARES\")\n",
    "top_genres = genre_counts.most_common(20)\n",
    "for i, (genre, count) in enumerate(top_genres, 1):\n",
    "    percentage = (count / sum(genre_counts.values())) * 100\n",
    "    print(f\"{i:2d}. {genre:<25} | {count:>6} ocorrências ({percentage:>5.2f}%)\")\n"
   ]
  },
  {
   "cell_type": "code",
   "execution_count": 38,
   "id": "da076351",
   "metadata": {},
   "outputs": [],
   "source": [
    "df_prime_clean.to_csv('data_prime_video_clean.csv', index=False)"
   ]
  }
 ],
 "metadata": {
  "kernelspec": {
   "display_name": ".venv",
   "language": "python",
   "name": "python3"
  },
  "language_info": {
   "codemirror_mode": {
    "name": "ipython",
    "version": 3
   },
   "file_extension": ".py",
   "mimetype": "text/x-python",
   "name": "python",
   "nbconvert_exporter": "python",
   "pygments_lexer": "ipython3",
   "version": "3.11.9"
  }
 },
 "nbformat": 4,
 "nbformat_minor": 5
}
