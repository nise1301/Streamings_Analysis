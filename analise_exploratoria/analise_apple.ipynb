{
 "cells": [
  {
   "cell_type": "code",
   "execution_count": null,
   "id": "8a028561",
   "metadata": {},
   "outputs": [],
   "source": [
    "%pip install pandas\n",
    "%pip install numpy "
   ]
  },
  {
   "cell_type": "code",
   "execution_count": 1,
   "id": "5c91dd2d",
   "metadata": {},
   "outputs": [],
   "source": [
    "import pandas as pd\n",
    "import numpy as np\n",
    "import re\n",
    "from collections import Counter"
   ]
  },
  {
   "cell_type": "code",
   "execution_count": 4,
   "id": "531afcb1",
   "metadata": {},
   "outputs": [],
   "source": [
    "df_apple = pd.read_csv(\"C:/Users/nise_/OneDrive/Documentos/Digital College/Python/DA_18/streaming/Dados/data_apple_tv.csv\")"
   ]
  },
  {
   "cell_type": "code",
   "execution_count": 5,
   "id": "94b101b5",
   "metadata": {},
   "outputs": [
    {
     "data": {
      "text/html": [
       "<div>\n",
       "<style scoped>\n",
       "    .dataframe tbody tr th:only-of-type {\n",
       "        vertical-align: middle;\n",
       "    }\n",
       "\n",
       "    .dataframe tbody tr th {\n",
       "        vertical-align: top;\n",
       "    }\n",
       "\n",
       "    .dataframe thead th {\n",
       "        text-align: right;\n",
       "    }\n",
       "</style>\n",
       "<table border=\"1\" class=\"dataframe\">\n",
       "  <thead>\n",
       "    <tr style=\"text-align: right;\">\n",
       "      <th></th>\n",
       "      <th>title</th>\n",
       "      <th>type</th>\n",
       "      <th>genres</th>\n",
       "      <th>releaseYear</th>\n",
       "      <th>imdbId</th>\n",
       "      <th>imdbAverageRating</th>\n",
       "      <th>imdbNumVotes</th>\n",
       "      <th>availableCountries</th>\n",
       "    </tr>\n",
       "  </thead>\n",
       "  <tbody>\n",
       "    <tr>\n",
       "      <th>0</th>\n",
       "      <td>Forrest Gump</td>\n",
       "      <td>movie</td>\n",
       "      <td>Drama, Romance</td>\n",
       "      <td>1994.0</td>\n",
       "      <td>tt0109830</td>\n",
       "      <td>8.8</td>\n",
       "      <td>2381047.0</td>\n",
       "      <td>NaN</td>\n",
       "    </tr>\n",
       "    <tr>\n",
       "      <th>1</th>\n",
       "      <td>American Beauty</td>\n",
       "      <td>movie</td>\n",
       "      <td>Drama</td>\n",
       "      <td>1999.0</td>\n",
       "      <td>tt0169547</td>\n",
       "      <td>8.3</td>\n",
       "      <td>1249470.0</td>\n",
       "      <td>NaN</td>\n",
       "    </tr>\n",
       "    <tr>\n",
       "      <th>2</th>\n",
       "      <td>Citizen Kane</td>\n",
       "      <td>movie</td>\n",
       "      <td>Drama, Mystery</td>\n",
       "      <td>1941.0</td>\n",
       "      <td>tt0033467</td>\n",
       "      <td>8.3</td>\n",
       "      <td>481447.0</td>\n",
       "      <td>NaN</td>\n",
       "    </tr>\n",
       "    <tr>\n",
       "      <th>3</th>\n",
       "      <td>Metropolis</td>\n",
       "      <td>movie</td>\n",
       "      <td>Drama, Sci-Fi</td>\n",
       "      <td>1927.0</td>\n",
       "      <td>tt0017136</td>\n",
       "      <td>8.3</td>\n",
       "      <td>194630.0</td>\n",
       "      <td>NaN</td>\n",
       "    </tr>\n",
       "    <tr>\n",
       "      <th>4</th>\n",
       "      <td>Kill Bill: Vol. 1</td>\n",
       "      <td>movie</td>\n",
       "      <td>Action, Crime, Thriller</td>\n",
       "      <td>2003.0</td>\n",
       "      <td>tt0266697</td>\n",
       "      <td>8.2</td>\n",
       "      <td>1251651.0</td>\n",
       "      <td>NaN</td>\n",
       "    </tr>\n",
       "    <tr>\n",
       "      <th>...</th>\n",
       "      <td>...</td>\n",
       "      <td>...</td>\n",
       "      <td>...</td>\n",
       "      <td>...</td>\n",
       "      <td>...</td>\n",
       "      <td>...</td>\n",
       "      <td>...</td>\n",
       "      <td>...</td>\n",
       "    </tr>\n",
       "    <tr>\n",
       "      <th>18724</th>\n",
       "      <td>NaN</td>\n",
       "      <td>tv</td>\n",
       "      <td>NaN</td>\n",
       "      <td>2025.0</td>\n",
       "      <td>NaN</td>\n",
       "      <td>NaN</td>\n",
       "      <td>NaN</td>\n",
       "      <td>NaN</td>\n",
       "    </tr>\n",
       "    <tr>\n",
       "      <th>18725</th>\n",
       "      <td>Wild Sky</td>\n",
       "      <td>tv</td>\n",
       "      <td>Documentary</td>\n",
       "      <td>2025.0</td>\n",
       "      <td>tt36615591</td>\n",
       "      <td>NaN</td>\n",
       "      <td>NaN</td>\n",
       "      <td>NaN</td>\n",
       "    </tr>\n",
       "    <tr>\n",
       "      <th>18726</th>\n",
       "      <td>The Sun</td>\n",
       "      <td>tv</td>\n",
       "      <td>Documentary</td>\n",
       "      <td>2024.0</td>\n",
       "      <td>tt33397097</td>\n",
       "      <td>NaN</td>\n",
       "      <td>NaN</td>\n",
       "      <td>NaN</td>\n",
       "    </tr>\n",
       "    <tr>\n",
       "      <th>18727</th>\n",
       "      <td>NaN</td>\n",
       "      <td>tv</td>\n",
       "      <td>NaN</td>\n",
       "      <td>NaN</td>\n",
       "      <td>NaN</td>\n",
       "      <td>NaN</td>\n",
       "      <td>NaN</td>\n",
       "      <td>NaN</td>\n",
       "    </tr>\n",
       "    <tr>\n",
       "      <th>18728</th>\n",
       "      <td>Stillwater</td>\n",
       "      <td>tv</td>\n",
       "      <td>Horror</td>\n",
       "      <td>NaN</td>\n",
       "      <td>tt36730636</td>\n",
       "      <td>NaN</td>\n",
       "      <td>NaN</td>\n",
       "      <td>NaN</td>\n",
       "    </tr>\n",
       "  </tbody>\n",
       "</table>\n",
       "<p>18729 rows × 8 columns</p>\n",
       "</div>"
      ],
      "text/plain": [
       "                   title   type                   genres  releaseYear  \\\n",
       "0           Forrest Gump  movie           Drama, Romance       1994.0   \n",
       "1        American Beauty  movie                    Drama       1999.0   \n",
       "2           Citizen Kane  movie           Drama, Mystery       1941.0   \n",
       "3             Metropolis  movie            Drama, Sci-Fi       1927.0   \n",
       "4      Kill Bill: Vol. 1  movie  Action, Crime, Thriller       2003.0   \n",
       "...                  ...    ...                      ...          ...   \n",
       "18724                NaN     tv                      NaN       2025.0   \n",
       "18725           Wild Sky     tv              Documentary       2025.0   \n",
       "18726            The Sun     tv              Documentary       2024.0   \n",
       "18727                NaN     tv                      NaN          NaN   \n",
       "18728         Stillwater     tv                   Horror          NaN   \n",
       "\n",
       "           imdbId  imdbAverageRating  imdbNumVotes availableCountries  \n",
       "0       tt0109830                8.8     2381047.0                NaN  \n",
       "1       tt0169547                8.3     1249470.0                NaN  \n",
       "2       tt0033467                8.3      481447.0                NaN  \n",
       "3       tt0017136                8.3      194630.0                NaN  \n",
       "4       tt0266697                8.2     1251651.0                NaN  \n",
       "...           ...                ...           ...                ...  \n",
       "18724         NaN                NaN           NaN                NaN  \n",
       "18725  tt36615591                NaN           NaN                NaN  \n",
       "18726  tt33397097                NaN           NaN                NaN  \n",
       "18727         NaN                NaN           NaN                NaN  \n",
       "18728  tt36730636                NaN           NaN                NaN  \n",
       "\n",
       "[18729 rows x 8 columns]"
      ]
     },
     "execution_count": 5,
     "metadata": {},
     "output_type": "execute_result"
    }
   ],
   "source": [
    "df_apple"
   ]
  },
  {
   "cell_type": "code",
   "execution_count": 8,
   "id": "7c095951",
   "metadata": {},
   "outputs": [
    {
     "data": {
      "text/html": [
       "<div>\n",
       "<style scoped>\n",
       "    .dataframe tbody tr th:only-of-type {\n",
       "        vertical-align: middle;\n",
       "    }\n",
       "\n",
       "    .dataframe tbody tr th {\n",
       "        vertical-align: top;\n",
       "    }\n",
       "\n",
       "    .dataframe thead th {\n",
       "        text-align: right;\n",
       "    }\n",
       "</style>\n",
       "<table border=\"1\" class=\"dataframe\">\n",
       "  <thead>\n",
       "    <tr style=\"text-align: right;\">\n",
       "      <th></th>\n",
       "      <th>releaseYear</th>\n",
       "      <th>imdbAverageRating</th>\n",
       "      <th>imdbNumVotes</th>\n",
       "    </tr>\n",
       "  </thead>\n",
       "  <tbody>\n",
       "    <tr>\n",
       "      <th>count</th>\n",
       "      <td>18692.000000</td>\n",
       "      <td>16768.000000</td>\n",
       "      <td>1.676800e+04</td>\n",
       "    </tr>\n",
       "    <tr>\n",
       "      <th>mean</th>\n",
       "      <td>2006.962497</td>\n",
       "      <td>6.369060</td>\n",
       "      <td>2.498266e+04</td>\n",
       "    </tr>\n",
       "    <tr>\n",
       "      <th>std</th>\n",
       "      <td>18.591890</td>\n",
       "      <td>1.165882</td>\n",
       "      <td>9.898266e+04</td>\n",
       "    </tr>\n",
       "    <tr>\n",
       "      <th>min</th>\n",
       "      <td>1902.000000</td>\n",
       "      <td>1.300000</td>\n",
       "      <td>5.000000e+00</td>\n",
       "    </tr>\n",
       "    <tr>\n",
       "      <th>25%</th>\n",
       "      <td>2001.000000</td>\n",
       "      <td>5.600000</td>\n",
       "      <td>1.990000e+02</td>\n",
       "    </tr>\n",
       "    <tr>\n",
       "      <th>50%</th>\n",
       "      <td>2014.000000</td>\n",
       "      <td>6.500000</td>\n",
       "      <td>1.212500e+03</td>\n",
       "    </tr>\n",
       "    <tr>\n",
       "      <th>75%</th>\n",
       "      <td>2020.000000</td>\n",
       "      <td>7.200000</td>\n",
       "      <td>7.878750e+03</td>\n",
       "    </tr>\n",
       "    <tr>\n",
       "      <th>max</th>\n",
       "      <td>2026.000000</td>\n",
       "      <td>10.000000</td>\n",
       "      <td>2.381047e+06</td>\n",
       "    </tr>\n",
       "  </tbody>\n",
       "</table>\n",
       "</div>"
      ],
      "text/plain": [
       "        releaseYear  imdbAverageRating  imdbNumVotes\n",
       "count  18692.000000       16768.000000  1.676800e+04\n",
       "mean    2006.962497           6.369060  2.498266e+04\n",
       "std       18.591890           1.165882  9.898266e+04\n",
       "min     1902.000000           1.300000  5.000000e+00\n",
       "25%     2001.000000           5.600000  1.990000e+02\n",
       "50%     2014.000000           6.500000  1.212500e+03\n",
       "75%     2020.000000           7.200000  7.878750e+03\n",
       "max     2026.000000          10.000000  2.381047e+06"
      ]
     },
     "execution_count": 8,
     "metadata": {},
     "output_type": "execute_result"
    }
   ],
   "source": [
    "df_apple.describe()"
   ]
  },
  {
   "cell_type": "code",
   "execution_count": 9,
   "id": "8e25c8bd",
   "metadata": {},
   "outputs": [
    {
     "name": "stdout",
     "output_type": "stream",
     "text": [
      "<class 'pandas.core.frame.DataFrame'>\n",
      "RangeIndex: 18729 entries, 0 to 18728\n",
      "Data columns (total 8 columns):\n",
      " #   Column              Non-Null Count  Dtype  \n",
      "---  ------              --------------  -----  \n",
      " 0   title               18135 non-null  object \n",
      " 1   type                18729 non-null  object \n",
      " 2   genres              18037 non-null  object \n",
      " 3   releaseYear         18692 non-null  float64\n",
      " 4   imdbId              17163 non-null  object \n",
      " 5   imdbAverageRating   16768 non-null  float64\n",
      " 6   imdbNumVotes        16768 non-null  float64\n",
      " 7   availableCountries  57 non-null     object \n",
      "dtypes: float64(3), object(5)\n",
      "memory usage: 1.1+ MB\n"
     ]
    }
   ],
   "source": [
    "df_apple.info()"
   ]
  },
  {
   "cell_type": "code",
   "execution_count": 10,
   "id": "122b6fc5",
   "metadata": {},
   "outputs": [
    {
     "data": {
      "text/plain": [
       "title                   594\n",
       "type                      0\n",
       "genres                  692\n",
       "releaseYear              37\n",
       "imdbId                 1566\n",
       "imdbAverageRating      1961\n",
       "imdbNumVotes           1961\n",
       "availableCountries    18672\n",
       "dtype: int64"
      ]
     },
     "execution_count": 10,
     "metadata": {},
     "output_type": "execute_result"
    }
   ],
   "source": [
    "df_apple.isnull().sum()"
   ]
  },
  {
   "cell_type": "code",
   "execution_count": 15,
   "id": "cc86c7a2",
   "metadata": {},
   "outputs": [],
   "source": [
    "df_apple.dropna(subset=['title'], inplace=True)"
   ]
  },
  {
   "cell_type": "code",
   "execution_count": 16,
   "id": "e01e5d4f",
   "metadata": {},
   "outputs": [],
   "source": [
    "#preencher os NaN de genres com \"Não informado\"\n",
    "df_apple['genres'] = df_apple['genres'].fillna('Não informado')"
   ]
  },
  {
   "cell_type": "code",
   "execution_count": 17,
   "id": "c975ff56",
   "metadata": {},
   "outputs": [
    {
     "name": "stdout",
     "output_type": "stream",
     "text": [
      "Registros sem imdbId: 972\n",
      "Registros sem rating: 1367\n",
      "Dos que não têm ID, quantos também não têm rating: 972\n"
     ]
    }
   ],
   "source": [
    "# os NaN em imdbId e imdbAverageRating podem ser um problema se for analisar a avaliação dos filmes, então preciso ver se o NaN em um coincide com NaN na outra\n",
    "\n",
    "# Investigar a situação dos NaN\n",
    "print(\"Registros sem imdbId:\", df_apple['imdbId'].isna().sum())\n",
    "print(\"Registros sem rating:\", df_apple['imdbAverageRating'].isna().sum())\n",
    "\n",
    "# Ver se NaN em imdbId implica em NaN em rating\n",
    "mask_sem_id = df_apple['imdbId'].isna()\n",
    "print(\"Dos que não têm ID, quantos também não têm rating:\", \n",
    "      df_apple[mask_sem_id]['imdbAverageRating'].isna().sum())"
   ]
  },
  {
   "cell_type": "code",
   "execution_count": 18,
   "id": "5998971d",
   "metadata": {},
   "outputs": [
    {
     "name": "stdout",
     "output_type": "stream",
     "text": [
      "Registros com ID mas sem avaliação: 395\n",
      "\n",
      "Exemplos de conteúdo com ID mas sem avaliação:\n",
      "                                   title      imdbId  releaseYear\n",
      "3802                         Engal Kural  tt10127906       1985.0\n",
      "4077                       Episode #1.26   tt5544420       1974.0\n",
      "4083                      Yo soy porteño   tt5544454       1982.0\n",
      "4090  Thou Shalt Not Worship False Idols   tt5544492       2016.0\n",
      "4091        Episode dated 11 August 2014   tt5544502       2014.0\n"
     ]
    }
   ],
   "source": [
    "# Investigar os casos com ID mas sem avaliação\n",
    "tem_id_sem_rating = df_apple['imdbId'].notna() & df_apple['imdbAverageRating'].isna()\n",
    "print(\"Registros com ID mas sem avaliação:\", tem_id_sem_rating.sum())\n",
    "\n",
    "# Ver alguns exemplos desses casos\n",
    "print(\"\\nExemplos de conteúdo com ID mas sem avaliação:\")\n",
    "exemplos = df_apple[tem_id_sem_rating][['title', 'imdbId', 'releaseYear']].head()\n",
    "print(exemplos)"
   ]
  },
  {
   "cell_type": "code",
   "execution_count": 20,
   "id": "014af9de",
   "metadata": {},
   "outputs": [],
   "source": [
    "#preencher os NaN de imdbid com \"Não informado\"\n",
    "df_apple['imdbId'] = df_apple['imdbId'].fillna('Não informado')"
   ]
  },
  {
   "cell_type": "code",
   "execution_count": 21,
   "id": "a994f2f1",
   "metadata": {},
   "outputs": [],
   "source": [
    "def impute_ratings_by_genre_decade(df_apple):\n",
    "    \"\"\"\n",
    "    Imputa valores NaN de imdbAverageRating usando mediana por gênero primário + década\n",
    "    \n",
    "    Args:\n",
    "        df: DataFrame com colunas 'genres', 'releaseYear', 'imdbAverageRating'\n",
    "    \n",
    "    Returns:\n",
    "        DataFrame com ratings imputados e colunas adicionais para rastreamento\n",
    "    \"\"\"\n",
    "    # Extrair gênero primário (primeiro da lista)\n",
    "    df_apple['primaryGenre'] = df_apple['genres'].fillna('Unknown').str.split(',').str[0].str.strip()\n",
    "\n",
    "    # Extrair década\n",
    "    df_apple['decade'] = (df_apple['releaseYear'] // 10) * 10\n",
    "\n",
    "    # Flag para indicar se tinha rating original\n",
    "    df_apple['hasOriginalRating'] = df_apple['imdbAverageRating'].notna()\n",
    "\n",
    "    # Calcular medianas por gênero + década (apenas filmes COM rating)\n",
    "    films_with_rating = df_apple[df_apple['hasOriginalRating']]\n",
    "    \n",
    "    medians_genre_decade = (films_with_rating.groupby(['primaryGenre', 'decade'])['imdbAverageRating'].agg(['median', 'count']).reset_index())\n",
    "\n",
    "    # Calcular medianas só por gênero (fallback)\n",
    "    medians_genre = (films_with_rating.groupby('primaryGenre')['imdbAverageRating'].median().reset_index())\n",
    "    \n",
    "    # Mediana global (último recurso)\n",
    "    global_median = films_with_rating['imdbAverageRating'].median()\n",
    "\n",
    "    # Função aninhada para imputar um filme específico\n",
    "    def impute_single_film(row):\n",
    "        if row['hasOriginalRating']:\n",
    "            return pd.Series({\n",
    "                'imdbAverageRating': row['imdbAverageRating'],\n",
    "                'ratingImputed': False,\n",
    "                'imputationSource': 'original'\n",
    "            })\n",
    "        \n",
    "        # Tentar gênero + década primeiro\n",
    "        genre_decade_match = medians_genre_decade[\n",
    "            (medians_genre_decade['primaryGenre'] == row['primaryGenre']) & \n",
    "            (medians_genre_decade['decade'] == row['decade'])\n",
    "        ]\n",
    "        \n",
    "        if not genre_decade_match.empty:\n",
    "            median_val = genre_decade_match.iloc[0]['median']\n",
    "            count = genre_decade_match.iloc[0]['count']\n",
    "            return pd.Series({\n",
    "                'imdbAverageRating': median_val,\n",
    "                'ratingImputed': True,\n",
    "                'imputationSource': f\"{row['primaryGenre']} {int(row['decade'])}s ({count} filmes)\"\n",
    "            })\n",
    "        \n",
    "        # Fallback: só gênero\n",
    "        genre_match = medians_genre[medians_genre['primaryGenre'] == row['primaryGenre']]\n",
    "        \n",
    "        if not genre_match.empty:\n",
    "            median_val = genre_match.iloc[0]['imdbAverageRating']\n",
    "            return pd.Series({\n",
    "                'imdbAverageRating': median_val,\n",
    "                'ratingImputed': True,\n",
    "                'imputationSource': f\"{row['primaryGenre']} geral\"\n",
    "            })\n",
    "        \n",
    "        # Último recurso: mediana global\n",
    "        return pd.Series({\n",
    "            'imdbAverageRating': global_median,\n",
    "            'ratingImputed': True,\n",
    "            'imputationSource': \"mediana global\"\n",
    "        })\n",
    "\n",
    "    # Aplicar imputação\n",
    "    imputation_results = df_apple.apply(impute_single_film, axis=1)\n",
    "\n",
    "    # Combinar resultados\n",
    "    df_apple['imdbAverageRating'] = imputation_results['imdbAverageRating']\n",
    "    df_apple['ratingImputed'] = imputation_results['ratingImputed']\n",
    "    df_apple['imputationSource'] = imputation_results['imputationSource']\n",
    "\n",
    "    return df_apple, medians_genre_decade, global_median"
   ]
  },
  {
   "cell_type": "code",
   "execution_count": 23,
   "id": "fb87f963",
   "metadata": {},
   "outputs": [],
   "source": [
    "# APLICAR A IMPUTAÇÃO\n",
    "df_imputed, medians_table, global_median = impute_ratings_by_genre_decade(df_apple)"
   ]
  },
  {
   "cell_type": "code",
   "execution_count": 28,
   "id": "2354fdec",
   "metadata": {},
   "outputs": [
    {
     "name": "stdout",
     "output_type": "stream",
     "text": [
      "Valores imputados: 1367\n"
     ]
    }
   ],
   "source": [
    "imputed_count = df_imputed['ratingImputed'].sum()\n",
    "print(f\"Valores imputados: {imputed_count}\")"
   ]
  },
  {
   "cell_type": "code",
   "execution_count": 29,
   "id": "72b5ed67",
   "metadata": {},
   "outputs": [
    {
     "name": "stdout",
     "output_type": "stream",
     "text": [
      " 1. \"Forrest Gump\" (1994)\n",
      "    Gênero: Drama\n",
      "    Avaliação imputada: 8.8\n",
      "    Fonte: original\n",
      "\n",
      " 2. \"American Beauty\" (1999)\n",
      "    Gênero: Drama\n",
      "    Avaliação imputada: 8.3\n",
      "    Fonte: original\n",
      "\n",
      " 3. \"Citizen Kane\" (1941)\n",
      "    Gênero: Drama\n",
      "    Avaliação imputada: 8.3\n",
      "    Fonte: original\n",
      "\n",
      " 4. \"Metropolis\" (1927)\n",
      "    Gênero: Drama\n",
      "    Avaliação imputada: 8.3\n",
      "    Fonte: original\n",
      "\n",
      " 5. \"Kill Bill: Vol. 1\" (2003)\n",
      "    Gênero: Action\n",
      "    Avaliação imputada: 8.2\n",
      "    Fonte: original\n",
      "\n",
      " 6. \"Unforgiven\" (1992)\n",
      "    Gênero: Drama\n",
      "    Avaliação imputada: 8.2\n",
      "    Fonte: original\n",
      "\n",
      " 7. \"Eternal Sunshine of the Spotless Mind\" (2004)\n",
      "    Gênero: Drama\n",
      "    Avaliação imputada: 8.3\n",
      "    Fonte: original\n",
      "\n",
      " 8. \"Amores Perros\" (2000)\n",
      "    Gênero: Drama\n",
      "    Avaliação imputada: 8.0\n",
      "    Fonte: original\n",
      "\n"
     ]
    }
   ],
   "source": [
    "# Mostrar alguns exemplos organizados\n",
    "for i, (_, filme) in enumerate(df_imputed.head(8).iterrows()):\n",
    "    print(f\"{i+1:2d}. \\\"{filme['title']}\\\" ({int(filme['releaseYear'])})\")\n",
    "    print(f\"    Gênero: {filme['primaryGenre']}\")\n",
    "    print(f\"    Avaliação imputada: {filme['imdbAverageRating']:.1f}\")\n",
    "    print(f\"    Fonte: {filme['imputationSource']}\")\n",
    "    print()"
   ]
  },
  {
   "cell_type": "code",
   "execution_count": 31,
   "id": "b49531ef",
   "metadata": {},
   "outputs": [],
   "source": [
    "# Axis 1 para colunas, axis 0 para linhas\n",
    "df_apple = df_apple.drop(['availableCountries'], axis=1)"
   ]
  },
  {
   "cell_type": "code",
   "execution_count": 32,
   "id": "37e8b2da",
   "metadata": {},
   "outputs": [
    {
     "data": {
      "text/plain": [
       "title                   0\n",
       "type                    0\n",
       "genres                  0\n",
       "releaseYear             4\n",
       "imdbId                  0\n",
       "imdbAverageRating       0\n",
       "imdbNumVotes         1367\n",
       "primaryGenre            0\n",
       "decade                  4\n",
       "hasOriginalRating       0\n",
       "ratingImputed           0\n",
       "imputationSource        0\n",
       "dtype: int64"
      ]
     },
     "execution_count": 32,
     "metadata": {},
     "output_type": "execute_result"
    }
   ],
   "source": [
    "df_apple.isnull().sum()"
   ]
  },
  {
   "cell_type": "code",
   "execution_count": 34,
   "id": "a38762d9",
   "metadata": {},
   "outputs": [
    {
     "name": "stdout",
     "output_type": "stream",
     "text": [
      "                               title   type                 genres  \\\n",
      "10037                         Natudu  movie      Romance, Thriller   \n",
      "14278  KillShot: or Murder Man and M  movie  Action, Comedy, Crime   \n",
      "18709               The Forsyte Saga     tv                  Drama   \n",
      "18728                     Stillwater     tv                 Horror   \n",
      "\n",
      "              imdbId  imdbAverageRating  \n",
      "10037  Não informado                6.1  \n",
      "14278  Não informado                6.0  \n",
      "18709     tt32063263                6.5  \n",
      "18728     tt36730636                5.3  \n"
     ]
    }
   ],
   "source": [
    "# Ver quais são os 4 filmes problemáticos\n",
    "nulls_year = df_apple[df_apple['releaseYear'].isna()]\n",
    "print(nulls_year[['title', 'type', 'genres', 'imdbId', 'imdbAverageRating']])"
   ]
  },
  {
   "cell_type": "code",
   "execution_count": 35,
   "id": "71383a85",
   "metadata": {},
   "outputs": [],
   "source": [
    "# Dropando...\n",
    "df_apple.dropna(subset=['releaseYear'], inplace=True)"
   ]
  },
  {
   "cell_type": "code",
   "execution_count": 38,
   "id": "6bbfbb12",
   "metadata": {},
   "outputs": [],
   "source": [
    "#### só depois de remover todos os NaN é que posso converter o releaseYear para int\n",
    "df_apple['releaseYear'] = df_apple['releaseYear'].astype(int)"
   ]
  },
  {
   "cell_type": "code",
   "execution_count": 40,
   "id": "34d9a112",
   "metadata": {},
   "outputs": [
    {
     "name": "stdout",
     "output_type": "stream",
     "text": [
      "🔧 TRATANDO imdbNumVotes PARA FILMES IMPUTADOS\n",
      "==================================================\n"
     ]
    }
   ],
   "source": [
    "# ==========================================\n",
    "# LIMPEZA FINAL - REMOVER BAGAGEM TÉCNICA\n",
    "# ==========================================\n",
    "\n",
    "# 1. TRATAR imdbNumVotes para filmes imputados\n",
    "print(\"🔧 TRATANDO imdbNumVotes PARA FILMES IMPUTADOS\")\n",
    "print(\"=\" * 50)\n",
    "\n",
    "# Para filmes com rating imputado, vamos usar a mediana de votos do mesmo gênero/década\n",
    "films_with_votes = df_apple[df_apple['imdbNumVotes'].notna()]\n",
    "\n",
    "# Calcular mediana de votos por gênero primário\n",
    "median_votes_by_genre = (films_with_votes\n",
    "                        .groupby('primaryGenre')['imdbNumVotes']\n",
    "                        .median()\n",
    "                        .to_dict())\n",
    "\n",
    "# Mediana global como fallback\n",
    "global_median_votes = films_with_votes['imdbNumVotes'].median()\n",
    "\n",
    "# Função para imputar votos\n",
    "def impute_votes(row):\n",
    "    if pd.notna(row['imdbNumVotes']):\n",
    "        return row['imdbNumVotes']\n",
    "    \n",
    "    # Se tem rating imputado, usar mediana do gênero\n",
    "    if row['ratingImputed']:\n",
    "        genre_median = median_votes_by_genre.get(row['primaryGenre'])\n",
    "        if genre_median:\n",
    "            return genre_median\n",
    "        else:\n",
    "            return global_median_votes\n",
    "    \n",
    "    return row['imdbNumVotes']\n",
    "\n"
   ]
  },
  {
   "cell_type": "code",
   "execution_count": 43,
   "id": "e77c1e90",
   "metadata": {},
   "outputs": [],
   "source": [
    "# Aplicar imputação de votos\n",
    "df_apple['imdbNumVotes'] = df_apple.apply(impute_votes, axis=1)\n"
   ]
  },
  {
   "cell_type": "code",
   "execution_count": 44,
   "id": "7ce08e36",
   "metadata": {},
   "outputs": [
    {
     "name": "stdout",
     "output_type": "stream",
     "text": [
      "title                 object\n",
      "type                  object\n",
      "genres                object\n",
      "releaseYear            int64\n",
      "imdbId                object\n",
      "imdbAverageRating    float64\n",
      "imdbNumVotes           int64\n",
      "primaryGenre          object\n",
      "decade               float64\n",
      "hasOriginalRating       bool\n",
      "ratingImputed           bool\n",
      "imputationSource      object\n",
      "dtype: object\n"
     ]
    }
   ],
   "source": [
    "df_apple['imdbNumVotes'] = df_apple['imdbNumVotes'].astype(int)\n",
    "# Verificar se a conversão foi bem-sucedida\n",
    "print(df_apple.dtypes)"
   ]
  },
  {
   "cell_type": "code",
   "execution_count": 46,
   "id": "b5c5f304",
   "metadata": {},
   "outputs": [
    {
     "name": "stdout",
     "output_type": "stream",
     "text": [
      "\n",
      "📂 CRIANDO DATASET LIMPO\n",
      "==============================\n",
      "Forma final do dataset: (18131, 7)\n",
      "Colunas finais: ['title', 'type', 'genres', 'releaseYear', 'imdbId', 'imdbAverageRating', 'imdbNumVotes']\n"
     ]
    }
   ],
   "source": [
    "# CRIAR DATASET LIMPO (apenas colunas essenciais) e removendo as colunas criadas para o tratamento\n",
    "print(f\"\\n📂 CRIANDO DATASET LIMPO\")\n",
    "print(\"=\" * 30)\n",
    "\n",
    "colunas_essenciais = [\n",
    "    'title', \n",
    "    'type', \n",
    "    'genres', \n",
    "    'releaseYear', \n",
    "    'imdbId', \n",
    "    'imdbAverageRating', \n",
    "    'imdbNumVotes'\n",
    "]\n",
    "\n",
    "df_apple_clean = df_apple[colunas_essenciais].copy()\n",
    "\n",
    "print(f\"Forma final do dataset: {df_apple_clean.shape}\")\n",
    "print(f\"Colunas finais: {list(df_apple_clean.columns)}\")\n",
    "\n"
   ]
  },
  {
   "cell_type": "code",
   "execution_count": 47,
   "id": "4da90d6d",
   "metadata": {},
   "outputs": [
    {
     "name": "stdout",
     "output_type": "stream",
     "text": [
      "\n",
      "✅ VERIFICAÇÃO FINAL\n",
      "===================================\n",
      "Valores nulos por coluna:\n",
      "title                0\n",
      "type                 0\n",
      "genres               0\n",
      "releaseYear          0\n",
      "imdbId               0\n",
      "imdbAverageRating    0\n",
      "imdbNumVotes         0\n",
      "dtype: int64\n",
      "\n",
      "Tipos de dados:\n",
      "title                 object\n",
      "type                  object\n",
      "genres                object\n",
      "releaseYear            int64\n",
      "imdbId                object\n",
      "imdbAverageRating    float64\n",
      "imdbNumVotes           int64\n",
      "dtype: object\n"
     ]
    }
   ],
   "source": [
    "# VERIFICAÇÃO FINAL\n",
    "print(f\"\\n✅ VERIFICAÇÃO FINAL\")\n",
    "print(\"=\" * 35)\n",
    "\n",
    "print(\"Valores nulos por coluna:\")\n",
    "print(df_apple_clean.isnull().sum())\n",
    "\n",
    "print(f\"\\nTipos de dados:\")\n",
    "print(df_apple_clean.dtypes)"
   ]
  },
  {
   "cell_type": "markdown",
   "id": "35659e23",
   "metadata": {},
   "source": [
    "# ========Exploração Tipo e Gênero ============="
   ]
  },
  {
   "cell_type": "code",
   "execution_count": 55,
   "id": "7902bd68",
   "metadata": {},
   "outputs": [
    {
     "name": "stdout",
     "output_type": "stream",
     "text": [
      "Tipos únicos na coluna 'type': ['movie' 'tv']\n"
     ]
    }
   ],
   "source": [
    "tipos_unicos = df_apple_clean['type'].unique()\n",
    "print(\"Tipos únicos na coluna 'type':\", tipos_unicos)"
   ]
  },
  {
   "cell_type": "code",
   "execution_count": 56,
   "id": "f4bf783e",
   "metadata": {},
   "outputs": [
    {
     "name": "stdout",
     "output_type": "stream",
     "text": [
      "\n",
      "Distribuição por tipo:\n",
      "movie: 14363 produções (79.2%)\n",
      "tv: 3768 produções (20.8%)\n"
     ]
    }
   ],
   "source": [
    "# Contando quantas produções existem de cada tipo\n",
    "contagem_tipos = df_apple_clean['type'].value_counts()\n",
    "print(f\"\\nDistribuição por tipo:\")\n",
    "for tipo, quantidade in contagem_tipos.items():\n",
    "    percentual = (quantidade / len(df_apple)) * 100\n",
    "    print(f\"{tipo}: {quantidade} produções ({percentual:.1f}%)\")"
   ]
  },
  {
   "cell_type": "code",
   "execution_count": 58,
   "id": "a0fe208f",
   "metadata": {},
   "outputs": [
    {
     "name": "stdout",
     "output_type": "stream",
     "text": [
      "\n",
      "PADRÕES E ESTRUTURA DOS GENRES\n",
      "Exemplos de como os genres aparecem:\n",
      " 1. Drama, Romance\n",
      " 2. Comedy, Drama, Romance\n",
      " 3. Drama\n",
      " 4. Comedy\n",
      " 5. Documentary\n",
      " 6. Action, Comedy, Crime\n",
      " 7. Drama\n",
      " 8. Documentary\n",
      " 9. Drama\n",
      "10. History\n"
     ]
    }
   ],
   "source": [
    "# EXPLORANDO OS PADRÕES DOS GENRES\n",
    "print(\"\\nPADRÕES E ESTRUTURA DOS GENRES\")\n",
    "# Amostras aleatórias para entender o formato\n",
    "print(\"Exemplos de como os genres aparecem:\")\n",
    "sample_genres = df_apple_clean['genres'].dropna().sample(10).values\n",
    "for i, genre in enumerate(sample_genres, 1):\n",
    "    print(f\"{i:2d}. {genre}\")"
   ]
  },
  {
   "cell_type": "code",
   "execution_count": 59,
   "id": "2a072254",
   "metadata": {},
   "outputs": [],
   "source": [
    "# Função para extrair genres individuais\n",
    "def extract_individual_genres(df_apple_clean):\n",
    "    \"\"\"Extrai todos os genres individuais de uma coluna que pode conter múltiplos genres\"\"\"\n",
    "    all_genres = []\n",
    "    \n",
    "    for genres_str in df_apple_clean['genres'].dropna():\n",
    "        # Remove espaços e divide por vírgulas (assumindo que é o separador mais comum)\n",
    "        if pd.notna(genres_str):\n",
    "            # Tratamento flexível para diferentes separadores\n",
    "            genres_list = re.split(r'[,;|]', str(genres_str))\n",
    "            # Limpa e adiciona à lista\n",
    "            clean_genres = [genre.strip() for genre in genres_list if genre.strip()]\n",
    "            all_genres.extend(clean_genres)\n",
    "    \n",
    "    return all_genres"
   ]
  },
  {
   "cell_type": "code",
   "execution_count": 60,
   "id": "00d36c21",
   "metadata": {},
   "outputs": [],
   "source": [
    "# Extraindo todos os genres individuais\n",
    "individual_genres = extract_individual_genres(df_apple_clean)"
   ]
  },
  {
   "cell_type": "code",
   "execution_count": 61,
   "id": "427ea9e3",
   "metadata": {},
   "outputs": [
    {
     "name": "stdout",
     "output_type": "stream",
     "text": [
      "Total de genres únicos encontrados: 33\n",
      "Total de ocorrências de genres: 37132\n"
     ]
    }
   ],
   "source": [
    "# Contando frequencias\n",
    "genre_counts = Counter(individual_genres)\n",
    "print(f\"Total de genres únicos encontrados: {len(genre_counts)}\")\n",
    "print(f\"Total de ocorrências de genres: {sum(genre_counts.values())}\")"
   ]
  },
  {
   "cell_type": "code",
   "execution_count": 62,
   "id": "948ee7c0",
   "metadata": {},
   "outputs": [
    {
     "name": "stdout",
     "output_type": "stream",
     "text": [
      "\n",
      " TOP 20 GENRES MAIS POPULARES\n",
      " 1. Drama                     |   8454 ocorrências (22.77%)\n",
      " 2. Comedy                    |   4717 ocorrências (12.70%)\n",
      " 3. Romance                   |   2746 ocorrências ( 7.40%)\n",
      " 4. Crime                     |   2675 ocorrências ( 7.20%)\n",
      " 5. Documentary               |   2281 ocorrências ( 6.14%)\n",
      " 6. Thriller                  |   2229 ocorrências ( 6.00%)\n",
      " 7. Action                    |   2140 ocorrências ( 5.76%)\n",
      " 8. Horror                    |   1792 ocorrências ( 4.83%)\n",
      " 9. Mystery                   |   1623 ocorrências ( 4.37%)\n",
      "10. Adventure                 |   1261 ocorrências ( 3.40%)\n",
      "11. Family                    |   1176 ocorrências ( 3.17%)\n",
      "12. History                   |    782 ocorrências ( 2.11%)\n",
      "13. Biography                 |    746 ocorrências ( 2.01%)\n",
      "14. Fantasy                   |    649 ocorrências ( 1.75%)\n",
      "15. Animation                 |    551 ocorrências ( 1.48%)\n",
      "16. Sci-Fi                    |    510 ocorrências ( 1.37%)\n",
      "17. Não informado             |    453 ocorrências ( 1.22%)\n",
      "18. Music                     |    402 ocorrências ( 1.08%)\n",
      "19. Reality-TV                |    375 ocorrências ( 1.01%)\n",
      "20. Western                   |    350 ocorrências ( 0.94%)\n"
     ]
    }
   ],
   "source": [
    "# TOP GENRES MAIS POPULARES\n",
    "print(\"\\n TOP 20 GENRES MAIS POPULARES\")\n",
    "top_genres = genre_counts.most_common(20)\n",
    "for i, (genre, count) in enumerate(top_genres, 1):\n",
    "    percentage = (count / sum(genre_counts.values())) * 100\n",
    "    print(f\"{i:2d}. {genre:<25} | {count:>6} ocorrências ({percentage:>5.2f}%)\")\n"
   ]
  },
  {
   "cell_type": "code",
   "execution_count": 57,
   "id": "5abadb02",
   "metadata": {},
   "outputs": [],
   "source": [
    "df_apple_clean.to_csv(\"df_apple_clean.csv\", index=False)"
   ]
  }
 ],
 "metadata": {
  "kernelspec": {
   "display_name": ".venv",
   "language": "python",
   "name": "python3"
  },
  "language_info": {
   "codemirror_mode": {
    "name": "ipython",
    "version": 3
   },
   "file_extension": ".py",
   "mimetype": "text/x-python",
   "name": "python",
   "nbconvert_exporter": "python",
   "pygments_lexer": "ipython3",
   "version": "3.11.9"
  }
 },
 "nbformat": 4,
 "nbformat_minor": 5
}
