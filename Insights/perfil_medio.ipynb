{
 "cells": [
  {
   "cell_type": "code",
   "execution_count": null,
   "id": "13765dc4",
   "metadata": {},
   "outputs": [],
   "source": [
    "%pip install pandas\n",
    "%pip install numpy \n",
    "%pip install matplotlib\n",
    "%pip install seaborn"
   ]
  },
  {
   "cell_type": "code",
   "execution_count": 3,
   "id": "f156ff8d",
   "metadata": {},
   "outputs": [],
   "source": [
    "import pandas as pd\n",
    "import numpy as np  \n",
    "import matplotlib.pyplot as plt\n",
    "import seaborn as sns\n",
    "import re as re\n",
    "from collections import Counter"
   ]
  },
  {
   "cell_type": "code",
   "execution_count": 4,
   "id": "7e1057d9",
   "metadata": {},
   "outputs": [
    {
     "name": "stdout",
     "output_type": "stream",
     "text": [
      "📂 DATASETS CARREGADOS:\n",
      "Netflix: 21,391 registros\n",
      "HBO Max: 9,776 registros\n",
      "Apple TV: 18,692 registros\n",
      "Prime Video: 72,943 registros\n"
     ]
    }
   ],
   "source": [
    "# Carregar cada CSV limpo\n",
    "df_netflix = pd.read_csv('C:/Users/nise_/OneDrive/Documentos/Digital College/Python/DA_18/streaming/Dados_tratados/data_netflix_clean.csv')\n",
    "df_hbo = pd.read_csv('C:/Users/nise_/OneDrive/Documentos/Digital College/Python/DA_18/streaming/Dados_tratados/data_hbo_clean.csv')\n",
    "df_apple = pd.read_csv('C:/Users/nise_/OneDrive/Documentos/Digital College/Python/DA_18/streaming/Dados_tratados/df_apple_clean.csv')\n",
    "df_prime = pd.read_csv('C:/Users/nise_/OneDrive/Documentos/Digital College/Python/DA_18/streaming/Dados_tratados/data_prime_video_clean.csv')\n",
    "\n",
    "\n",
    "print(\"📂 DATASETS CARREGADOS:\")\n",
    "print(f\"Netflix: {len(df_netflix):,} registros\")\n",
    "print(f\"HBO Max: {len(df_hbo):,} registros\") \n",
    "print(f\"Apple TV: {len(df_apple):,} registros\")\n",
    "print(f\"Prime Video: {len(df_prime):,} registros\")"
   ]
  },
  {
   "cell_type": "code",
   "execution_count": 5,
   "id": "e89e4fee",
   "metadata": {},
   "outputs": [],
   "source": [
    "# Adicionar coluna de plataforma\n",
    "df_netflix['platform'] = 'Netflix'\n",
    "df_hbo['platform'] = 'HBO Max'\n",
    "df_apple['platform'] = 'Apple TV+'\n",
    "df_prime['platform'] = 'Prime Video'"
   ]
  },
  {
   "cell_type": "code",
   "execution_count": 6,
   "id": "42a525f0",
   "metadata": {},
   "outputs": [
    {
     "name": "stdout",
     "output_type": "stream",
     "text": [
      "\n",
      "🎬 DATASET UNIFICADO CRIADO:\n",
      "Total de registros: 122,802\n",
      "Total de colunas: 8\n",
      "Colunas: ['title', 'type', 'genres', 'releaseYear', 'imdbId', 'imdbAverageRating', 'imdbNumVotes', 'platform']\n"
     ]
    }
   ],
   "source": [
    "\n",
    "# ==========================================\n",
    "# UNINDO OS DATASETS\n",
    "# ==========================================\n",
    "\n",
    "platforms = {\n",
    "    'Netflix': df_netflix,\n",
    "    'HBO Max': df_hbo, \n",
    "    'Apple TV': df_apple,\n",
    "    'Prime Video': df_prime\n",
    "}\n",
    "# Concatenar todos os DataFrames em um único DataFrame\n",
    "df_streaming = pd.concat([df_netflix, df_hbo, df_apple, df_prime], ignore_index=True)\n",
    "\n",
    "\n",
    "print(f\"\\n🎬 DATASET UNIFICADO CRIADO:\")\n",
    "print(f\"Total de registros: {len(df_streaming):,}\")\n",
    "print(f\"Total de colunas: {len(df_streaming.columns)}\")\n",
    "print(f\"Colunas: {list(df_streaming.columns)}\")\n"
   ]
  },
  {
   "cell_type": "code",
   "execution_count": 7,
   "id": "0e576c22",
   "metadata": {},
   "outputs": [],
   "source": [
    "# ==========================================\n",
    "# Extrai o perfil médio por plataforma: ano, nota e top 3 gêneros\n",
    "# ==========================================\n",
    "def extrair_perfil_medio_por_plataforma(df):\n",
    "    \n",
    "    # Garantir que as colunas estão no formato correto\n",
    "    df['releaseYear'] = pd.to_numeric(df['releaseYear'], errors='coerce')\n",
    "    df['imdbAverageRating'] = pd.to_numeric(df['imdbAverageRating'], errors='coerce')\n",
    "    \n",
    "    # Explodir os gêneros para análise individual\n",
    "    df_exploded = df.copy()\n",
    "    df_exploded['genres_list'] = df_exploded['genres'].str.split(', ')\n",
    "    df_exploded = df_exploded.explode('genres_list')\n",
    "    \n",
    "    # Calcular métricas por plataforma\n",
    "    perfil_basico = df.groupby('platform').agg({\n",
    "        'releaseYear': 'mean',\n",
    "        'imdbAverageRating': 'mean'\n",
    "    }).round(2)\n",
    "    \n",
    "    # Top 3 gêneros por plataforma\n",
    "    top_generos = (df_exploded.groupby('platform')['genres_list']\n",
    "                   .value_counts()\n",
    "                   .groupby('platform')\n",
    "                   .head(3)\n",
    "                   .reset_index())\n",
    "    \n",
    "    # Reformatar os gêneros em string\n",
    "    # Reformatar os gêneros em string e manter a coluna 'platform'\n",
    "    generos_formatados = (top_generos.groupby('platform')['genres_list']\n",
    "                          .apply(lambda x: ', '.join(x))\n",
    "                          .reset_index())\n",
    "    generos_formatados.columns = ['platform', 'Top_3_Generos']\n",
    "\n",
    "    \n",
    "    # Juntar tudo\n",
    "    resultado = perfil_basico.merge(generos_formatados, on='platform')\n",
    "    resultado.columns = ['Ano_Medio', 'Nota_Media_IMDb', 'Top_3_Generos']\n",
    "    \n",
    "    return resultado\n"
   ]
  },
  {
   "cell_type": "code",
   "execution_count": 8,
   "id": "09da3b96",
   "metadata": {},
   "outputs": [],
   "source": [
    "\n",
    "def perfil(df):\n",
    "    # Ano médio e nota média\n",
    "    stats = df.groupby('platform').agg({\n",
    "        'releaseYear': lambda x: round(x.mean(), 0),\n",
    "        'imdbAverageRating': lambda x: round(x.mean(), 2)\n",
    "    })\n",
    "    \n",
    "    # Top 3 gêneros\n",
    "    generos = {}\n",
    "    for plataforma in df['platform'].unique():\n",
    "        dados_plat = df[df['platform'] == plataforma]\n",
    "        todos_generos = []\n",
    "        for genero_str in dados_plat['genres'].dropna():\n",
    "            todos_generos.extend(genero_str.split(', '))\n",
    "        \n",
    "        top3 = pd.Series(todos_generos).value_counts().head(3).index.tolist()\n",
    "        generos[plataforma] = ', '.join(top3)\n",
    "    \n",
    "    # Combinar resultados\n",
    "    stats['Top_3_Generos'] = stats.index.map(generos)\n",
    "    return stats\n"
   ]
  },
  {
   "cell_type": "code",
   "execution_count": 9,
   "id": "e2d7d20d",
   "metadata": {},
   "outputs": [
    {
     "name": "stdout",
     "output_type": "stream",
     "text": [
      "\n",
      "📊 PERFIL MÉDIO POR PLATAFORMA:\n",
      "             releaseYear  imdbAverageRating               Top_3_Generos\n",
      "platform                                                               \n",
      "Apple TV+         2007.0               6.41      Drama, Comedy, Romance\n",
      "HBO Max           2012.0               6.70  Drama, Comedy, Documentary\n",
      "Netflix           2013.0               6.43       Drama, Comedy, Action\n",
      "Prime Video       2008.0               6.00       Drama, Comedy, Action\n"
     ]
    }
   ],
   "source": [
    "# Executar\n",
    "print(\"\\n📊 PERFIL MÉDIO POR PLATAFORMA:\")\n",
    "resultado = perfil(df_streaming)\n",
    "print(resultado)\n"
   ]
  }
 ],
 "metadata": {
  "kernelspec": {
   "display_name": ".venv",
   "language": "python",
   "name": "python3"
  },
  "language_info": {
   "codemirror_mode": {
    "name": "ipython",
    "version": 3
   },
   "file_extension": ".py",
   "mimetype": "text/x-python",
   "name": "python",
   "nbconvert_exporter": "python",
   "pygments_lexer": "ipython3",
   "version": "3.11.9"
  }
 },
 "nbformat": 4,
 "nbformat_minor": 5
}
