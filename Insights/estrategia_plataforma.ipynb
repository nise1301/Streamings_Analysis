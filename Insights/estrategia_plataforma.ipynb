{
 "cells": [
  {
   "cell_type": "code",
   "execution_count": null,
   "id": "e504164c",
   "metadata": {},
   "outputs": [],
   "source": [
    "%pip install pandas\n",
    "%pip install numpy \n",
    "%pip install matplotlib\n",
    "%pip install seaborn"
   ]
  },
  {
   "cell_type": "code",
   "execution_count": 2,
   "id": "1103e63e",
   "metadata": {},
   "outputs": [],
   "source": [
    "import pandas as pd\n",
    "import numpy as np  \n",
    "import matplotlib.pyplot as plt\n",
    "import seaborn as sns\n",
    "import re as re\n",
    "from collections import Counter"
   ]
  },
  {
   "cell_type": "code",
   "execution_count": 3,
   "id": "094f483c",
   "metadata": {},
   "outputs": [
    {
     "name": "stdout",
     "output_type": "stream",
     "text": [
      "📂 DATASETS CARREGADOS:\n",
      "Netflix: 21,391 registros\n",
      "HBO Max: 9,776 registros\n",
      "Apple TV: 18,692 registros\n",
      "Prime Video: 72,943 registros\n"
     ]
    }
   ],
   "source": [
    "# Carregar cada CSV limpo\n",
    "df_netflix = pd.read_csv('C:/Users/nise_/OneDrive/Documentos/Digital College/Python/DA_18/streaming/Dados_tratados/data_netflix_clean.csv')\n",
    "df_hbo = pd.read_csv('C:/Users/nise_/OneDrive/Documentos/Digital College/Python/DA_18/streaming/Dados_tratados/data_hbo_clean.csv')\n",
    "df_apple = pd.read_csv('C:/Users/nise_/OneDrive/Documentos/Digital College/Python/DA_18/streaming/Dados_tratados/df_apple_clean.csv')\n",
    "df_prime = pd.read_csv('C:/Users/nise_/OneDrive/Documentos/Digital College/Python/DA_18/streaming/Dados_tratados/data_prime_video_clean.csv')\n",
    "\n",
    "\n",
    "print(\"📂 DATASETS CARREGADOS:\")\n",
    "print(f\"Netflix: {len(df_netflix):,} registros\")\n",
    "print(f\"HBO Max: {len(df_hbo):,} registros\") \n",
    "print(f\"Apple TV: {len(df_apple):,} registros\")\n",
    "print(f\"Prime Video: {len(df_prime):,} registros\")"
   ]
  },
  {
   "cell_type": "code",
   "execution_count": 4,
   "id": "65bf19d8",
   "metadata": {},
   "outputs": [],
   "source": [
    "# Adicionar coluna de plataforma\n",
    "df_netflix['platform'] = 'Netflix'\n",
    "df_hbo['platform'] = 'HBO Max'\n",
    "df_apple['platform'] = 'Apple TV+'\n",
    "df_prime['platform'] = 'Prime Video'"
   ]
  },
  {
   "cell_type": "code",
   "execution_count": 5,
   "id": "18ff7dd5",
   "metadata": {},
   "outputs": [
    {
     "name": "stdout",
     "output_type": "stream",
     "text": [
      "\n",
      "🎬 DATASET UNIFICADO CRIADO:\n",
      "Total de registros: 122,802\n",
      "Total de colunas: 8\n",
      "Colunas: ['title', 'type', 'genres', 'releaseYear', 'imdbId', 'imdbAverageRating', 'imdbNumVotes', 'platform']\n"
     ]
    }
   ],
   "source": [
    "\n",
    "# ==========================================\n",
    "# UNINDO OS DATASETS\n",
    "# ==========================================\n",
    "\n",
    "platforms = {\n",
    "    'Netflix': df_netflix,\n",
    "    'HBO Max': df_hbo, \n",
    "    'Apple TV': df_apple,\n",
    "    'Prime Video': df_prime\n",
    "}\n",
    "# Concatenar todos os DataFrames em um único DataFrame\n",
    "df_streaming = pd.concat([df_netflix, df_hbo, df_apple, df_prime], ignore_index=True)\n",
    "\n",
    "\n",
    "print(f\"\\n🎬 DATASET UNIFICADO CRIADO:\")\n",
    "print(f\"Total de registros: {len(df_streaming):,}\")\n",
    "print(f\"Total de colunas: {len(df_streaming.columns)}\")\n",
    "print(f\"Colunas: {list(df_streaming.columns)}\")\n"
   ]
  },
  {
   "cell_type": "code",
   "execution_count": 7,
   "id": "fa40a657",
   "metadata": {},
   "outputs": [],
   "source": [
    "# ==========================================\n",
    "    #Classifica conteúdo em três categorias principais:\n",
    "    #- Clássico: Filmes antigos com relevância cultural/qualidade\n",
    "    #- Lançamento: Conteúdo dos últimos 5 anos\n",
    "    #- Catálogo: Todo o resto\n",
    "# ==========================================\n",
    "\n",
    "# Função para classificar o conteúdo\n",
    "def classificar_conteudo(row):\n",
    "    \n",
    "    ano = row['releaseYear']\n",
    "    votos = row['imdbNumVotes']\n",
    "    rating = row['imdbAverageRating']\n",
    "    \n",
    "    # Lançamentos: últimos 5 anos\n",
    "    if ano >= 2020:\n",
    "        return 'Lançamento'\n",
    "    \n",
    "    # Clássicos: até 1999 com critérios de qualidade/relevância\n",
    "    elif ano <= 1999:\n",
    "        # Clássico consolidado: muitos votos + boa qualidade\n",
    "        if votos >= 1000 and rating >= 6.5:\n",
    "            return 'Clássico'\n",
    "        # Clássico cult: poucos votos mas excelente qualidade\n",
    "        elif votos >= 100 and rating >= 7.5:\n",
    "            return 'Clássico'\n",
    "        else:\n",
    "            return 'Catálogo'\n",
    "    \n",
    "    # Conteúdo intermediário (2000-2019)\n",
    "    else:\n",
    "        return 'Catálogo'\n",
    "\n",
    "# Aplicar classificação\n",
    "df_streaming['classificacao'] = df_streaming.apply(classificar_conteudo, axis=1)\n"
   ]
  },
  {
   "cell_type": "code",
   "execution_count": 8,
   "id": "f2eeab27",
   "metadata": {},
   "outputs": [
    {
     "name": "stdout",
     "output_type": "stream",
     "text": [
      "📊 ESTRATÉGIAS DAS PLATAFORMAS:\n",
      "===================================\n",
      "classificacao  Catálogo  Clássico  Lançamento\n",
      "platform                                     \n",
      "Apple TV+          63.2       9.5        27.3\n",
      "HBO Max            51.2       8.8        40.1\n",
      "Netflix            55.6       4.3        40.1\n",
      "Prime Video        69.2       5.0        25.8\n"
     ]
    }
   ],
   "source": [
    "# Análise rápida das proporções\n",
    "proporcoes = df_streaming.groupby(['platform', 'classificacao']).size().unstack(fill_value=0)\n",
    "proporcoes_pct = proporcoes.div(proporcoes.sum(axis=1), axis=0) * 100\n",
    "\n",
    "print(\"📊 ESTRATÉGIAS DAS PLATAFORMAS:\")\n",
    "print(\"=\"*35)\n",
    "print(proporcoes_pct.round(1))"
   ]
  },
  {
   "cell_type": "code",
   "execution_count": 9,
   "id": "84fa4ad9",
   "metadata": {},
   "outputs": [
    {
     "name": "stdout",
     "output_type": "stream",
     "text": [
      "\n",
      "🎭 RANKING - FOCO EM CLÁSSICOS:\n",
      "1º Apple TV+: 9.5%\n",
      "2º HBO Max: 8.8%\n",
      "3º Prime Video: 5.0%\n",
      "4º Netflix: 4.3%\n"
     ]
    }
   ],
   "source": [
    "# Ranking das plataformas por foco em clássicos\n",
    "print(\"\\n🎭 RANKING - FOCO EM CLÁSSICOS:\")\n",
    "ranking_classicos = proporcoes_pct['Clássico'].sort_values(ascending=False)\n",
    "for i, (platform, pct) in enumerate(ranking_classicos.items(), 1):\n",
    "    print(f\"{i}º {platform}: {pct:.1f}%\")\n"
   ]
  },
  {
   "cell_type": "code",
   "execution_count": 10,
   "id": "97827066",
   "metadata": {},
   "outputs": [
    {
     "name": "stdout",
     "output_type": "stream",
     "text": [
      "\n",
      "🚀 RANKING - FOCO EM LANÇAMENTOS:\n",
      "1º Netflix: 40.1%\n",
      "2º HBO Max: 40.1%\n",
      "3º Apple TV+: 27.3%\n",
      "4º Prime Video: 25.8%\n"
     ]
    }
   ],
   "source": [
    "# Ranking das plataformas por foco em lançamentos\n",
    "print(\"\\n🚀 RANKING - FOCO EM LANÇAMENTOS:\")\n",
    "ranking_lancamentos = proporcoes_pct['Lançamento'].sort_values(ascending=False)\n",
    "for i, (platform, pct) in enumerate(ranking_lancamentos.items(), 1):\n",
    "    print(f\"{i}º {platform}: {pct:.1f}%\")"
   ]
  }
 ],
 "metadata": {
  "kernelspec": {
   "display_name": ".venv",
   "language": "python",
   "name": "python3"
  },
  "language_info": {
   "codemirror_mode": {
    "name": "ipython",
    "version": 3
   },
   "file_extension": ".py",
   "mimetype": "text/x-python",
   "name": "python",
   "nbconvert_exporter": "python",
   "pygments_lexer": "ipython3",
   "version": "3.11.9"
  }
 },
 "nbformat": 4,
 "nbformat_minor": 5
}
