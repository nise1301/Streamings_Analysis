{
 "cells": [
  {
   "cell_type": "code",
   "execution_count": null,
   "id": "002828ab",
   "metadata": {},
   "outputs": [],
   "source": [
    "%pip install pandas\n",
    "%pip install numpy \n",
    "%pip install matplotlib\n",
    "%pip install seaborn"
   ]
  },
  {
   "cell_type": "code",
   "execution_count": 2,
   "id": "d42724ac",
   "metadata": {},
   "outputs": [],
   "source": [
    "import pandas as pd\n",
    "import numpy as np  \n",
    "import matplotlib.pyplot as plt\n",
    "import seaborn as sns\n",
    "import re as re\n",
    "from collections import Counter"
   ]
  },
  {
   "cell_type": "code",
   "execution_count": 3,
   "id": "93e99f5b",
   "metadata": {},
   "outputs": [
    {
     "name": "stdout",
     "output_type": "stream",
     "text": [
      "📂 DATASETS CARREGADOS:\n",
      "Netflix: 21,391 registros\n",
      "HBO Max: 9,776 registros\n",
      "Apple TV: 18,692 registros\n",
      "Prime Video: 72,943 registros\n"
     ]
    }
   ],
   "source": [
    "# Carregar cada CSV limpo\n",
    "df_netflix = pd.read_csv('C:/Users/nise_/OneDrive/Documentos/Digital College/Python/DA_18/streaming/Dados_tratados/data_netflix_clean.csv')\n",
    "df_hbo = pd.read_csv('C:/Users/nise_/OneDrive/Documentos/Digital College/Python/DA_18/streaming/Dados_tratados/data_hbo_clean.csv')\n",
    "df_apple = pd.read_csv('C:/Users/nise_/OneDrive/Documentos/Digital College/Python/DA_18/streaming/Dados_tratados/df_apple_clean.csv')\n",
    "df_prime = pd.read_csv('C:/Users/nise_/OneDrive/Documentos/Digital College/Python/DA_18/streaming/Dados_tratados/data_prime_video_clean.csv')\n",
    "\n",
    "\n",
    "print(\"📂 DATASETS CARREGADOS:\")\n",
    "print(f\"Netflix: {len(df_netflix):,} registros\")\n",
    "print(f\"HBO Max: {len(df_hbo):,} registros\") \n",
    "print(f\"Apple TV: {len(df_apple):,} registros\")\n",
    "print(f\"Prime Video: {len(df_prime):,} registros\")"
   ]
  },
  {
   "cell_type": "code",
   "execution_count": 4,
   "id": "786e1e5e",
   "metadata": {},
   "outputs": [],
   "source": [
    "# Adicionar coluna de plataforma\n",
    "df_netflix['platform'] = 'Netflix'\n",
    "df_hbo['platform'] = 'HBO Max'\n",
    "df_apple['platform'] = 'Apple TV+'\n",
    "df_prime['platform'] = 'Prime Video'"
   ]
  },
  {
   "cell_type": "code",
   "execution_count": 5,
   "id": "ee395603",
   "metadata": {},
   "outputs": [
    {
     "name": "stdout",
     "output_type": "stream",
     "text": [
      "\n",
      "🎬 DATASET UNIFICADO CRIADO:\n",
      "Total de registros: 122,802\n",
      "Total de colunas: 8\n",
      "Colunas: ['title', 'type', 'genres', 'releaseYear', 'imdbId', 'imdbAverageRating', 'imdbNumVotes', 'platform']\n"
     ]
    }
   ],
   "source": [
    "\n",
    "# ==========================================\n",
    "# UNINDO OS DATASETS\n",
    "# ==========================================\n",
    "\n",
    "platforms = {\n",
    "    'Netflix': df_netflix,\n",
    "    'HBO Max': df_hbo, \n",
    "    'Apple TV': df_apple,\n",
    "    'Prime Video': df_prime\n",
    "}\n",
    "# Concatenar todos os DataFrames em um único DataFrame\n",
    "df_streaming = pd.concat([df_netflix, df_hbo, df_apple, df_prime], ignore_index=True)\n",
    "\n",
    "\n",
    "print(f\"\\n🎬 DATASET UNIFICADO CRIADO:\")\n",
    "print(f\"Total de registros: {len(df_streaming):,}\")\n",
    "print(f\"Total de colunas: {len(df_streaming.columns)}\")\n",
    "print(f\"Colunas: {list(df_streaming.columns)}\")\n"
   ]
  },
  {
   "cell_type": "code",
   "execution_count": null,
   "id": "d8302160",
   "metadata": {},
   "outputs": [
    {
     "name": "stdout",
     "output_type": "stream",
     "text": [
      "TOP 20 TÍTULOS MAIS VOTADOS:\n",
      "--------------------------------------------------------------------------------\n",
      "50004. The Shawshank Redemption                 |  3,046,940 votos | Prime Video\n",
      "82. The Shawshank Redemption                 |  3,046,940 votos | Netflix\n",
      "21463. The Shawshank Redemption                 |  3,046,940 votos | HBO Max\n",
      "56. The Dark Knight                          |  3,023,583 votos | Netflix\n",
      "21428. The Dark Knight                          |  3,023,583 votos | HBO Max\n",
      "49930. The Dark Knight                          |  3,023,583 votos | Prime Video\n",
      "22692. Inception                                |  2,685,476 votos | HBO Max\n",
      "1862. Inception                                |  2,685,476 votos | Netflix\n",
      "55216. Inception                                |  2,685,476 votos | Prime Video\n",
      "50109. Fight Club                               |  2,467,361 votos | Prime Video\n",
      "27934. Game of Thrones                          |  2,435,895 votos | HBO Max\n",
      "49861. Forrest Gump                             |  2,381,047 votos | Prime Video\n",
      " 3. Forrest Gump                             |  2,381,047 votos | Netflix\n",
      "31168. Forrest Gump                             |  2,381,047 votos | Apple TV+\n",
      "4902. Interstellar                             |  2,348,033 votos | Netflix\n",
      "36353. Interstellar                             |  2,348,033 votos | Apple TV+\n",
      "68252. Interstellar                             |  2,348,033 votos | Prime Video\n",
      "23910. Interstellar                             |  2,348,033 votos | HBO Max\n",
      "21570. Pulp Fiction                             |  2,336,631 votos | HBO Max\n",
      "31363. Pulp Fiction                             |  2,336,631 votos | Apple TV+\n"
     ]
    }
   ],
   "source": [
    "# Top 20 títulos mais votados \n",
    "top_20_votados = df_streaming.sort_values(by='imdbNumVotes', ascending=False).head(20)\n",
    "\n",
    "# Exibir com formatação mais clara\n",
    "print(\"TOP 20 TÍTULOS MAIS VOTADOS:\")\n",
    "print(\"-\" * 80)\n",
    "for i, row in top_20_votados.iterrows():\n",
    "    print(f\"{row.name + 1:2d}. {row['title']:<40} | {row['imdbNumVotes']:>10,} votos | {row['platform']}\")\n"
   ]
  },
  {
   "cell_type": "markdown",
   "id": "7bbf9162",
   "metadata": {},
   "source": [
    "Dá pra ver que The Shawshank Redemption é o mais votado no Prime, HBO e Netflix e The Dark Knight o segundo mais votado"
   ]
  },
  {
   "cell_type": "code",
   "execution_count": 7,
   "id": "d87ea420",
   "metadata": {},
   "outputs": [
    {
     "name": "stdout",
     "output_type": "stream",
     "text": [
      "\n",
      "TOP 20 COM DISTRIBUIÇÃO POR PLATAFORMAS:\n",
      "----------------------------------------------------------------------------------------------------\n",
      "The Shawshank Redemption                 |  3,046,940 votos | EM 3 PLATAFORMAS     | Netflix, HBO Max, Prime Video\n",
      "The Dark Knight                          |  3,023,583 votos | EM 4 PLATAFORMAS     | Netflix, HBO Max, Prime Video, Prime Video\n",
      "Inception                                |  2,685,476 votos | EM 3 PLATAFORMAS     | Netflix, HBO Max, Prime Video\n",
      "Fight Club                               |  2,467,361 votos | EM 2 PLATAFORMAS     | Prime Video, Prime Video\n",
      "Game of Thrones                          |  2,435,895 votos | EXCLUSIVO            | HBO Max\n",
      "Forrest Gump                             |  2,381,047 votos | EM 3 PLATAFORMAS     | Netflix, Apple TV+, Prime Video\n",
      "Interstellar                             |  2,348,033 votos | EM 4 PLATAFORMAS     | Netflix, HBO Max, Apple TV+, Prime Video\n",
      "Pulp Fiction                             |  2,336,631 votos | EM 4 PLATAFORMAS     | Netflix, HBO Max, Apple TV+, Prime Video\n",
      "Breaking Bad                             |  2,334,135 votos | EXCLUSIVO            | Netflix\n",
      "The Matrix                               |  2,157,238 votos | EM 3 PLATAFORMAS     | Netflix, HBO Max, Prime Video\n",
      "The Godfather                            |  2,127,029 votos | EM 4 PLATAFORMAS     | Netflix, HBO Max, Apple TV+, Prime Video\n",
      "The Lord of the Rings: The Fellowship of the Ring |  2,109,484 votos | EM 3 PLATAFORMAS     | Netflix, HBO Max, Prime Video\n",
      "The Lord of the Rings: The Return of the King |  2,079,478 votos | EM 3 PLATAFORMAS     | Netflix, HBO Max, Prime Video\n",
      "The Dark Knight Rises                    |  1,914,741 votos | EM 3 PLATAFORMAS     | Netflix, HBO Max, Prime Video\n",
      "Se7en                                    |  1,913,002 votos | EM 3 PLATAFORMAS     | Netflix, HBO Max, Prime Video\n",
      "The Lord of the Rings: The Two Towers    |  1,874,865 votos | EM 3 PLATAFORMAS     | Netflix, HBO Max, Prime Video\n",
      "Django Unchained                         |  1,793,096 votos | EM 2 PLATAFORMAS     | Netflix, Prime Video\n",
      "Gladiator                                |  1,761,620 votos | EM 4 PLATAFORMAS     | Netflix, HBO Max, Apple TV+, Prime Video\n",
      "The Wolf of Wall Street                  |  1,688,660 votos | EM 3 PLATAFORMAS     | Netflix, Apple TV+, Prime Video\n",
      "Inglourious Basterds                     |  1,684,403 votos | EM 4 PLATAFORMAS     | Netflix, HBO Max, Apple TV+, Prime Video\n"
     ]
    }
   ],
   "source": [
    "# Verificar quantas plataformas cada título aparece\n",
    "title_platforms = df_streaming.groupby('title')['platform'].apply(list).reset_index()\n",
    "title_platforms['num_platforms'] = title_platforms['platform'].apply(len)\n",
    "\n",
    "# Juntar com os dados de votos\n",
    "top_with_distribution = df_streaming.merge(title_platforms, on='title')\n",
    "top_final = top_with_distribution.sort_values(by='imdbNumVotes', ascending=False).drop_duplicates('title').head(20)\n",
    "\n",
    "print(\"\\nTOP 20 COM DISTRIBUIÇÃO POR PLATAFORMAS:\")\n",
    "print(\"-\" * 100)\n",
    "for i, row in top_final.iterrows():\n",
    "    platforms_str = ', '.join(row['platform_y'])\n",
    "    exclusivity = \"EXCLUSIVO\" if row['num_platforms'] == 1 else f\"EM {row['num_platforms']} PLATAFORMAS\"\n",
    "    print(f\"{row['title']:<40} | {row['imdbNumVotes']:>10,} votos | {exclusivity:<20} | {platforms_str}\")\n"
   ]
  },
  {
   "cell_type": "code",
   "execution_count": 9,
   "id": "da07e5b4",
   "metadata": {},
   "outputs": [
    {
     "name": "stdout",
     "output_type": "stream",
     "text": [
      "\n",
      "🏆 RANKING DOS 10 PRINCIPAIS TITULOS ENTRE TODAS AS PLATAFORMAS:\n",
      "                      Título  Número de Votos                   Plataformas Disponíveis\n",
      "1   The Shawshank Redemption          3046940             HBO Max, Netflix, Prime Video\n",
      "2            The Dark Knight          3023583             HBO Max, Netflix, Prime Video\n",
      "3                  Inception          2685476             HBO Max, Netflix, Prime Video\n",
      "4                 Fight Club          2467361                               Prime Video\n",
      "5            Game of Thrones          2435895                                   HBO Max\n",
      "6               Forrest Gump          2381047           Apple TV+, Netflix, Prime Video\n",
      "7               Interstellar          2348033  Apple TV+, HBO Max, Netflix, Prime Video\n",
      "8               Pulp Fiction          2336631  Apple TV+, HBO Max, Netflix, Prime Video\n",
      "9               Breaking Bad          2334135                                   Netflix\n",
      "10                The Matrix          2157238             HBO Max, Netflix, Prime Video\n"
     ]
    }
   ],
   "source": [
    "# Criar ranking top 10 dos títulos mais votados com indicação das plataformas\n",
    "\n",
    "# Agrupar plataformas por título\n",
    "platforms_per_title = df_streaming.groupby('title')['platform'].apply(lambda x: ', '.join(sorted(set(x)))).reset_index()\n",
    "\n",
    "# Ordenar pelo número de votos e pegar top 10\n",
    "top_10 = df_streaming.sort_values(by='imdbNumVotes', ascending=False).drop_duplicates('title').head(10)\n",
    "\n",
    "# Juntar com as plataformas\n",
    "ranking_top_10 = top_10[['title', 'imdbNumVotes']].merge(platforms_per_title, on='title')\n",
    "\n",
    "# Formatar a saída para exibir o ranking\n",
    "ranking_top_10 = ranking_top_10.reset_index(drop=True)\n",
    "ranking_top_10.index += 1\n",
    "ranking_top_10.columns = ['Título', 'Número de Votos', 'Plataformas Disponíveis']\n",
    "\n",
    "print(\"\\n🏆 RANKING DOS 10 PRINCIPAIS TITULOS ENTRE TODAS AS PLATAFORMAS:\")\n",
    "print(ranking_top_10.to_string(index=True))\n"
   ]
  }
 ],
 "metadata": {
  "kernelspec": {
   "display_name": ".venv",
   "language": "python",
   "name": "python3"
  },
  "language_info": {
   "codemirror_mode": {
    "name": "ipython",
    "version": 3
   },
   "file_extension": ".py",
   "mimetype": "text/x-python",
   "name": "python",
   "nbconvert_exporter": "python",
   "pygments_lexer": "ipython3",
   "version": "3.11.9"
  }
 },
 "nbformat": 4,
 "nbformat_minor": 5
}
