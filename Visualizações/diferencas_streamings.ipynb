{
 "cells": [
  {
   "cell_type": "code",
   "execution_count": 4,
   "id": "3ef6d5c2",
   "metadata": {},
   "outputs": [
    {
     "name": "stdout",
     "output_type": "stream",
     "text": [
      "Requirement already satisfied: pandas in c:\\users\\nise_\\onedrive\\documentos\\digital college\\python\\da_18\\streaming\\.venv\\lib\\site-packages (2.2.3)\n",
      "Requirement already satisfied: numpy>=1.23.2 in c:\\users\\nise_\\onedrive\\documentos\\digital college\\python\\da_18\\streaming\\.venv\\lib\\site-packages (from pandas) (2.2.6)\n",
      "Requirement already satisfied: python-dateutil>=2.8.2 in c:\\users\\nise_\\onedrive\\documentos\\digital college\\python\\da_18\\streaming\\.venv\\lib\\site-packages (from pandas) (2.9.0.post0)\n",
      "Requirement already satisfied: pytz>=2020.1 in c:\\users\\nise_\\onedrive\\documentos\\digital college\\python\\da_18\\streaming\\.venv\\lib\\site-packages (from pandas) (2025.2)\n",
      "Requirement already satisfied: tzdata>=2022.7 in c:\\users\\nise_\\onedrive\\documentos\\digital college\\python\\da_18\\streaming\\.venv\\lib\\site-packages (from pandas) (2025.2)\n",
      "Requirement already satisfied: six>=1.5 in c:\\users\\nise_\\onedrive\\documentos\\digital college\\python\\da_18\\streaming\\.venv\\lib\\site-packages (from python-dateutil>=2.8.2->pandas) (1.17.0)\n",
      "Note: you may need to restart the kernel to use updated packages.\n",
      "Requirement already satisfied: numpy in c:\\users\\nise_\\onedrive\\documentos\\digital college\\python\\da_18\\streaming\\.venv\\lib\\site-packages (2.2.6)\n",
      "Note: you may need to restart the kernel to use updated packages.\n",
      "Requirement already satisfied: matplotlib in c:\\users\\nise_\\onedrive\\documentos\\digital college\\python\\da_18\\streaming\\.venv\\lib\\site-packages (3.10.3)\n",
      "Requirement already satisfied: contourpy>=1.0.1 in c:\\users\\nise_\\onedrive\\documentos\\digital college\\python\\da_18\\streaming\\.venv\\lib\\site-packages (from matplotlib) (1.3.2)\n",
      "Requirement already satisfied: cycler>=0.10 in c:\\users\\nise_\\onedrive\\documentos\\digital college\\python\\da_18\\streaming\\.venv\\lib\\site-packages (from matplotlib) (0.12.1)\n",
      "Requirement already satisfied: fonttools>=4.22.0 in c:\\users\\nise_\\onedrive\\documentos\\digital college\\python\\da_18\\streaming\\.venv\\lib\\site-packages (from matplotlib) (4.58.0)\n",
      "Requirement already satisfied: kiwisolver>=1.3.1 in c:\\users\\nise_\\onedrive\\documentos\\digital college\\python\\da_18\\streaming\\.venv\\lib\\site-packages (from matplotlib) (1.4.8)\n",
      "Requirement already satisfied: numpy>=1.23 in c:\\users\\nise_\\onedrive\\documentos\\digital college\\python\\da_18\\streaming\\.venv\\lib\\site-packages (from matplotlib) (2.2.6)\n",
      "Requirement already satisfied: packaging>=20.0 in c:\\users\\nise_\\onedrive\\documentos\\digital college\\python\\da_18\\streaming\\.venv\\lib\\site-packages (from matplotlib) (25.0)\n",
      "Requirement already satisfied: pillow>=8 in c:\\users\\nise_\\onedrive\\documentos\\digital college\\python\\da_18\\streaming\\.venv\\lib\\site-packages (from matplotlib) (11.2.1)\n",
      "Requirement already satisfied: pyparsing>=2.3.1 in c:\\users\\nise_\\onedrive\\documentos\\digital college\\python\\da_18\\streaming\\.venv\\lib\\site-packages (from matplotlib) (3.2.3)\n",
      "Requirement already satisfied: python-dateutil>=2.7 in c:\\users\\nise_\\onedrive\\documentos\\digital college\\python\\da_18\\streaming\\.venv\\lib\\site-packages (from matplotlib) (2.9.0.post0)\n",
      "Requirement already satisfied: six>=1.5 in c:\\users\\nise_\\onedrive\\documentos\\digital college\\python\\da_18\\streaming\\.venv\\lib\\site-packages (from python-dateutil>=2.7->matplotlib) (1.17.0)\n",
      "Note: you may need to restart the kernel to use updated packages.\n",
      "Requirement already satisfied: seaborn in c:\\users\\nise_\\onedrive\\documentos\\digital college\\python\\da_18\\streaming\\.venv\\lib\\site-packages (0.13.2)\n",
      "Requirement already satisfied: numpy!=1.24.0,>=1.20 in c:\\users\\nise_\\onedrive\\documentos\\digital college\\python\\da_18\\streaming\\.venv\\lib\\site-packages (from seaborn) (2.2.6)\n",
      "Requirement already satisfied: pandas>=1.2 in c:\\users\\nise_\\onedrive\\documentos\\digital college\\python\\da_18\\streaming\\.venv\\lib\\site-packages (from seaborn) (2.2.3)\n",
      "Requirement already satisfied: matplotlib!=3.6.1,>=3.4 in c:\\users\\nise_\\onedrive\\documentos\\digital college\\python\\da_18\\streaming\\.venv\\lib\\site-packages (from seaborn) (3.10.3)\n",
      "Requirement already satisfied: contourpy>=1.0.1 in c:\\users\\nise_\\onedrive\\documentos\\digital college\\python\\da_18\\streaming\\.venv\\lib\\site-packages (from matplotlib!=3.6.1,>=3.4->seaborn) (1.3.2)\n",
      "Requirement already satisfied: cycler>=0.10 in c:\\users\\nise_\\onedrive\\documentos\\digital college\\python\\da_18\\streaming\\.venv\\lib\\site-packages (from matplotlib!=3.6.1,>=3.4->seaborn) (0.12.1)\n",
      "Requirement already satisfied: fonttools>=4.22.0 in c:\\users\\nise_\\onedrive\\documentos\\digital college\\python\\da_18\\streaming\\.venv\\lib\\site-packages (from matplotlib!=3.6.1,>=3.4->seaborn) (4.58.0)\n",
      "Requirement already satisfied: kiwisolver>=1.3.1 in c:\\users\\nise_\\onedrive\\documentos\\digital college\\python\\da_18\\streaming\\.venv\\lib\\site-packages (from matplotlib!=3.6.1,>=3.4->seaborn) (1.4.8)\n",
      "Requirement already satisfied: packaging>=20.0 in c:\\users\\nise_\\onedrive\\documentos\\digital college\\python\\da_18\\streaming\\.venv\\lib\\site-packages (from matplotlib!=3.6.1,>=3.4->seaborn) (25.0)\n",
      "Requirement already satisfied: pillow>=8 in c:\\users\\nise_\\onedrive\\documentos\\digital college\\python\\da_18\\streaming\\.venv\\lib\\site-packages (from matplotlib!=3.6.1,>=3.4->seaborn) (11.2.1)\n",
      "Requirement already satisfied: pyparsing>=2.3.1 in c:\\users\\nise_\\onedrive\\documentos\\digital college\\python\\da_18\\streaming\\.venv\\lib\\site-packages (from matplotlib!=3.6.1,>=3.4->seaborn) (3.2.3)\n",
      "Requirement already satisfied: python-dateutil>=2.7 in c:\\users\\nise_\\onedrive\\documentos\\digital college\\python\\da_18\\streaming\\.venv\\lib\\site-packages (from matplotlib!=3.6.1,>=3.4->seaborn) (2.9.0.post0)\n",
      "Requirement already satisfied: pytz>=2020.1 in c:\\users\\nise_\\onedrive\\documentos\\digital college\\python\\da_18\\streaming\\.venv\\lib\\site-packages (from pandas>=1.2->seaborn) (2025.2)\n",
      "Requirement already satisfied: tzdata>=2022.7 in c:\\users\\nise_\\onedrive\\documentos\\digital college\\python\\da_18\\streaming\\.venv\\lib\\site-packages (from pandas>=1.2->seaborn) (2025.2)\n",
      "Requirement already satisfied: six>=1.5 in c:\\users\\nise_\\onedrive\\documentos\\digital college\\python\\da_18\\streaming\\.venv\\lib\\site-packages (from python-dateutil>=2.7->matplotlib!=3.6.1,>=3.4->seaborn) (1.17.0)\n",
      "Note: you may need to restart the kernel to use updated packages.\n"
     ]
    }
   ],
   "source": [
    "%pip install pandas\n",
    "%pip install numpy \n",
    "%pip install matplotlib\n",
    "%pip install seaborn"
   ]
  },
  {
   "cell_type": "code",
   "execution_count": 5,
   "id": "145f53f8",
   "metadata": {},
   "outputs": [],
   "source": [
    "import pandas as pd\n",
    "import numpy as np  \n",
    "import matplotlib.pyplot as plt\n",
    "import seaborn as sns\n",
    "import re as re\n",
    "from collections import Counter"
   ]
  },
  {
   "cell_type": "code",
   "execution_count": 6,
   "id": "2ccff669",
   "metadata": {},
   "outputs": [
    {
     "name": "stdout",
     "output_type": "stream",
     "text": [
      "📂 DATASETS CARREGADOS:\n",
      "Netflix: 21,391 registros\n",
      "HBO Max: 9,776 registros\n",
      "Apple TV: 18,692 registros\n",
      "Prime Video: 72,943 registros\n"
     ]
    }
   ],
   "source": [
    "# Carregar cada CSV limpo\n",
    "df_netflix = pd.read_csv('C:/Users/nise_/OneDrive/Documentos/Digital College/Python/DA_18/streaming/Dados_tratados/data_netflix_clean.csv')\n",
    "df_hbo = pd.read_csv('C:/Users/nise_/OneDrive/Documentos/Digital College/Python/DA_18/streaming/Dados_tratados/data_hbo_clean.csv')\n",
    "df_apple = pd.read_csv('C:/Users/nise_/OneDrive/Documentos/Digital College/Python/DA_18/streaming/Dados_tratados/df_apple_clean.csv')\n",
    "df_prime = pd.read_csv('C:/Users/nise_/OneDrive/Documentos/Digital College/Python/DA_18/streaming/Dados_tratados/data_prime_video_clean.csv')\n",
    "\n",
    "\n",
    "print(\"📂 DATASETS CARREGADOS:\")\n",
    "print(f\"Netflix: {len(df_netflix):,} registros\")\n",
    "print(f\"HBO Max: {len(df_hbo):,} registros\") \n",
    "print(f\"Apple TV: {len(df_apple):,} registros\")\n",
    "print(f\"Prime Video: {len(df_prime):,} registros\")"
   ]
  },
  {
   "cell_type": "code",
   "execution_count": 7,
   "id": "840dbc3f",
   "metadata": {},
   "outputs": [],
   "source": [
    "# Adicionar coluna de plataforma\n",
    "df_netflix['platform'] = 'Netflix'\n",
    "df_hbo['platform'] = 'HBO Max'\n",
    "df_apple['platform'] = 'Apple TV+'\n",
    "df_prime['platform'] = 'Prime Video'"
   ]
  },
  {
   "cell_type": "code",
   "execution_count": 8,
   "id": "622319a9",
   "metadata": {},
   "outputs": [
    {
     "name": "stdout",
     "output_type": "stream",
     "text": [
      "\n",
      "🎬 DATASET UNIFICADO CRIADO:\n",
      "Total de registros: 122,802\n",
      "Total de colunas: 8\n",
      "Colunas: ['title', 'type', 'genres', 'releaseYear', 'imdbId', 'imdbAverageRating', 'imdbNumVotes', 'platform']\n"
     ]
    }
   ],
   "source": [
    "\n",
    "# ==========================================\n",
    "# UNINDO OS DATASETS\n",
    "# ==========================================\n",
    "\n",
    "platforms = {\n",
    "    'Netflix': df_netflix,\n",
    "    'HBO Max': df_hbo, \n",
    "    'Apple TV': df_apple,\n",
    "    'Prime Video': df_prime\n",
    "}\n",
    "# Concatenar todos os DataFrames em um único DataFrame\n",
    "df_streaming = pd.concat([df_netflix, df_hbo, df_apple, df_prime], ignore_index=True)\n",
    "\n",
    "\n",
    "print(f\"\\n🎬 DATASET UNIFICADO CRIADO:\")\n",
    "print(f\"Total de registros: {len(df_streaming):,}\")\n",
    "print(f\"Total de colunas: {len(df_streaming.columns)}\")\n",
    "print(f\"Colunas: {list(df_streaming.columns)}\")\n"
   ]
  },
  {
   "cell_type": "code",
   "execution_count": 9,
   "id": "0cdb4079",
   "metadata": {},
   "outputs": [],
   "source": [
    "def extract_individual_genres(df, platform_name):\n",
    "    \"\"\"Extrai gêneros individuais e conta por plataforma\"\"\"\n",
    "    all_genres = []\n",
    "    \n",
    "    for genres_str in df['genres'].dropna():\n",
    "        if pd.notna(genres_str):\n",
    "            genres_list = re.split(r'[,;|]', str(genres_str))\n",
    "            clean_genres = [genre.strip() for genre in genres_list if genre.strip()]\n",
    "            all_genres.extend(clean_genres)\n",
    "    \n",
    "    genre_counts = Counter(all_genres)\n",
    "    total_occurrences = sum(genre_counts.values())\n",
    "    \n",
    "    # Converter para DataFrame com percentuais\n",
    "    genre_df = pd.DataFrame(list(genre_counts.items()), columns=['genre', 'count'])\n",
    "    genre_df['percentage'] = (genre_df['count'] / total_occurrences) * 100\n",
    "    genre_df['platform'] = platform_name\n",
    "    genre_df = genre_df.sort_values('percentage', ascending=False)\n",
    "    \n",
    "    return genre_df"
   ]
  },
  {
   "cell_type": "code",
   "execution_count": 10,
   "id": "3248be04",
   "metadata": {},
   "outputs": [],
   "source": [
    "# Extrair dados de gênero por plataforma\n",
    "netflix_genres = extract_individual_genres(df_netflix, 'Netflix')\n",
    "hbo_genres = extract_individual_genres(df_hbo, 'HBO Max')\n",
    "apple_genres = extract_individual_genres(df_apple, 'Apple TV+')\n",
    "prime_genres = extract_individual_genres(df_prime, 'Prime Video')\n",
    "\n",
    "# Combinar dados de gêneros\n",
    "all_genres_data = pd.concat([netflix_genres, hbo_genres, apple_genres, prime_genres], ignore_index=True)"
   ]
  },
  {
   "cell_type": "code",
   "execution_count": 11,
   "id": "969c60b9",
   "metadata": {},
   "outputs": [
    {
     "data": {
      "image/png": "[encoded data removed]",
      "text/plain": [
       "<Figure size 1200x700 with 1 Axes>"
      ]
     },
     "metadata": {},
     "output_type": "display_data"
    }
   ],
   "source": [
    "# ========================================================\n",
    "# Gráfico de barras horizontais dos gêneros mais populares por plataforma\n",
    "# ========================================================\n",
    "\n",
    "# Foco só nos 10 gêneros mais populares \n",
    "top_genres = (\n",
    "    all_genres_data.groupby('genre')['percentage']\n",
    "    .sum()\n",
    "    .sort_values(ascending=False)\n",
    "    .head(10)\n",
    "    .index\n",
    ")\n",
    "\n",
    "# Filtra o dataframe para esses gêneros\n",
    "df_plot = all_genres_data[all_genres_data['genre'].isin(top_genres)]\n",
    "\n",
    "plt.figure(figsize=(12, 7))\n",
    "sns.barplot(\n",
    "    data=df_plot,\n",
    "    y='genre',\n",
    "    x='percentage',\n",
    "    palette=[\"#F73030\", \"#8D14FF\", \"#191918\", \"#1472FF\"],\n",
    "    hue='platform',\n",
    "    orient='h'\n",
    ")\n",
    "plt.xlabel('Percentual de Ocorrência (%)')\n",
    "plt.ylabel('Gênero')\n",
    "plt.title('Distribuição dos Principais Gêneros por Plataforma')\n",
    "plt.legend(title='Plataforma')\n",
    "plt.tight_layout()\n",
    "plt.show()\n"
   ]
  },
  {
   "cell_type": "code",
   "execution_count": 12,
   "id": "8a5c8e57",
   "metadata": {},
   "outputs": [
    {
     "name": "stdout",
     "output_type": "stream",
     "text": [
      "platform     Apple TV+  HBO Max  Netflix  Prime Video\n",
      "genre                                                \n",
      "Drama            22.47    17.91    21.44        21.41\n",
      "Comedy           12.58    12.70    16.32        12.27\n",
      "Documentary       6.65    10.17     4.91         6.80\n",
      "Action            5.67     5.76     7.57         7.43\n",
      "Crime             7.15     6.57     6.71         5.65\n",
      "Romance           7.27     4.54     6.63         5.49\n",
      "Thriller          5.90     3.91     4.58         6.43\n",
      "Adventure         3.34     5.92     5.41         4.44\n",
      "Horror            4.75     2.34     2.80         5.78\n",
      "Animation         1.48     4.79     4.69         2.86\n"
     ]
    }
   ],
   "source": [
    "# Gera uma tabela resumo dos 10 gêneros mais relevantes por plataforma\n",
    "summary_table = all_genres_data.pivot_table(\n",
    "    index='genre',\n",
    "    columns='platform',\n",
    "    values='percentage',\n",
    "    aggfunc='sum'\n",
    ").fillna(0)\n",
    "\n",
    "# Ordena pelos gêneros mais representativos no total\n",
    "summary_table['total'] = summary_table.sum(axis=1)\n",
    "summary_table = summary_table.sort_values(by='total', ascending=False).drop(columns='total')\n",
    "\n",
    "# Seleciona os 10 principais gêneros\n",
    "top_10_genres = summary_table.head(10)\n",
    "\n",
    "# Exibe de forma textual, arredondando para 2 casas decimais\n",
    "print(top_10_genres.round(2).to_string())\n"
   ]
  },
  {
   "cell_type": "code",
   "execution_count": 13,
   "id": "322ab09c",
   "metadata": {},
   "outputs": [
    {
     "name": "stdout",
     "output_type": "stream",
     "text": [
      "\n",
      "🏆 RANKING DOS 10 PRINCIPAIS GÊNEROS ENTRE TODAS AS PLATAFORMAS:\n",
      "1º Drama\n",
      "2º Comedy\n",
      "3º Documentary\n",
      "4º Action\n",
      "5º Crime\n",
      "6º Romance\n",
      "7º Thriller\n",
      "8º Adventure\n",
      "9º Horror\n",
      "10º Animation\n"
     ]
    }
   ],
   "source": [
    "# Gera a tabela resumo dos gêneros por plataforma\n",
    "summary_table = all_genres_data.pivot_table(\n",
    "    index='genre',\n",
    "    columns='platform',\n",
    "    values='percentage',\n",
    "    aggfunc='sum'\n",
    ").fillna(0)\n",
    "\n",
    "# Soma os percentuais para ordenar\n",
    "summary_table['total'] = summary_table.sum(axis=1)\n",
    "summary_table = summary_table.sort_values(by='total', ascending=False).drop(columns='total')\n",
    "\n",
    "# Seleciona os 10 principais gêneros\n",
    "top_10_genres = summary_table.head(10)\n",
    "\n",
    "# Gera o ranking textual com colocação\n",
    "print(\"\\n🏆 RANKING DOS 10 PRINCIPAIS GÊNEROS ENTRE TODAS AS PLATAFORMAS:\")\n",
    "ranking_text = \"\\n\".join([f\"{i+1}º {genre}\" for i, genre in enumerate(top_10_genres.index)])\n",
    "\n",
    "print(ranking_text)\n"
   ]
  }
 ],
 "metadata": {
  "kernelspec": {
   "display_name": ".venv",
   "language": "python",
   "name": "python3"
  },
  "language_info": {
   "codemirror_mode": {
    "name": "ipython",
    "version": 3
   },
   "file_extension": ".py",
   "mimetype": "text/x-python",
   "name": "python",
   "nbconvert_exporter": "python",
   "pygments_lexer": "ipython3",
   "version": "3.11.9"
  }
 },
 "nbformat": 4,
 "nbformat_minor": 5
}
