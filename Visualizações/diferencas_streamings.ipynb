{
 "cells": [
  {
   "cell_type": "code",
   "execution_count": null,
   "id": "3ef6d5c2",
   "metadata": {},
   "outputs": [],
   "source": [
    "%pip install pandas\n",
    "%pip install numpy \n",
    "%pip install matplotlib\n",
    "%pip install seaborn"
   ]
  },
  {
   "cell_type": "code",
   "execution_count": 11,
   "id": "145f53f8",
   "metadata": {},
   "outputs": [],
   "source": [
    "import pandas as pd\n",
    "import numpy as np  \n",
    "import matplotlib.pyplot as plt\n",
    "import seaborn as sns\n",
    "import re as re\n",
    "from collections import Counter"
   ]
  },
  {
   "cell_type": "code",
   "execution_count": 8,
   "id": "2ccff669",
   "metadata": {},
   "outputs": [
    {
     "name": "stdout",
     "output_type": "stream",
     "text": [
      "📂 DATASETS CARREGADOS:\n",
      "Netflix: 21,082 registros\n",
      "HBO Max: 9,575 registros\n",
      "Apple TV: 18,131 registros\n",
      "Prime Video: 71,280 registros\n"
     ]
    }
   ],
   "source": [
    "# Carregar cada CSV limpo\n",
    "df_netflix = pd.read_csv('C:/Users/nise_/OneDrive/Documentos/Digital College/Python/DA_18/streaming/Dados_tratados/data_netflix_clean.csv')\n",
    "df_hbo = pd.read_csv('C:/Users/nise_/OneDrive/Documentos/Digital College/Python/DA_18/streaming/Dados_tratados/data_hbo_clean.csv')\n",
    "df_apple = pd.read_csv('C:/Users/nise_/OneDrive/Documentos/Digital College/Python/DA_18/streaming/Dados_tratados/df_apple_clean.csv')\n",
    "df_prime = pd.read_csv('C:/Users/nise_/OneDrive/Documentos/Digital College/Python/DA_18/streaming/Dados_tratados/data_prime_video_clean.csv')\n",
    "\n",
    "\n",
    "\n",
    "print(\"📂 DATASETS CARREGADOS:\")\n",
    "print(f\"Netflix: {len(df_netflix):,} registros\")\n",
    "print(f\"HBO Max: {len(df_hbo):,} registros\") \n",
    "print(f\"Apple TV: {len(df_apple):,} registros\")\n",
    "print(f\"Prime Video: {len(df_prime):,} registros\")"
   ]
  },
  {
   "cell_type": "code",
   "execution_count": 9,
   "id": "840dbc3f",
   "metadata": {},
   "outputs": [],
   "source": [
    "# Carregar os dados limpos \n",
    "df_netflix = pd.read_csv('C:/Users/nise_/OneDrive/Documentos/Digital College/Python/DA_18/streaming/Dados_tratados/data_netflix_clean.csv')\n",
    "df_hbo = pd.read_csv('C:/Users/nise_/OneDrive/Documentos/Digital College/Python/DA_18/streaming/Dados_tratados/data_hbo_clean.csv')\n",
    "df_apple = pd.read_csv('C:/Users/nise_/OneDrive/Documentos/Digital College/Python/DA_18/streaming/Dados_tratados/df_apple_clean.csv')\n",
    "df_prime = pd.read_csv('C:/Users/nise_/OneDrive/Documentos/Digital College/Python/DA_18/streaming/Dados_tratados/data_prime_video_clean.csv')\n",
    "\n",
    "# Adicionar coluna de plataforma\n",
    "df_netflix['platform'] = 'Netflix'\n",
    "df_hbo['platform'] = 'HBO Max'\n",
    "df_apple['platform'] = 'Apple TV+'\n",
    "df_prime['platform'] = 'Prime Video'"
   ]
  },
  {
   "cell_type": "code",
   "execution_count": 10,
   "id": "622319a9",
   "metadata": {},
   "outputs": [
    {
     "name": "stdout",
     "output_type": "stream",
     "text": [
      "\n",
      "🎬 DATASET UNIFICADO CRIADO:\n",
      "Total de registros: 120,068\n",
      "Total de colunas: 8\n",
      "Colunas: ['title', 'type', 'genres', 'releaseYear', 'imdbId', 'imdbAverageRating', 'imdbNumVotes', 'platform']\n"
     ]
    }
   ],
   "source": [
    "\n",
    "# ==========================================\n",
    "# UNINDO OS DATASETS\n",
    "# ==========================================\n",
    "\n",
    "platforms = {\n",
    "    'Netflix': df_netflix,\n",
    "    'HBO Max': df_hbo, \n",
    "    'Apple TV': df_apple,\n",
    "    'Prime Video': df_prime\n",
    "}\n",
    "# Concatenar todos os DataFrames em um único DataFrame\n",
    "df_streaming = pd.concat([df_netflix, df_hbo, df_apple, df_prime], ignore_index=True)\n",
    "\n",
    "\n",
    "print(f\"\\n🎬 DATASET UNIFICADO CRIADO:\")\n",
    "print(f\"Total de registros: {len(df_streaming):,}\")\n",
    "print(f\"Total de colunas: {len(df_streaming.columns)}\")\n",
    "print(f\"Colunas: {list(df_streaming.columns)}\")\n"
   ]
  },
  {
   "cell_type": "code",
   "execution_count": 12,
   "id": "0cdb4079",
   "metadata": {},
   "outputs": [],
   "source": [
    "def extract_individual_genres(df, platform_name):\n",
    "    \"\"\"Extrai gêneros individuais e conta por plataforma\"\"\"\n",
    "    all_genres = []\n",
    "    \n",
    "    for genres_str in df['genres'].dropna():\n",
    "        if pd.notna(genres_str):\n",
    "            genres_list = re.split(r'[,;|]', str(genres_str))\n",
    "            clean_genres = [genre.strip() for genre in genres_list if genre.strip()]\n",
    "            all_genres.extend(clean_genres)\n",
    "    \n",
    "    genre_counts = Counter(all_genres)\n",
    "    total_occurrences = sum(genre_counts.values())\n",
    "    \n",
    "    # Converter para DataFrame com percentuais\n",
    "    genre_df = pd.DataFrame(list(genre_counts.items()), columns=['genre', 'count'])\n",
    "    genre_df['percentage'] = (genre_df['count'] / total_occurrences) * 100\n",
    "    genre_df['platform'] = platform_name\n",
    "    genre_df = genre_df.sort_values('percentage', ascending=False)\n",
    "    \n",
    "    return genre_df"
   ]
  },
  {
   "cell_type": "code",
   "execution_count": 13,
   "id": "3248be04",
   "metadata": {},
   "outputs": [],
   "source": [
    "# Extrair dados de gênero por plataforma\n",
    "netflix_genres = extract_individual_genres(df_netflix, 'Netflix')\n",
    "hbo_genres = extract_individual_genres(df_hbo, 'HBO Max')\n",
    "apple_genres = extract_individual_genres(df_apple, 'Apple TV+')\n",
    "prime_genres = extract_individual_genres(df_prime, 'Prime Video')\n",
    "\n",
    "# Combinar dados de gêneros\n",
    "all_genres_data = pd.concat([netflix_genres, hbo_genres, apple_genres, prime_genres], ignore_index=True)"
   ]
  },
  {
   "cell_type": "code",
   "execution_count": null,
   "id": "ed9cff37",
   "metadata": {},
   "outputs": [],
   "source": []
  }
 ],
 "metadata": {
  "kernelspec": {
   "display_name": ".venv",
   "language": "python",
   "name": "python3"
  },
  "language_info": {
   "codemirror_mode": {
    "name": "ipython",
    "version": 3
   },
   "file_extension": ".py",
   "mimetype": "text/x-python",
   "name": "python",
   "nbconvert_exporter": "python",
   "pygments_lexer": "ipython3",
   "version": "3.11.9"
  }
 },
 "nbformat": 4,
 "nbformat_minor": 5
}
