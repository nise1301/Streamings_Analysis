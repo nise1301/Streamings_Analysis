{
 "cells": [
  {
   "cell_type": "code",
   "execution_count": null,
   "id": "002828ab",
   "metadata": {},
   "outputs": [],
   "source": [
    "%pip install pandas\n",
    "%pip install numpy \n",
    "%pip install matplotlib\n",
    "%pip install seaborn"
   ]
  },
  {
   "cell_type": "code",
   "execution_count": 1,
   "id": "d42724ac",
   "metadata": {},
   "outputs": [],
   "source": [
    "import pandas as pd\n",
    "import numpy as np  \n",
    "import matplotlib.pyplot as plt\n",
    "import seaborn as sns\n",
    "import re as re\n",
    "from collections import Counter"
   ]
  },
  {
   "cell_type": "code",
   "execution_count": 2,
   "id": "93e99f5b",
   "metadata": {},
   "outputs": [
    {
     "name": "stdout",
     "output_type": "stream",
     "text": [
      "📂 DATASETS CARREGADOS:\n",
      "Netflix: 21,391 registros\n",
      "HBO Max: 9,776 registros\n",
      "Apple TV: 18,692 registros\n",
      "Prime Video: 72,943 registros\n"
     ]
    }
   ],
   "source": [
    "# Carregar cada CSV limpo\n",
    "df_netflix = pd.read_csv('C:/Users/nise_/OneDrive/Documentos/Digital College/Python/DA_18/streaming/Dados_tratados/data_netflix_clean.csv')\n",
    "df_hbo = pd.read_csv('C:/Users/nise_/OneDrive/Documentos/Digital College/Python/DA_18/streaming/Dados_tratados/data_hbo_clean.csv')\n",
    "df_apple = pd.read_csv('C:/Users/nise_/OneDrive/Documentos/Digital College/Python/DA_18/streaming/Dados_tratados/df_apple_clean.csv')\n",
    "df_prime = pd.read_csv('C:/Users/nise_/OneDrive/Documentos/Digital College/Python/DA_18/streaming/Dados_tratados/data_prime_video_clean.csv')\n",
    "\n",
    "\n",
    "print(\"📂 DATASETS CARREGADOS:\")\n",
    "print(f\"Netflix: {len(df_netflix):,} registros\")\n",
    "print(f\"HBO Max: {len(df_hbo):,} registros\") \n",
    "print(f\"Apple TV: {len(df_apple):,} registros\")\n",
    "print(f\"Prime Video: {len(df_prime):,} registros\")"
   ]
  },
  {
   "cell_type": "code",
   "execution_count": 3,
   "id": "786e1e5e",
   "metadata": {},
   "outputs": [],
   "source": [
    "# Adicionar coluna de plataforma\n",
    "df_netflix['platform'] = 'Netflix'\n",
    "df_hbo['platform'] = 'HBO Max'\n",
    "df_apple['platform'] = 'Apple TV+'\n",
    "df_prime['platform'] = 'Prime Video'"
   ]
  },
  {
   "cell_type": "code",
   "execution_count": 4,
   "id": "ee395603",
   "metadata": {},
   "outputs": [
    {
     "name": "stdout",
     "output_type": "stream",
     "text": [
      "\n",
      "🎬 DATASET UNIFICADO CRIADO:\n",
      "Total de registros: 122,802\n",
      "Total de colunas: 8\n",
      "Colunas: ['title', 'type', 'genres', 'releaseYear', 'imdbId', 'imdbAverageRating', 'imdbNumVotes', 'platform']\n"
     ]
    }
   ],
   "source": [
    "\n",
    "# ==========================================\n",
    "# UNINDO OS DATASETS\n",
    "# ==========================================\n",
    "\n",
    "platforms = {\n",
    "    'Netflix': df_netflix,\n",
    "    'HBO Max': df_hbo, \n",
    "    'Apple TV': df_apple,\n",
    "    'Prime Video': df_prime\n",
    "}\n",
    "# Concatenar todos os DataFrames em um único DataFrame\n",
    "df_streaming = pd.concat([df_netflix, df_hbo, df_apple, df_prime], ignore_index=True)\n",
    "\n",
    "\n",
    "print(f\"\\n🎬 DATASET UNIFICADO CRIADO:\")\n",
    "print(f\"Total de registros: {len(df_streaming):,}\")\n",
    "print(f\"Total de colunas: {len(df_streaming.columns)}\")\n",
    "print(f\"Colunas: {list(df_streaming.columns)}\")\n"
   ]
  },
  {
   "cell_type": "code",
   "execution_count": null,
   "id": "0fd28e84",
   "metadata": {},
   "outputs": [],
   "source": []
  }
 ],
 "metadata": {
  "kernelspec": {
   "display_name": ".venv",
   "language": "python",
   "name": "python3"
  },
  "language_info": {
   "codemirror_mode": {
    "name": "ipython",
    "version": 3
   },
   "file_extension": ".py",
   "mimetype": "text/x-python",
   "name": "python",
   "nbconvert_exporter": "python",
   "pygments_lexer": "ipython3",
   "version": "3.11.9"
  }
 },
 "nbformat": 4,
 "nbformat_minor": 5
}
